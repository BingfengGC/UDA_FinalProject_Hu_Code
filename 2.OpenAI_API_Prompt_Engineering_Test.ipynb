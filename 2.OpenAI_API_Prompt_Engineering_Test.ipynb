{
 "cells": [
  {
   "cell_type": "markdown",
   "metadata": {},
   "source": [
    "# OpenAI prompt engineering test\n",
    "\n",
    "### Name: Bingfeng Hu\n",
    "### CID: 01137798\n",
    "\n",
    "I declare that the below is of my own work, and I have worked on this assignment independently. Please see the cell below for package dependencies, uncomment to install the package dependencies.\n",
    "\n",
    "In this notebook we test out the openAI APIs to help us to label our unlabelled news data. In particular, we look at the code to call the model APIs, how to speed up the calls to save time, engineer the prompt to get the best sentiment labels from the best possible OpenAI Chat models.\n",
    "\n",
    "## Workflow\n",
    "\n",
    "Take the filtered data from the initial EDA and then run the workflow below.\n",
    "\n",
    "Test out openAI Code workflow for openAI\n",
    "\n"
   ]
  },
  {
   "cell_type": "code",
   "execution_count": 8,
   "metadata": {},
   "outputs": [
    {
     "data": {
      "text/plain": [
       "True"
      ]
     },
     "execution_count": 8,
     "metadata": {},
     "output_type": "execute_result"
    }
   ],
   "source": [
    "from dotenv import load_dotenv\n",
    "\n",
    "# load the openai api key needed from .env to call openAI models from the API\n",
    "load_dotenv()"
   ]
  },
  {
   "cell_type": "code",
   "execution_count": 13,
   "metadata": {},
   "outputs": [],
   "source": [
    "import os\n",
    "from openai import OpenAI\n",
    "\n",
    "import pandas as pd\n",
    "import numpy as np\n",
    "\n",
    "# allow for asyncio\n",
    "import asyncio\n",
    "from openai import AsyncOpenAI"
   ]
  },
  {
   "cell_type": "markdown",
   "metadata": {},
   "source": [
    "# Testing the model\n",
    "\n",
    "Testing out the model for use case\n",
    "https://github.com/openai/openai-python\n"
   ]
  },
  {
   "cell_type": "code",
   "execution_count": 10,
   "metadata": {},
   "outputs": [],
   "source": [
    "\n",
    "\n",
    "client = OpenAI(\n",
    "    # This is the default and can be omitted\n",
    "    api_key=os.environ.get(\"OPENAI_API_KEY\"),\n",
    ")\n",
    "\n",
    "chat_completion = client.chat.completions.create(\n",
    "    messages=[\n",
    "        {\n",
    "            \"role\": \"user\",\n",
    "            \"content\": \"Say this is a test\",\n",
    "        }\n",
    "    ],\n",
    "    model=\"gpt-3.5-turbo\",\n",
    ")"
   ]
  },
  {
   "cell_type": "code",
   "execution_count": 11,
   "metadata": {},
   "outputs": [
    {
     "data": {
      "text/plain": [
       "'This is a test.'"
      ]
     },
     "execution_count": 11,
     "metadata": {},
     "output_type": "execute_result"
    }
   ],
   "source": [
    "chat_completion.choices[0].message.content"
   ]
  },
  {
   "cell_type": "code",
   "execution_count": 17,
   "metadata": {},
   "outputs": [],
   "source": [
    "client = AsyncOpenAI(\n",
    "    # This is the default and can be omitted\n",
    "    api_key=os.environ.get(\"OPENAI_API_KEY\"),\n",
    ")\n"
   ]
  },
  {
   "cell_type": "code",
   "execution_count": 19,
   "metadata": {},
   "outputs": [
    {
     "name": "stdout",
     "output_type": "stream",
     "text": [
      "ChatCompletion(id='chatcmpl-8a9ysyWzYE3KJkaN6L5HLFNnhmg0N', choices=[Choice(finish_reason='stop', index=0, logprobs=None, message=ChatCompletionMessage(content='This is a test.', role='assistant', function_call=None, tool_calls=None))], created=1703628866, model='gpt-3.5-turbo-0613', object='chat.completion', system_fingerprint=None, usage=CompletionUsage(completion_tokens=5, prompt_tokens=12, total_tokens=17))\n",
      "ChatCompletion(id='chatcmpl-8a9ys7ylbOEkEhMpCsbETlslJ0pn2', choices=[Choice(finish_reason='stop', index=0, logprobs=None, message=ChatCompletionMessage(content='Hello Arunav!', role='assistant', function_call=None, tool_calls=None))], created=1703628866, model='gpt-3.5-turbo-0613', object='chat.completion', system_fingerprint=None, usage=CompletionUsage(completion_tokens=5, prompt_tokens=13, total_tokens=18))\n",
      "ChatCompletion(id='chatcmpl-8a9ysqSo5R7ygTVH5pdgsHg292MnQ', choices=[Choice(finish_reason='stop', index=0, logprobs=None, message=ChatCompletionMessage(content='Hello Gerardo! How can I assist you today?', role='assistant', function_call=None, tool_calls=None))], created=1703628866, model='gpt-3.5-turbo-0613', object='chat.completion', system_fingerprint=None, usage=CompletionUsage(completion_tokens=11, prompt_tokens=12, total_tokens=23))\n"
     ]
    }
   ],
   "source": [
    "# change the section here such that we have dictionary below instead for each completion.\n",
    "\n",
    "\n",
    "async def get_chat_completion(semaphore: asyncio.Semaphore, message: str):\n",
    "    async with semaphore:\n",
    "        return await client.chat.completions.create(\n",
    "            messages=[\n",
    "                {\n",
    "                    \"role\": \"user\",\n",
    "                    \"content\": message,\n",
    "                }\n",
    "            ],\n",
    "            model=\"gpt-3.5-turbo\",\n",
    "        )\n",
    "\n",
    "# change this function to include a dataframe passed in instead!!\n",
    "\n",
    "async def main(max_concurrent_requests: int) -> None:\n",
    "    # Semaphore to control the number of concurrent requests\n",
    "    semaphore = asyncio.Semaphore(max_concurrent_requests)\n",
    "\n",
    "    # List of messages to be sent\n",
    "    messages = [\"Say this is a test\", \"Say hello to Arunav\", \"Say hello to Gerardo\"]\n",
    "\n",
    "    # Using asyncio.gather with semaphore to limit concurrent requests\n",
    "    tasks = [get_chat_completion(semaphore, message) for message in messages]\n",
    "    results = await asyncio.gather(*tasks)\n",
    "\n",
    "    # Processing the results\n",
    "    for result in results:\n",
    "        print(result)\n",
    "\n",
    "# Specify the maximum number of concurrent requests\n",
    "max_concurrent_requests = 5\n",
    "await main(max_concurrent_requests) # asyncio.run(main())"
   ]
  },
  {
   "cell_type": "code",
   "execution_count": 1,
   "metadata": {},
   "outputs": [],
   "source": [
    "# add code here to compare the two models\n",
    "\n",
    "# take the news from the filtered news before to do this."
   ]
  },
  {
   "cell_type": "markdown",
   "metadata": {},
   "source": [
    "# Test improve the sentiment analysis and prompting\n",
    "\n",
    "Set up prototype prompting for use later"
   ]
  },
  {
   "cell_type": "code",
   "execution_count": 195,
   "metadata": {},
   "outputs": [],
   "source": [
    "# change the section here such that we have dictionary below instead for each completion.\n",
    "\n",
    "\n",
    "async def get_news_sentiment(semaphore: asyncio.Semaphore, message: str):\n",
    "    async with semaphore:\n",
    "\n",
    "        response = await client.chat.completions.create(\n",
    "            messages=[\n",
    "                {\n",
    "                    \"role\": \"system\",\n",
    "                    \"content\": \"You are a news sentiment classifier, only return values -1, 0, 1 for negative, neutral and positive sentiment. Return only values -1, 0, 1\",\n",
    "                },\n",
    "                {\n",
    "                    \"role\": \"user\",\n",
    "                    \"content\": message,\n",
    "                }\n",
    "            ],\n",
    "            model=\"gpt-4-1106-preview\",\n",
    "            seed=30224\n",
    "        )\n",
    "\n",
    "        #return response\n",
    "\n",
    "        return {\"text\": message, \"prediction\": response.choices[0].message.content}\n",
    "\n",
    "# change this function to include a dataframe passed in instead!!\n",
    "\n",
    "async def main_sentiment_labelling(max_concurrent_requests: int, messages) -> None:\n",
    "    # Semaphore to control the number of concurrent requests\n",
    "    semaphore = asyncio.Semaphore(max_concurrent_requests)\n",
    "\n",
    "    # List of messages to be sent\n",
    "    # messages = [\"Say this is a test\", \"Say hello to Arunav\", \"Say hello to Gerardo\"]\n",
    "\n",
    "    # Using asyncio.gather with semaphore to limit concurrent requests\n",
    "    tasks = [get_news_sentiment(semaphore, message) for message in messages]\n",
    "    results = await asyncio.gather(*tasks)\n",
    "\n",
    "\n",
    "    return list(results)\n",
    "\n"
   ]
  },
  {
   "cell_type": "markdown",
   "metadata": {},
   "source": [
    "# Prototype sentiment labels"
   ]
  },
  {
   "cell_type": "code",
   "execution_count": 196,
   "metadata": {},
   "outputs": [
    {
     "data": {
      "text/plain": [
       "[{'text': 'I am very happy', 'prediction': '1'},\n",
       " {'text': 'I am very angry', 'prediction': '-1'},\n",
       " {'text': \"Meh I don't feel anything\", 'prediction': '0'}]"
      ]
     },
     "execution_count": 196,
     "metadata": {},
     "output_type": "execute_result"
    }
   ],
   "source": [
    "# Specify the maximum number of concurrent requests\n",
    "max_concurrent_requests = 5\n",
    "await main_sentiment_labelling(max_concurrent_requests, [\"I am very happy\", \"I am very angry\", \"Meh I don't feel anything\"]) # asyncio.run(main())\n",
    "\n",
    "# complex prompts seems to confuse the model - use a simple one - given simple task!!"
   ]
  },
  {
   "cell_type": "code",
   "execution_count": 197,
   "metadata": {},
   "outputs": [],
   "source": [
    "file_name = \"processed_data/compiled_news_all_bert_compliant.json\"\n",
    "\n",
    "# df_useful_sources_short_articles.to_json(file_name, orient=\"records\")\n",
    "\n",
    "df_useful_sources_short_articles = pd.read_json(file_name)"
   ]
  },
  {
   "cell_type": "code",
   "execution_count": 198,
   "metadata": {},
   "outputs": [
    {
     "name": "stdout",
     "output_type": "stream",
     "text": [
      "<class 'pandas.core.frame.DataFrame'>\n",
      "RangeIndex: 5748 entries, 0 to 5747\n",
      "Data columns (total 45 columns):\n",
      " #   Column                             Non-Null Count  Dtype \n",
      "---  ------                             --------------  ----- \n",
      " 0   organizations                      5748 non-null   object\n",
      " 1   uuid                               5748 non-null   object\n",
      " 2   author                             5748 non-null   object\n",
      " 3   url                                5748 non-null   object\n",
      " 4   ord_in_thread                      5748 non-null   int64 \n",
      " 5   title                              5748 non-null   object\n",
      " 6   locations                          5748 non-null   object\n",
      " 7   highlightText                      5748 non-null   object\n",
      " 8   language                           5748 non-null   object\n",
      " 9   persons                            5748 non-null   object\n",
      " 10  text                               5748 non-null   object\n",
      " 11  external_links                     5748 non-null   object\n",
      " 12  published                          5748 non-null   object\n",
      " 13  crawled                            5748 non-null   object\n",
      " 14  highlightTitle                     5748 non-null   object\n",
      " 15  thread_social_gplus_shares         5748 non-null   int64 \n",
      " 16  thread_social_pinterest_shares     5748 non-null   int64 \n",
      " 17  thread_social_vk_shares            5748 non-null   int64 \n",
      " 18  thread_social_linkedin_shares      5748 non-null   int64 \n",
      " 19  thread_social_facebook_likes       5748 non-null   int64 \n",
      " 20  thread_social_facebook_shares      5748 non-null   int64 \n",
      " 21  thread_social_facebook_comments    5748 non-null   int64 \n",
      " 22  thread_social_stumbledupon_shares  5748 non-null   int64 \n",
      " 23  thread_site_full                   5748 non-null   object\n",
      " 24  thread_main_image                  5748 non-null   object\n",
      " 25  thread_site_section                5748 non-null   object\n",
      " 26  thread_section_title               5748 non-null   object\n",
      " 27  thread_url                         5748 non-null   object\n",
      " 28  thread_country                     5748 non-null   object\n",
      " 29  thread_title                       5748 non-null   object\n",
      " 30  thread_performance_score           5748 non-null   int64 \n",
      " 31  thread_site                        5748 non-null   object\n",
      " 32  thread_participants_count          5748 non-null   int64 \n",
      " 33  thread_title_full                  5748 non-null   object\n",
      " 34  thread_spam_score                  5748 non-null   int64 \n",
      " 35  thread_site_type                   5748 non-null   object\n",
      " 36  thread_published                   5748 non-null   object\n",
      " 37  thread_replies_count               5748 non-null   int64 \n",
      " 38  thread_uuid                        5748 non-null   object\n",
      " 39  entities_persons                   5748 non-null   object\n",
      " 40  entities_locations                 5748 non-null   object\n",
      " 41  entities_organizations             5748 non-null   object\n",
      " 42  word_count                         5748 non-null   int64 \n",
      " 43  text_full                          5748 non-null   object\n",
      " 44  token_count                        5748 non-null   int64 \n",
      "dtypes: int64(15), object(30)\n",
      "memory usage: 2.0+ MB\n"
     ]
    }
   ],
   "source": [
    "df_useful_sources_short_articles.info()"
   ]
  },
  {
   "cell_type": "code",
   "execution_count": 199,
   "metadata": {},
   "outputs": [
    {
     "data": {
      "text/plain": [
       "array(['Anadarko not interested in selling down Mozambique stake -CEO\\nHOUSTON, July 29 Anadarko Petroleum Corp has no interest in selling down its stake in its planned liquefied natural gas (LNG) project in Mozambique, the company\\'s chief executive said on Wednesday.\\nThe Houston company\\'s desire to sell some of its interest in the project \"approaches zero,\" CEO Al Walker told investors on a conference call to discuss second-quarter earnings.\\nAnadarko has a 26.5 percent stake in the Area 1 license in the Rovuma Basin offshore Mozambique.\\n(Reporting by Anna Driver )',\n",
       "       'Greek debt restructuring is inevitable, says IMF chief\\nWASHINGTON, July 29 Greece\\'s international creditors will have no choice but to accept an easing of the terms of Athens\\' debts, the head of the International Monetary Fund said on Wednesday.\\n\"It\\'s inevitable that there is an element of debt restructuring,\" IMF Managing Director Christine Lagarde said at a news conference.\\nThe IMF has teamed up with the European Union and the European Central Bank in recent years to lend Greece money repeatedly to save it from a debt crisis.\\nThe IMF and the United States argue that Greece\\'s loan burdens are unsustainable and have advocated for an easing of some of the terms of Greece\\'s debts to international creditors. European governments have resisted the idea as they negotiate with Athens on further bailout funds.\\n\"For Greece to succeed and for any program to fly, a significant debt restructuring should take place,\" Lagarde said.\\nIn wide-ranging comments, Lagarde said Ukraine appeared to be making progress in talks with private creditors to restructure its debts.\\nShe also said China\\'s policy efforts to fight a plunge in its stock market were unlikely to affect the IMF\\'s decision on whether to include the yuan currency in its special drawing rights basket of currencies.\\n\"Is that going to impact our assessment of the drawing rights basket? I don\\'t think so,\" she said. \"We will continue to do the work, and I don\\'t think we\\'ll be unduly derailed by some market variations that we\\'ve seen recently.\" (Reporting by Jason Lange and Michael Flaherty ; Editing by Susan Heavey and Dan Grebler)',\n",
       "       'Brazil says remains committed with fiscal austerity\\nBRASILIA, July 28 Brazil\\'s government said on Tuesday it remains committed with fiscal austerity and structural changes aimed at improving public spending after Standard & Poor\\'s warned it could lose its investment grade.\\nThe Finance Ministry said in a statement it will go ahead with plans to speed up collection of tax debts and to sell stakes in state-run companies to increase revenues.\\nIt also said it will move ahead with \"structural fiscal actions\" to strengthen the adjustment of the economy. (Reporting by Marcelo Teixeira and Alonso Soto ; Editing by Lisa Shumaker)',\n",
       "       'Chevron to lay off 1,500 workers amidst oil price slump\\nJuly 28 Chevron Corp, the second-largest U.S. oil company, said on Tuesday it would lay off 1,500 employees, about 2 percent of its global work force, as it trims costs to offset declining crude prices.\\nNearly all of the layoffs will be in Texas, where the company has expanded in recent years to develop land in the Permian shale formation, and California, where Chevron is headquartered.\\nFifty international employees will be laid off and roughly 600 contractor positions will be canceled, the company said in a statement.\\nOf the 1,500 jobs being eliminated, 270 are currently empty and will not be filled, Chevron said.\\nChevron had previously labeled the Permian as one of its premium assets.\\nOil prices have plunged by about 55 percent in the past year due to oversupply concerns both in the United States and internationally.\\n\"In light of the current market environment, Chevron is taking action to reduce internal costs in multiple operating units and the corporate center,\" Chevron spokeswoman Melissa Ritchie said in a statement.\\nShares of Chevron rose 3.6 percent to close Tuesday at $92.40. The stock has lost 17 percent of its value so far this year. (Reporting by Ernest Scheyder ; Editing by Tom Brown )',\n",
       "       'Junk Bondholders Weigh Emerging-Market Exit From Benchmark Index\\nBank of America Corp. will decide this week whether to remove emerging-market companies from its $2.2 trillion global high-yield index.\\nThe lender asked junk-bond investors to vote on the matter as part of an annual review of its benchmarks after a slew of downgrades to Brazilian and Russian companies boosted their share of the index. Bank of America said it will implement any changes at the end of September.\\nThe decision pits investors who want the measure to better reflect the corporate high-yield market against those seeking higher yields associated with extra political risk. A removal of emerging-market companies, which accounted for 18 percent of the index at the end of March, may trigger price swings if bondholders are forced to sell those securities and raise funding costs for excluded companies.\\n“It may be detrimental if emerging-market companies were removed from the index because this could narrow the investor base,” said Ulrich Gerhard, a London-based fund manager at Insight Investment Management, which oversees about 397 billion pounds ($619 billion) of assets. “Once we see the outcome of the review we’ll decide whether we change the benchmark for the fund or if we need to change guidelines in terms of taking non-index positions.”\\nPetrobras Downgrade The portion of emerging-market companies in Bank of America Merrill Lynch’s Global High Yield Index has swelled since they were first included four years ago.\\nPetroleo Brasileiro SA became the biggest index member after the Brazilian oil producer was cut to junk by Moody’s Investors Service in February, with $44 billion of debt, according to Bank of America. Russian companies represent the largest emerging-market nation at 4.4 percent, followed by Brazil at 3.8 percent. U.S. companies make up 52 percent.\\nBank of America is considering removing emerging-market companies from sub-indexes such as the euro high-yield index, even if it keeps them in the global benchmark.\\n“It can be tricky when you have an index that suddenly has a big weight from countries like Brazil and Russia,” said Roman Gaiser, who oversees 3.5 billion euros of assets as the Geneva-based head of high yield at Pictet Asset Management SA. “In those countries, the sovereign risk overwhelmingly dominates the corporate risk.”',\n",
       "       'BP less likely to be acquired after $18.7 bln settlement - CEO\\n49.90 -0.100 \\nLONDON, July 28 (Reuters) - BP is less likely to be acquired following its $18.7 billion settlement over the 2010 Macondo oil spill, Chief Executive Officer Bob Dudley said on Tuesday. \\nThe has been much speculation in recent months that the British oil and gas giant could become an acquisition target for a larger rival, leading the British government to warn it would oppose any takeover bid. \\nWhile some analysts expected BP to be even more attractive following its settlement with the U.S. authorities this month to resolve most claims from the Gulf of Mexico oil spill, Dudley sought to quell any speculation. \\n\"As a result of the settlement in the U.S. it is actually less likely that someone would want to acquire BP and it is certainly not our intention to put the company up for sale,\" Dudley told reporters. \\nMerger and acquisition activity in the energy sector has been rekindled as company valuations slumped along with oil prices, highlighted by Royal Dutch Shell (Xetra: R6C1.DE - news ) \\'s $70 billion bid to acquire BG Group (LSE: BG.L - news ) earlier this year. \\nBP shares are still some 35 percent below their value before the 2010 Macondo rig explosion and spill that killed 11 workers. The company\\'s second-quarter profit slumped by nearly two thirds from a year ago as it took a huge $10.8 billion charge related to the settlement. (Reporting by Ron Bousso; editing by David Clarke)',\n",
       "       'UK\\'s \\'big four\\' grocers lose more ground to discounters - Kantar\\nLONDON, July 28 All of Britain\\'s so-called \"big four\" supermarkets saw sales fall over the last 12 weeks in an overall market that grew marginally, with discounters continuing to take share from their bigger rivals, industry data showed on Tuesday.\\nKantar Worldpanel said Asda, the British arm of U.S. retailer Wal-Mart, suffered the biggest sales fall over the 12 weeks to July 19 with a decline of 2.7 percent.\\nThat meant Sainsbury\\'s regained its No. 2 status with a market share of 16.5 percent compared with Asda\\'s 16.4 percent, even though its sales fell 0.3 percent in the period.\\nMarket leader Tesco\\'s sales declined 0.6 percent, while No. 4 player Morrisons\\' fell 0.1 percent.\\nIn contrast, discounters Aldi and Lidl posted sales growth of 16.6 percent and 11.3 percent respectively, taking their market shares up to 5.6 percent and 4.0 percent.\\nOverall grocery sales increased by 0.8 percent over the 12 weeks compared with a year ago, while grocery deflation was 1.6 percent.\\n(Reporting by James Davey )',\n",
       "       'Biden, former critic of NY\\'s LaGuardia Airport, upbeat on redesign\\nJuly 27 Vice President Joe Biden, who last year compared New York\\'s LaGuardia Airport to \"some third-world country,\" on Monday was back in New York to tout a project that will rebuild it from the ground up.\\n\"It\\'s the greatest city in the world, and it requires a 21st-century infrastructure,\" Biden said at a news conference of the airport, which consistently ranks among the worst in the United States.\\nBiden and New York Governor Andrew Cuomo highlighted the role of Delta Air Lines Inc, the airport\\'s biggest carrier, which has agreed to be a \"full partner\" in the redesign, said Cuomo.\\nAn existing $3.6 billion public-private partnership is already under way to rebuild LaGuardia\\'s Central Terminal, notorious to travelers for its leaky ceilings, threadbare atmosphere and meager food and public transit options.\\nIt was not immediately clear what was new in the details Biden and Cuomo described. The governor\\'s office did not reply to a request for clarification.\\nThe plan calls for linking LaGuardia\\'s new Central Terminal to Delta\\'s Terminals C and D.\\n\"We look forward to working in partnership with the governor\\'s design commission on a comprehensive and complementary redevelopment plan that realizes our mutual goals and benefits all New York passengers,\" Delta\\'s President Ed Bastian said in a news release.\\nThe long-awaited overhaul of LaGuardia\\'s Central Terminal took a leap forward in May when officials selected a Swedish builder consortium, Skanska AB\\'s LaGuardia Gateway Partners, to design, build, operate and maintain the project.\\nEight miles from midtown Manhattan, the closest airport to New York City handled nearly 27 million passengers in 2014, according to the Port Authority of New York and New Jersey, which runs it. (Reporting by Sebastien Malo in New York; Additional reporting by Hilary Russ and Jeffrey Dastin; Editing by Cynthia Osterman )',\n",
       "       'Century Aluminum to shut down Ravenswood smelter immediately\\nJuly 28 Century Aluminum said it will shut its Ravenswood smelter in West Virginia immediately as it had failed to secure competitive power supply amid tough market conditions.\\nAluminium producers are seeing their profits dwindle due to sinking prices of the metal, which are currently near six-year lows. Premiums, a surcharge received by producers for delivery of metal, have also more than halved this year.\\nThe Ravenswood smelter has been idled since February 2009.\\n\"The decision to permanently close the Ravenswood plant is based on the inability to secure a competitive power contract for the smelter, compounded by challenging aluminum market conditions largely driven by increased exports of aluminum from China,\" Century said in a statement late on Monday.\\n\"As a result, the economics of restarting and operating the facility are unfavorable,\" it added. Century is controlled by Swiss commodities trade house Glencore.\\nThe combined impact of stronger output and a sharper-than-expected slowdown in top producer China has sent a market surplus in aluminium ballooning this year, a quarterly Reuters poll showed earlier this month.\\nProducers, including Alcoa Inc and Rusal, have recently blasted China\\'s swelling exports as a factor behind plunging primary aluminium prices. China\\'s exports of semi-finished aluminium, used in beer cans and window frames, grew by 30 percent in the first half.\\nAsked if he was considering launching a trade case against China, Alcoa Inc Chief Executive Officer Klaus Kleinfeld said earlier this month the company was considering all options.\\nRusal has also raised China\\'s swelling aluminium exports with the Australian government, and wants the issue tabled at the next meeting of the world\\'s top customs body. (Reporting by Melanie Burton; Editing by Himani Sarkar)',\n",
       "       'FT Reports Axel Springer In Talks To Be Owner\\nTip : Use comma (,) to separate multiple quotes. Learn more... \\nThu, Jul 23, 2015, 14:39 BST - UK Markets close in 1 hr 51 mins FT Reports Axel Springer In Talks To Be Owner By (c) Sky News 2015 | Sky News – 4 minutes 11 seconds ago View Photo \\n\\nThe owner of the Financial Times (FT) has confirmed it is in \"advanced\" discussions on its sale, with the newspaper reporting Axel Springer is the front-runner. \\nPearson (Xetra: 858266 - news ) released a statement to the Stock Exchange moments after the Reuters news agency, citing a source close to the deal, reported that it was to sell the financial title to a \"global, digital news company\". \\nThe statement said: \"Pearson notes recent press speculation and confirms that it is in advanced discussions regarding the potential disposal of FT Group although there is no certainty that the discussions will lead to a transaction.\" \\nThe FT later reported that German publisher Axel Springer, the owner of Bild, was on course to agree a deal. \\nPrevious reports from other news organisations have suggested a host of potential suitors, including Bloomberg, Thomson Reuters (Dusseldorf: TOC.DU - news ) and even Buzzfeed, which denied any interest. \\nPearson is understood to be wanting to concentrate its interests on education services in emerging markets. \\nIt also holds a significant stake in the publisher, Penguin Random House. \\nPearson\\'s share price leapt when confirmation of the sale talks came through. \\nThe FT Group is expected to secure a value of up to £1bn.'],\n",
       "      dtype=object)"
      ]
     },
     "execution_count": 199,
     "metadata": {},
     "output_type": "execute_result"
    }
   ],
   "source": [
    "df_useful_sources_short_articles[\"text_full\"].values[:10]"
   ]
  },
  {
   "cell_type": "code",
   "execution_count": 200,
   "metadata": {},
   "outputs": [
    {
     "name": "stdout",
     "output_type": "stream",
     "text": [
      "FT Reports Axel Springer In Talks To Be Owner\n",
      "Tip : Use comma (,) to separate multiple quotes. Learn more... \n",
      "Thu, Jul 23, 2015, 14:39 BST - UK Markets close in 1 hr 51 mins FT Reports Axel Springer In Talks To Be Owner By (c) Sky News 2015 | Sky News – 4 minutes 11 seconds ago View Photo \n",
      "\n",
      "The owner of the Financial Times (FT) has confirmed it is in \"advanced\" discussions on its sale, with the newspaper reporting Axel Springer is the front-runner. \n",
      "Pearson (Xetra: 858266 - news ) released a statement to the Stock Exchange moments after the Reuters news agency, citing a source close to the deal, reported that it was to sell the financial title to a \"global, digital news company\". \n",
      "The statement said: \"Pearson notes recent press speculation and confirms that it is in advanced discussions regarding the potential disposal of FT Group although there is no certainty that the discussions will lead to a transaction.\" \n",
      "The FT later reported that German publisher Axel Springer, the owner of Bild, was on course to agree a deal. \n",
      "Previous reports from other news organisations have suggested a host of potential suitors, including Bloomberg, Thomson Reuters (Dusseldorf: TOC.DU - news ) and even Buzzfeed, which denied any interest. \n",
      "Pearson is understood to be wanting to concentrate its interests on education services in emerging markets. \n",
      "It also holds a significant stake in the publisher, Penguin Random House. \n",
      "Pearson's share price leapt when confirmation of the sale talks came through. \n",
      "The FT Group is expected to secure a value of up to £1bn.\n"
     ]
    }
   ],
   "source": [
    "print(df_useful_sources_short_articles[\"text_full\"].values[:10][-1])"
   ]
  },
  {
   "cell_type": "code",
   "execution_count": 201,
   "metadata": {},
   "outputs": [
    {
     "name": "stdout",
     "output_type": "stream",
     "text": [
      "Chevron to lay off 1,500 workers amidst oil price slump\n",
      "July 28 Chevron Corp, the second-largest U.S. oil company, said on Tuesday it would lay off 1,500 employees, about 2 percent of its global work force, as it trims costs to offset declining crude prices.\n",
      "Nearly all of the layoffs will be in Texas, where the company has expanded in recent years to develop land in the Permian shale formation, and California, where Chevron is headquartered.\n",
      "Fifty international employees will be laid off and roughly 600 contractor positions will be canceled, the company said in a statement.\n",
      "Of the 1,500 jobs being eliminated, 270 are currently empty and will not be filled, Chevron said.\n",
      "Chevron had previously labeled the Permian as one of its premium assets.\n",
      "Oil prices have plunged by about 55 percent in the past year due to oversupply concerns both in the United States and internationally.\n",
      "\"In light of the current market environment, Chevron is taking action to reduce internal costs in multiple operating units and the corporate center,\" Chevron spokeswoman Melissa Ritchie said in a statement.\n",
      "Shares of Chevron rose 3.6 percent to close Tuesday at $92.40. The stock has lost 17 percent of its value so far this year. (Reporting by Ernest Scheyder ; Editing by Tom Brown )\n"
     ]
    }
   ],
   "source": [
    "print(df_useful_sources_short_articles[\"text_full\"].values[:10][3])"
   ]
  },
  {
   "cell_type": "code",
   "execution_count": 202,
   "metadata": {},
   "outputs": [
    {
     "name": "stdout",
     "output_type": "stream",
     "text": [
      "Junk Bondholders Weigh Emerging-Market Exit From Benchmark Index\n",
      "Bank of America Corp. will decide this week whether to remove emerging-market companies from its $2.2 trillion global high-yield index.\n",
      "The lender asked junk-bond investors to vote on the matter as part of an annual review of its benchmarks after a slew of downgrades to Brazilian and Russian companies boosted their share of the index. Bank of America said it will implement any changes at the end of September.\n",
      "The decision pits investors who want the measure to better reflect the corporate high-yield market against those seeking higher yields associated with extra political risk. A removal of emerging-market companies, which accounted for 18 percent of the index at the end of March, may trigger price swings if bondholders are forced to sell those securities and raise funding costs for excluded companies.\n",
      "“It may be detrimental if emerging-market companies were removed from the index because this could narrow the investor base,” said Ulrich Gerhard, a London-based fund manager at Insight Investment Management, which oversees about 397 billion pounds ($619 billion) of assets. “Once we see the outcome of the review we’ll decide whether we change the benchmark for the fund or if we need to change guidelines in terms of taking non-index positions.”\n",
      "Petrobras Downgrade The portion of emerging-market companies in Bank of America Merrill Lynch’s Global High Yield Index has swelled since they were first included four years ago.\n",
      "Petroleo Brasileiro SA became the biggest index member after the Brazilian oil producer was cut to junk by Moody’s Investors Service in February, with $44 billion of debt, according to Bank of America. Russian companies represent the largest emerging-market nation at 4.4 percent, followed by Brazil at 3.8 percent. U.S. companies make up 52 percent.\n",
      "Bank of America is considering removing emerging-market companies from sub-indexes such as the euro high-yield index, even if it keeps them in the global benchmark.\n",
      "“It can be tricky when you have an index that suddenly has a big weight from countries like Brazil and Russia,” said Roman Gaiser, who oversees 3.5 billion euros of assets as the Geneva-based head of high yield at Pictet Asset Management SA. “In those countries, the sovereign risk overwhelmingly dominates the corporate risk.”\n"
     ]
    }
   ],
   "source": [
    "print(df_useful_sources_short_articles[\"text_full\"].values[:10][4])"
   ]
  },
  {
   "cell_type": "code",
   "execution_count": 203,
   "metadata": {},
   "outputs": [
    {
     "name": "stdout",
     "output_type": "stream",
     "text": [
      "BP less likely to be acquired after $18.7 bln settlement - CEO\n",
      "49.90 -0.100 \n",
      "LONDON, July 28 (Reuters) - BP is less likely to be acquired following its $18.7 billion settlement over the 2010 Macondo oil spill, Chief Executive Officer Bob Dudley said on Tuesday. \n",
      "The has been much speculation in recent months that the British oil and gas giant could become an acquisition target for a larger rival, leading the British government to warn it would oppose any takeover bid. \n",
      "While some analysts expected BP to be even more attractive following its settlement with the U.S. authorities this month to resolve most claims from the Gulf of Mexico oil spill, Dudley sought to quell any speculation. \n",
      "\"As a result of the settlement in the U.S. it is actually less likely that someone would want to acquire BP and it is certainly not our intention to put the company up for sale,\" Dudley told reporters. \n",
      "Merger and acquisition activity in the energy sector has been rekindled as company valuations slumped along with oil prices, highlighted by Royal Dutch Shell (Xetra: R6C1.DE - news ) 's $70 billion bid to acquire BG Group (LSE: BG.L - news ) earlier this year. \n",
      "BP shares are still some 35 percent below their value before the 2010 Macondo rig explosion and spill that killed 11 workers. The company's second-quarter profit slumped by nearly two thirds from a year ago as it took a huge $10.8 billion charge related to the settlement. (Reporting by Ron Bousso; editing by David Clarke)\n"
     ]
    }
   ],
   "source": [
    "print(df_useful_sources_short_articles[\"text_full\"].values[:10][5])"
   ]
  },
  {
   "cell_type": "code",
   "execution_count": 204,
   "metadata": {},
   "outputs": [],
   "source": [
    "max_concurrent_requests = 5\n",
    "res = await main_sentiment_labelling(max_concurrent_requests, df_useful_sources_short_articles[\"text_full\"].values[:20]) # asyncio.run(main())"
   ]
  },
  {
   "cell_type": "code",
   "execution_count": 205,
   "metadata": {},
   "outputs": [
    {
     "data": {
      "text/plain": [
       "[{'text': 'Anadarko not interested in selling down Mozambique stake -CEO\\nHOUSTON, July 29 Anadarko Petroleum Corp has no interest in selling down its stake in its planned liquefied natural gas (LNG) project in Mozambique, the company\\'s chief executive said on Wednesday.\\nThe Houston company\\'s desire to sell some of its interest in the project \"approaches zero,\" CEO Al Walker told investors on a conference call to discuss second-quarter earnings.\\nAnadarko has a 26.5 percent stake in the Area 1 license in the Rovuma Basin offshore Mozambique.\\n(Reporting by Anna Driver )',\n",
       "  'prediction': '1'},\n",
       " {'text': 'Greek debt restructuring is inevitable, says IMF chief\\nWASHINGTON, July 29 Greece\\'s international creditors will have no choice but to accept an easing of the terms of Athens\\' debts, the head of the International Monetary Fund said on Wednesday.\\n\"It\\'s inevitable that there is an element of debt restructuring,\" IMF Managing Director Christine Lagarde said at a news conference.\\nThe IMF has teamed up with the European Union and the European Central Bank in recent years to lend Greece money repeatedly to save it from a debt crisis.\\nThe IMF and the United States argue that Greece\\'s loan burdens are unsustainable and have advocated for an easing of some of the terms of Greece\\'s debts to international creditors. European governments have resisted the idea as they negotiate with Athens on further bailout funds.\\n\"For Greece to succeed and for any program to fly, a significant debt restructuring should take place,\" Lagarde said.\\nIn wide-ranging comments, Lagarde said Ukraine appeared to be making progress in talks with private creditors to restructure its debts.\\nShe also said China\\'s policy efforts to fight a plunge in its stock market were unlikely to affect the IMF\\'s decision on whether to include the yuan currency in its special drawing rights basket of currencies.\\n\"Is that going to impact our assessment of the drawing rights basket? I don\\'t think so,\" she said. \"We will continue to do the work, and I don\\'t think we\\'ll be unduly derailed by some market variations that we\\'ve seen recently.\" (Reporting by Jason Lange and Michael Flaherty ; Editing by Susan Heavey and Dan Grebler)',\n",
       "  'prediction': '1'},\n",
       " {'text': 'Brazil says remains committed with fiscal austerity\\nBRASILIA, July 28 Brazil\\'s government said on Tuesday it remains committed with fiscal austerity and structural changes aimed at improving public spending after Standard & Poor\\'s warned it could lose its investment grade.\\nThe Finance Ministry said in a statement it will go ahead with plans to speed up collection of tax debts and to sell stakes in state-run companies to increase revenues.\\nIt also said it will move ahead with \"structural fiscal actions\" to strengthen the adjustment of the economy. (Reporting by Marcelo Teixeira and Alonso Soto ; Editing by Lisa Shumaker)',\n",
       "  'prediction': '1'},\n",
       " {'text': 'Chevron to lay off 1,500 workers amidst oil price slump\\nJuly 28 Chevron Corp, the second-largest U.S. oil company, said on Tuesday it would lay off 1,500 employees, about 2 percent of its global work force, as it trims costs to offset declining crude prices.\\nNearly all of the layoffs will be in Texas, where the company has expanded in recent years to develop land in the Permian shale formation, and California, where Chevron is headquartered.\\nFifty international employees will be laid off and roughly 600 contractor positions will be canceled, the company said in a statement.\\nOf the 1,500 jobs being eliminated, 270 are currently empty and will not be filled, Chevron said.\\nChevron had previously labeled the Permian as one of its premium assets.\\nOil prices have plunged by about 55 percent in the past year due to oversupply concerns both in the United States and internationally.\\n\"In light of the current market environment, Chevron is taking action to reduce internal costs in multiple operating units and the corporate center,\" Chevron spokeswoman Melissa Ritchie said in a statement.\\nShares of Chevron rose 3.6 percent to close Tuesday at $92.40. The stock has lost 17 percent of its value so far this year. (Reporting by Ernest Scheyder ; Editing by Tom Brown )',\n",
       "  'prediction': '-1'},\n",
       " {'text': 'Junk Bondholders Weigh Emerging-Market Exit From Benchmark Index\\nBank of America Corp. will decide this week whether to remove emerging-market companies from its $2.2 trillion global high-yield index.\\nThe lender asked junk-bond investors to vote on the matter as part of an annual review of its benchmarks after a slew of downgrades to Brazilian and Russian companies boosted their share of the index. Bank of America said it will implement any changes at the end of September.\\nThe decision pits investors who want the measure to better reflect the corporate high-yield market against those seeking higher yields associated with extra political risk. A removal of emerging-market companies, which accounted for 18 percent of the index at the end of March, may trigger price swings if bondholders are forced to sell those securities and raise funding costs for excluded companies.\\n“It may be detrimental if emerging-market companies were removed from the index because this could narrow the investor base,” said Ulrich Gerhard, a London-based fund manager at Insight Investment Management, which oversees about 397 billion pounds ($619 billion) of assets. “Once we see the outcome of the review we’ll decide whether we change the benchmark for the fund or if we need to change guidelines in terms of taking non-index positions.”\\nPetrobras Downgrade The portion of emerging-market companies in Bank of America Merrill Lynch’s Global High Yield Index has swelled since they were first included four years ago.\\nPetroleo Brasileiro SA became the biggest index member after the Brazilian oil producer was cut to junk by Moody’s Investors Service in February, with $44 billion of debt, according to Bank of America. Russian companies represent the largest emerging-market nation at 4.4 percent, followed by Brazil at 3.8 percent. U.S. companies make up 52 percent.\\nBank of America is considering removing emerging-market companies from sub-indexes such as the euro high-yield index, even if it keeps them in the global benchmark.\\n“It can be tricky when you have an index that suddenly has a big weight from countries like Brazil and Russia,” said Roman Gaiser, who oversees 3.5 billion euros of assets as the Geneva-based head of high yield at Pictet Asset Management SA. “In those countries, the sovereign risk overwhelmingly dominates the corporate risk.”',\n",
       "  'prediction': '0'},\n",
       " {'text': 'BP less likely to be acquired after $18.7 bln settlement - CEO\\n49.90 -0.100 \\nLONDON, July 28 (Reuters) - BP is less likely to be acquired following its $18.7 billion settlement over the 2010 Macondo oil spill, Chief Executive Officer Bob Dudley said on Tuesday. \\nThe has been much speculation in recent months that the British oil and gas giant could become an acquisition target for a larger rival, leading the British government to warn it would oppose any takeover bid. \\nWhile some analysts expected BP to be even more attractive following its settlement with the U.S. authorities this month to resolve most claims from the Gulf of Mexico oil spill, Dudley sought to quell any speculation. \\n\"As a result of the settlement in the U.S. it is actually less likely that someone would want to acquire BP and it is certainly not our intention to put the company up for sale,\" Dudley told reporters. \\nMerger and acquisition activity in the energy sector has been rekindled as company valuations slumped along with oil prices, highlighted by Royal Dutch Shell (Xetra: R6C1.DE - news ) \\'s $70 billion bid to acquire BG Group (LSE: BG.L - news ) earlier this year. \\nBP shares are still some 35 percent below their value before the 2010 Macondo rig explosion and spill that killed 11 workers. The company\\'s second-quarter profit slumped by nearly two thirds from a year ago as it took a huge $10.8 billion charge related to the settlement. (Reporting by Ron Bousso; editing by David Clarke)',\n",
       "  'prediction': '-1'},\n",
       " {'text': 'UK\\'s \\'big four\\' grocers lose more ground to discounters - Kantar\\nLONDON, July 28 All of Britain\\'s so-called \"big four\" supermarkets saw sales fall over the last 12 weeks in an overall market that grew marginally, with discounters continuing to take share from their bigger rivals, industry data showed on Tuesday.\\nKantar Worldpanel said Asda, the British arm of U.S. retailer Wal-Mart, suffered the biggest sales fall over the 12 weeks to July 19 with a decline of 2.7 percent.\\nThat meant Sainsbury\\'s regained its No. 2 status with a market share of 16.5 percent compared with Asda\\'s 16.4 percent, even though its sales fell 0.3 percent in the period.\\nMarket leader Tesco\\'s sales declined 0.6 percent, while No. 4 player Morrisons\\' fell 0.1 percent.\\nIn contrast, discounters Aldi and Lidl posted sales growth of 16.6 percent and 11.3 percent respectively, taking their market shares up to 5.6 percent and 4.0 percent.\\nOverall grocery sales increased by 0.8 percent over the 12 weeks compared with a year ago, while grocery deflation was 1.6 percent.\\n(Reporting by James Davey )',\n",
       "  'prediction': '-1'},\n",
       " {'text': 'Biden, former critic of NY\\'s LaGuardia Airport, upbeat on redesign\\nJuly 27 Vice President Joe Biden, who last year compared New York\\'s LaGuardia Airport to \"some third-world country,\" on Monday was back in New York to tout a project that will rebuild it from the ground up.\\n\"It\\'s the greatest city in the world, and it requires a 21st-century infrastructure,\" Biden said at a news conference of the airport, which consistently ranks among the worst in the United States.\\nBiden and New York Governor Andrew Cuomo highlighted the role of Delta Air Lines Inc, the airport\\'s biggest carrier, which has agreed to be a \"full partner\" in the redesign, said Cuomo.\\nAn existing $3.6 billion public-private partnership is already under way to rebuild LaGuardia\\'s Central Terminal, notorious to travelers for its leaky ceilings, threadbare atmosphere and meager food and public transit options.\\nIt was not immediately clear what was new in the details Biden and Cuomo described. The governor\\'s office did not reply to a request for clarification.\\nThe plan calls for linking LaGuardia\\'s new Central Terminal to Delta\\'s Terminals C and D.\\n\"We look forward to working in partnership with the governor\\'s design commission on a comprehensive and complementary redevelopment plan that realizes our mutual goals and benefits all New York passengers,\" Delta\\'s President Ed Bastian said in a news release.\\nThe long-awaited overhaul of LaGuardia\\'s Central Terminal took a leap forward in May when officials selected a Swedish builder consortium, Skanska AB\\'s LaGuardia Gateway Partners, to design, build, operate and maintain the project.\\nEight miles from midtown Manhattan, the closest airport to New York City handled nearly 27 million passengers in 2014, according to the Port Authority of New York and New Jersey, which runs it. (Reporting by Sebastien Malo in New York; Additional reporting by Hilary Russ and Jeffrey Dastin; Editing by Cynthia Osterman )',\n",
       "  'prediction': '1'},\n",
       " {'text': 'Century Aluminum to shut down Ravenswood smelter immediately\\nJuly 28 Century Aluminum said it will shut its Ravenswood smelter in West Virginia immediately as it had failed to secure competitive power supply amid tough market conditions.\\nAluminium producers are seeing their profits dwindle due to sinking prices of the metal, which are currently near six-year lows. Premiums, a surcharge received by producers for delivery of metal, have also more than halved this year.\\nThe Ravenswood smelter has been idled since February 2009.\\n\"The decision to permanently close the Ravenswood plant is based on the inability to secure a competitive power contract for the smelter, compounded by challenging aluminum market conditions largely driven by increased exports of aluminum from China,\" Century said in a statement late on Monday.\\n\"As a result, the economics of restarting and operating the facility are unfavorable,\" it added. Century is controlled by Swiss commodities trade house Glencore.\\nThe combined impact of stronger output and a sharper-than-expected slowdown in top producer China has sent a market surplus in aluminium ballooning this year, a quarterly Reuters poll showed earlier this month.\\nProducers, including Alcoa Inc and Rusal, have recently blasted China\\'s swelling exports as a factor behind plunging primary aluminium prices. China\\'s exports of semi-finished aluminium, used in beer cans and window frames, grew by 30 percent in the first half.\\nAsked if he was considering launching a trade case against China, Alcoa Inc Chief Executive Officer Klaus Kleinfeld said earlier this month the company was considering all options.\\nRusal has also raised China\\'s swelling aluminium exports with the Australian government, and wants the issue tabled at the next meeting of the world\\'s top customs body. (Reporting by Melanie Burton; Editing by Himani Sarkar)',\n",
       "  'prediction': '-1'},\n",
       " {'text': 'FT Reports Axel Springer In Talks To Be Owner\\nTip : Use comma (,) to separate multiple quotes. Learn more... \\nThu, Jul 23, 2015, 14:39 BST - UK Markets close in 1 hr 51 mins FT Reports Axel Springer In Talks To Be Owner By (c) Sky News 2015 | Sky News – 4 minutes 11 seconds ago View Photo \\n\\nThe owner of the Financial Times (FT) has confirmed it is in \"advanced\" discussions on its sale, with the newspaper reporting Axel Springer is the front-runner. \\nPearson (Xetra: 858266 - news ) released a statement to the Stock Exchange moments after the Reuters news agency, citing a source close to the deal, reported that it was to sell the financial title to a \"global, digital news company\". \\nThe statement said: \"Pearson notes recent press speculation and confirms that it is in advanced discussions regarding the potential disposal of FT Group although there is no certainty that the discussions will lead to a transaction.\" \\nThe FT later reported that German publisher Axel Springer, the owner of Bild, was on course to agree a deal. \\nPrevious reports from other news organisations have suggested a host of potential suitors, including Bloomberg, Thomson Reuters (Dusseldorf: TOC.DU - news ) and even Buzzfeed, which denied any interest. \\nPearson is understood to be wanting to concentrate its interests on education services in emerging markets. \\nIt also holds a significant stake in the publisher, Penguin Random House. \\nPearson\\'s share price leapt when confirmation of the sale talks came through. \\nThe FT Group is expected to secure a value of up to £1bn.',\n",
       "  'prediction': '1'},\n",
       " {'text': 'Shell banned from Arctic oil drilling without emergency equipment\\nTip : Use comma (,) to separate multiple quotes. Learn more... \\nThu, Jul 23, 2015, 02:25 BST - UK Markets open in 5 hrs 35 mins Shell banned from Arctic oil drilling without emergency equipment By Reuters | Telegraph – 1 hour 30 minutes ago -48.00 \\nIcebreaker that holds the required equipment has been sent for repairs, which could take weeks \\nRoyal Dutch Shell has been granted two final permits to explore for crude in the Arctic this summer, but the US has banned the company from drilling for oil until emergency equipment arrives in the region. \\nThe US Interior Department\\'s Bureau of Safety and Environmental Enforcement (BSEE) conditionally granted Shell (LSE: RDSB.L - news ) permits for exploration in the Chukchi Sea off Alaska, in a season which sea ice limits from July until October. \\nHowever, Shell must have emergency equipment to contain a potential blown-out well deployable within 24 hours before drilling into the oil zone, the BSEE said. \\nShell discovered weeks ago that the Fennica icebreaker that holds the required equipment, called a capping stack, had a three-foot gash in it. \\n\"Without the required well control system in place, Shell will not be allowed to drill into oil-bearing zones,\" BSEE director Brian Salemo said. \\nShell sent the Fennica, which it is leasing, to Portland, Oregon, last week for repairs. Fixing the gash and sending it back could take weeks. \\nEnvironmentalists have criticised Shell\\'s drilling plans in the Arctic \\nShell spokeswoman Kelly op de Weegh said the Fennica\\'s \"stay in Portland will be determined by the time it takes to make a safe, permanent repair\". \\nIt is likely the icebreaker will return to the Chukchi before the preliminary drilling reaches the oil zone, expected sometime in August. \\n\"Once we have determined the area is clear of sea ice, support vessels are in place, and the Polar Pioneer (rig) is safely anchored over the well site, drilling will begin,\" Ms op de Weegh said. \\nShell has spent about $7bn on Arctic exploration but has produced no oil nor gas. If it finds the region to be rich in economically recoverable oil, production would not begin for at least a decade. \\nEnvironmentalists have criticised Shell\\'s drilling plans in the Arctic, which is home to whales, walrus and polar bears .',\n",
       "  'prediction': '-1'},\n",
       " {'text': \"Fracking: Cuadrilla appeals against Lancashire refusal\\n-1.70 \\nShale gas explorer says it is confident it will demonstrate that fracking is safe \\nShale gas explorer Cuadrilla has said it will appeal against Lancashire council's decision to reject its proposals to frack in the county. \\nThe company sought planning permission to frack at two sites, Preston New Road and Roseacre, but saw both thrown out by councillors last month despite the council’s planning officer recommending Preston New Road be given the go-ahead. \\nThe decisions came as a major setback for the Government’s hopes of kick-starting a shale gas industry in the UK. No fracking has taken place since Cuadrilla caused earthquakes attempting the process near Blackpool in 2011. \\nThe appeals are highly likely to result in public inquiries and could easily take a year to reach decisions, pushing any prospect of fracking at the Lancashire sites back to 2017 at the earliest. \\nFracking plans rejected: Lancashire council throws out Cuadrilla proposal - at it happened \\nThe Roseacre site was rejected unanimously after being recommended for refusal by the council planning officer due to concerns about the impact of traffic. \\nHowever the officer said there would be no “sustainable” reason to refuse the Preston New Road site. \\nProtesters outside Lancashire council during the vote \\nLegal advice obtained by the council ahead of the decision on the site warned councillors they were likely to lose at appeal and incur financial penalties, as well as having to represent themselves in person. \\nHowever councillors eventually voted by 9 to 3 to reject the plan, with two abstentions, following rival legal advice provided by Friends of the Earth that suggested there were legitimate grounds for refusal. \\nFrancis Egan, Cuadrilla chief executive, said: “We have given careful consideration to appeal the planning decisions taken by Lancashire County Council. This is a natural step in the democratic process for deciding any planning application.” \\nHe acknowledged that “some people would prefer that we did not appeal” but said he was “confident that we will demonstrate to Lancashire and the UK that shale gas exploration and fracking is not only safe but represents a very real opportunity to create jobs, fuel businesses, heat UK homes and stimulate significant local economic growth”. \\nCuadrilla is backed by Centrica (LSE: CNA.L - news ) , which bought a stake in the company’s exploration licences in 2013.\",\n",
       "  'prediction': '-1'},\n",
       " {'text': \"More Britons ditch their banks after new rules make switching easier\\nTip : Use comma (,) to separate multiple quotes. Learn more... \\nTue, Jul 21, 2015, 23:27 BST - UK Markets closed More Britons ditch their banks after new rules make switching easier Reuters - UK Focus – 26 minutes ago \\n* Santander, Halifax gain most customers \\n* Barclays (LSE: BARC.L - news ) has biggest net loss of customers \\nLONDON, July 22 (Reuters) - New (KOSDAQ: 160550.KQ - news ) rules making it easier for Britons to switch banks resulted in a 4 percent increase in customers moving accounts in the year to the end of June, the body overseeing the system said on Wednesday. \\nData from Bacs showed that there were 1.1 million switches compared with 1.06 million over the same period one year before. \\nThe new rules, introduced in October 2013, ensure customers can switch accounts within seven working days, with all outgoing and incoming payments automatically transferred. Bacs said 69 percent of Britons were now aware of the service compared with 58 percent in the month of its launch. \\nThe rules are part of measures designed to break the dominance of Britain's five biggest banks - Lloyds, RBS (LSE: RBS.L - news ) , Barclays, HSBC and Santander UK - which provide more than four out of five UK personal current accounts. \\nBritain's competition watchdog is investigating whether there is effective competition in the market for personal current accounts and is due to report its findings by the end of September. \\nThe Competition and Markets Authority (CMA) said in November that banks had not done enough to meet the needs of retail customers or small businesses. It could recommend banks are broken up to increase competition. \\nSantander attracted the most new net accounts, followed by Halifax, which is owned by Lloyds while Barclays (Swiss: BARC.SW - news ) and NatWest, owned by RBS, lost the most customers. \\nSantander has benefited from the popularity of its 1-2-3 current account, which pays higher-than-average interest rates on deposits of up to 20,000 pounds. Halifax has offered cash payments to new customers. (Reporting by Matt Scuffham; Editing by Elaine Hardcastle)\",\n",
       "  'prediction': '1'},\n",
       " {'text': 'S&P cut its rating on Shell after big BG merger\\nTip : Use comma (,) to separate multiple quotes. Learn more... \\nWed, Jul 22, 2015, 02:15 BST - UK Markets open in 5 hrs 45 mins S&P cut its rating on Shell after big BG merger Reuters - UK Focus – 4 hours ago 1,836.50 -1.50 \\nJuly 21 (Reuters) - Standard & Poors cut its rating on Royal Dutch Shell Plc by one notch to \\'AA minus\\' from \\'AA\\', citing a weaker financial risk profile, mainly due to soft oil prices, and continuing substantial capital expenditures. \\nThe rating agency said the outlook on the company is negative reflecting possible adverse effects on credit metrics if the large BG Group Plc (LSE: BG.L - news ) acquisition is finalized.( http://bit.ly/1GzvDlE ) \\nShell (LSE: RDSB.L - news ) announced in April that it has agreed to buy BG Group Plc for about 47 billion pounds, making it the first oil super-merger in a decade. \\nThe rating agency said the company\\'s outlook could be revised to stable if the BG acquisition does not proceed further. \\n\"Our rating on Shell does not factor in the BG acquisition at this stage, since the deal is yet to close. We understand that the acquisition is subject to numerous regulatory and shareholder approvals,\" the rating agency said on Tuesday. \\nHowever, the company\\'s long-term and short-term ratings, which have been under CreditWatch since April, are removed. \\nAlso, the rating on the company could be lowered further if the BG acquisition is finalized and further effects credit metrics of the company, S&P said in the note. \\nThe rating agency now anticipates a lower ratio of funds from operations to debt over 2015 to 2017 and assess the company\\'s financial risk profile as \"intermediate\" instead of \"modest.\" \\n(Reporting by Rishika Sadam in Bengaluru)',\n",
       "  'prediction': '-1'},\n",
       " {'text': \"UPDATE 1-Mexico's Cemex profit jumps but sales slump on Mexico, Europe\\n(Adds revenue, debt data)\\nMEXICO CITY, July 22 (Reuters) - Mexico's Cemex, one of the world's largest cement companies, on Wednesday reported a jump in quarterly profit but sales slumped on weakness in Mexico and northern Europe.\\nIt posted second-quarter revenue of $3.839 billion, down 7.6 percent on the same period last year, falling short of Reuters forecasts. It said net sales declined 9 percent for its Mexico unit and in northern Europe they fell by 21 percent.\\nThe company said net profit jumped 50 percent to $114 million, compared to $76 million in the same period a year earlier. Its United States unit saw operating earnings before interest, tax, depreciation and amortization grew 31 percent.\\nEarlier this year, Cemex, which has struggled with large debts since the 2007-09 global economic downturn, stepped up its effort to regain an investment-grade debt rating by vowing to cut costs and sell up to $1.5 billion in assets.\\nCemex said that it had refinanced approximately $1.937 billion of outstanding debt that matured in 2017, extending the maturity by three years. The lower interest rate on the debt will save it $20 million a year in financial expenses, it said.\\nIn March the company said it had earmarked $100 million of assets already for sale. (Reporting by Christine Murray and Gabriela Lopez Editing by Franklin Paul and W Simon)\",\n",
       "  'prediction': '-1'},\n",
       " {'text': 'Fed Makes China Construction Bank Fix Money-Laundering Controls\\nChina Construction Bank Corp. has been ordered to tighten money-laundering controls in its New York branch to resolve an enforcement action brought by the Federal Reserve and the New York Department of Financial Services.\\nThe bank, the world’s second-largest by assets, is working to address “deficiencies relating to the branch’s risk management and compliance” with the Bank Secrecy Act, the regulators said Tuesday in a statement that didn’t detail any wrongdoing. The order calls for better oversight of account holders and creation of a new internal audit program.\\nConstruction Bank, based in Beijing, has branches in 24 countries and offers corporate banking services, including deposits, trade finance, international settlement and syndicated loans to major Chinese firms and local companies. Its New York office is regulated by DFS and the Federal Reserve Bank of New York.\\nMildred Harper, chief compliance officer at the New York branch, declined immediate comment. Eric Kollig, a Fed spokesman, declined to comment further on the regulators’ actions.\\nThe bank this month appointed Wang Zuji, a former vice chairman of the China Insurance Regulatory Commission, as its president and vice chairman of the board, according to a statment. He signed the agreement with the Fed and DFS.',\n",
       "  'prediction': '1'},\n",
       " {'text': 'Topix Retreats First Time in Eight Days on Yen, Apple Results\\nJapanese stocks fell, with the Topix index dropping for the first time in eight days, as a stronger yen dragged exporters lower and suppliers to Apple Inc. declined after the smartphone maker posted weaker-than-expected results.\\nThe Topix index lost 0.7 percent to 1,661.89 as of 9:01 a.m. in Tokyo, after rising almost 6 percent since July 9. The Nikkei 225 Stock Average slipped 0.8 percent to 20,674.45. The yen traded at 123.88 per dollar after strengthening 0.3 percent Tuesday. Apple shares slumped 6.7 percent in extended U.S. trading after its revenue forecast missed estimates.\\nThe yen rose against the greenback as traders pared “some short-term overbuying” of the U.S. currency, said Hiroichi Nishi, a manager at SMBC Nikko Securities Inc. in Tokyo. “My view that the U.S. economy is gently recovering hasn’t changed, but earnings from companies such as Apple weren’t good, and it’s easier to take profit in exporters such as electronic-parts companies.”\\nApple forecast revenue of $49 billion to $51 billion in the quarter through September, below analyst estimates for $51.1 billion. The company said it sold 47.5 million iPhones in the period through June, while analyst had anticipated 48.8 million shipments.\\nAny indication of slowing demand for iPhones could spark concern that Apple is going to have a hard time selling more smartphones in the final months of the year, after the September debut of the latest version fueled record profits. That concern could ripple through Japanese suppliers, from Sharp Corp. to Japan Display Inc. and Minebea Co.\\nFutures on the Standard & Poor’s 500 Index dropped 0.4 percent after the underlying measure slipped 0.4 percent Tuesday. Contracts on the Nasdaq 100 Index, which counts Apple as its heaviest-weighted member, lost 1.1 percent.',\n",
       "  'prediction': '-1'},\n",
       " {'text': \"JGBs mixed after retreat by Treasuries, 20-year sale awaited\\nTOKYO, July 21 Benchmark 10-year Japanese government bond prices dipped on Tuesday, tracking an overnight retreat in U.S. Treasuries, but super long maturities bucked the trend on expectations that an upcoming 20-year sale will attract firm investor demand.\\nThe 10-year JGB yield edged up half a basis point to 0.425 percent, while the 20-year yield slipped half a basis point to 1.19 percent.\\nThe finance ministry will offer 1.2 trillion yen ($9.7 billion) of 20-year JGBs on Wednesday.\\nData released on Tuesday by the Japan Security Dealers' Association showed that trust banks bought a net 766 billion yen ($6.2 billion) of JGBs in June, after becoming net buyers in May for the first time in eight months.\\nDealers took it as a further sign that government bond selling by the Government Pension Investment Fund (GPIF) was petering out. GPIF, the world's largest public pension fund, entrusts trust banks with a portion of its assets for investment.\\nGPIF has steadily sold government debt this year in a bid to rebalance its bond-centric portfolio in favour of riskier assets.\\n($1 = 124.3600 yen) (Reporting by Tokyo markets team; Editing by Jacqueline Wong)\",\n",
       "  'prediction': '0'},\n",
       " {'text': 'Centrica tops FTSE fallers on unplanned North Morecambe gas outage\\nTip : Use comma (,) to separate multiple quotes. Learn more... \\nTue, Jul 21, 2015, 12:50 BST - UK Markets close in 3 hrs 40 mins Centrica tops FTSE fallers on unplanned North Morecambe gas outage By Michele Maatouk | Sharecast – 13 minutes ago 275.80 -7.2000 \\nLONDON (ShareCast) - (ShareCast News) - Centrica (LSE: CNA.L - news ) was the biggest faller on the FTSE 100 after an unplanned outage cut its North Morecambe gas sub-terminal output to zero on Tuesday. Centrica, the owner of British Gas, said gas production was cut off due to an \"offshore issue\". \\nFlows from the Barrow terminal, which includes the North Morecambe sub-terminal, were running at around 1m cubic metres per day compared with 5.2 mcm delivered on Monday. \\nAt 11:27, Centrica shares were down 2% at 277.30p. Tax cuts, pensions, childcare, online accounts and beer duty, here\\'s … Related Stock Articles Follow the quotes you care about most. Access timely news and investment updates to stay on top of the market. … More » Yahoo UK & Ireland Finance Terms \\nQuotes are real-time for NASDAQ, NYSE, and NYSEAmex when available. See also delay times for other exchanges . Quotes and other information supplied by independent providers identified on the Yahoo! Finance partner page . Quotes are updated automatically, but will be turned off after 25 minutes of inactivity. Quotes are delayed at least 15 minutes. All information provided \"as is\" for informational purposes only, not intended for trading purposes or advice. Neither Yahoo! nor any of independent providers is liable for any informational errors, incompleteness, or delays, or for any actions taken in reliance on information contained herein. By accessing the Yahoo! site, you agree not to redistribute the information found therein. \\nFundamental company data provided by Capital IQ . Historical chart data and daily updates provided by Commodity Systems, Inc. (CSI) . International historical chart data and daily updates provided by Morningstar, Inc . Yahoo! - News Network',\n",
       "  'prediction': '-1'},\n",
       " {'text': 'Microsoft Posts $3.2bn Loss In Second Quarter\\nTip : Use comma (,) to separate multiple quotes. Learn more... \\nTue, Jul 21, 2015, 21:37 BST - UK Markets closed Microsoft Posts $3.2bn Loss In Second Quarter By (c) Sky News 2015 | Sky News – 4 minutes 38 seconds ago View Photo \\n\\nMicrosoft (NasdaqGS: MSFT - news ) has announced a net loss of $3.2bn (£2.1bn), following a substantial writedown on the value of its smartphone business. \\nMore follows... Tax cuts, pensions, childcare, online accounts and beer duty, here\\'s … Related Stock Articles Follow the quotes you care about most. Access timely news and investment updates to stay on top of the market. … More » Yahoo UK & Ireland Finance Terms \\nQuotes are real-time for NASDAQ, NYSE, and NYSEAmex when available. See also delay times for other exchanges . Quotes and other information supplied by independent providers identified on the Yahoo! Finance partner page . Quotes are updated automatically, but will be turned off after 25 minutes of inactivity. Quotes are delayed at least 15 minutes. All information provided \"as is\" for informational purposes only, not intended for trading purposes or advice. Neither Yahoo! nor any of independent providers is liable for any informational errors, incompleteness, or delays, or for any actions taken in reliance on information contained herein. By accessing the Yahoo! site, you agree not to redistribute the information found therein. \\nFundamental company data provided by Capital IQ . Historical chart data and daily updates provided by Commodity Systems, Inc. (CSI) . International historical chart data and daily updates provided by Morningstar, Inc . Yahoo! - News Network',\n",
       "  'prediction': '-1'}]"
      ]
     },
     "execution_count": 205,
     "metadata": {},
     "output_type": "execute_result"
    }
   ],
   "source": [
    "res"
   ]
  },
  {
   "cell_type": "markdown",
   "metadata": {},
   "source": [
    "# Conclusion\n",
    "\n",
    "We can see in the above that the latest GPT-4 model `gpt-4-1106-preview` is able to perform sentiment analysis relatively well in our tests. Next let's try this on labelling the entire dataset of interest for training, validation, and testing."
   ]
  },
  {
   "cell_type": "code",
   "execution_count": 130,
   "metadata": {},
   "outputs": [
    {
     "data": {
      "text/plain": [
       "{'text': 'Junk Bondholders Weigh Emerging-Market Exit From Benchmark Index\\nBank of America Corp. will decide this week whether to remove emerging-market companies from its $2.2 trillion global high-yield index.\\nThe lender asked junk-bond investors to vote on the matter as part of an annual review of its benchmarks after a slew of downgrades to Brazilian and Russian companies boosted their share of the index. Bank of America said it will implement any changes at the end of September.\\nThe decision pits investors who want the measure to better reflect the corporate high-yield market against those seeking higher yields associated with extra political risk. A removal of emerging-market companies, which accounted for 18 percent of the index at the end of March, may trigger price swings if bondholders are forced to sell those securities and raise funding costs for excluded companies.\\n“It may be detrimental if emerging-market companies were removed from the index because this could narrow the investor base,” said Ulrich Gerhard, a London-based fund manager at Insight Investment Management, which oversees about 397 billion pounds ($619 billion) of assets. “Once we see the outcome of the review we’ll decide whether we change the benchmark for the fund or if we need to change guidelines in terms of taking non-index positions.”\\nPetrobras Downgrade The portion of emerging-market companies in Bank of America Merrill Lynch’s Global High Yield Index has swelled since they were first included four years ago.\\nPetroleo Brasileiro SA became the biggest index member after the Brazilian oil producer was cut to junk by Moody’s Investors Service in February, with $44 billion of debt, according to Bank of America. Russian companies represent the largest emerging-market nation at 4.4 percent, followed by Brazil at 3.8 percent. U.S. companies make up 52 percent.\\nBank of America is considering removing emerging-market companies from sub-indexes such as the euro high-yield index, even if it keeps them in the global benchmark.\\n“It can be tricky when you have an index that suddenly has a big weight from countries like Brazil and Russia,” said Roman Gaiser, who oversees 3.5 billion euros of assets as the Geneva-based head of high yield at Pictet Asset Management SA. “In those countries, the sovereign risk overwhelmingly dominates the corporate risk.”',\n",
       " 'prediction': '-1'}"
      ]
     },
     "execution_count": 130,
     "metadata": {},
     "output_type": "execute_result"
    }
   ],
   "source": [
    "res[4]"
   ]
  },
  {
   "cell_type": "code",
   "execution_count": 131,
   "metadata": {},
   "outputs": [
    {
     "data": {
      "text/plain": [
       "{'text': 'Chevron to lay off 1,500 workers amidst oil price slump\\nJuly 28 Chevron Corp, the second-largest U.S. oil company, said on Tuesday it would lay off 1,500 employees, about 2 percent of its global work force, as it trims costs to offset declining crude prices.\\nNearly all of the layoffs will be in Texas, where the company has expanded in recent years to develop land in the Permian shale formation, and California, where Chevron is headquartered.\\nFifty international employees will be laid off and roughly 600 contractor positions will be canceled, the company said in a statement.\\nOf the 1,500 jobs being eliminated, 270 are currently empty and will not be filled, Chevron said.\\nChevron had previously labeled the Permian as one of its premium assets.\\nOil prices have plunged by about 55 percent in the past year due to oversupply concerns both in the United States and internationally.\\n\"In light of the current market environment, Chevron is taking action to reduce internal costs in multiple operating units and the corporate center,\" Chevron spokeswoman Melissa Ritchie said in a statement.\\nShares of Chevron rose 3.6 percent to close Tuesday at $92.40. The stock has lost 17 percent of its value so far this year. (Reporting by Ernest Scheyder ; Editing by Tom Brown )',\n",
       " 'prediction': '-1'}"
      ]
     },
     "execution_count": 131,
     "metadata": {},
     "output_type": "execute_result"
    }
   ],
   "source": [
    "res[3]"
   ]
  }
 ],
 "metadata": {
  "kernelspec": {
   "display_name": "base",
   "language": "python",
   "name": "python3"
  },
  "language_info": {
   "codemirror_mode": {
    "name": "ipython",
    "version": 3
   },
   "file_extension": ".py",
   "mimetype": "text/x-python",
   "name": "python",
   "nbconvert_exporter": "python",
   "pygments_lexer": "ipython3",
   "version": "3.11.3"
  }
 },
 "nbformat": 4,
 "nbformat_minor": 2
}
