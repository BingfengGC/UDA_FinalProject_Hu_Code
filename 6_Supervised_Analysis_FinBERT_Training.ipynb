{
  "cells": [
    {
      "cell_type": "markdown",
      "metadata": {
        "id": "S5YqbXyJe7v7"
      },
      "source": [
        "# 6. Supervised Learning - Fine-tuning BERT (FinBERT) model using ChatGPT GPT-4 Labels\n",
        "\n",
        "### Name: Bingfeng Hu\n",
        "### CID: 01137798\n",
        "\n",
        "I declare that the below is of my own work, and I have worked on this assignment independently. Please see the cell below for package dependencies, uncomment to install the package dependencies.\n",
        "\n",
        "\n",
        "Please note that I am running the notebook on [Google Collab](https://colab.research.google.com/) to be able to train deep models on GPU (to fine tune the pretrained FinBERT model).\n",
        "\n",
        "For Collab - upload the contents of the `combined_data_output` folder on Google drive and run the Google Colab commands below to save the files in your Google Colab environment\n",
        "\n",
        "Here in particular we will take the training, validation and test sets which we've created from notebook 4 saved in the `combined_data_output` folder and use it to fine-tune a base BERT model using the Logistic Regression Model as a benchmark."
      ]
    },
    {
      "cell_type": "code",
      "execution_count": null,
      "metadata": {
        "id": "MRqmgf3We7wB"
      },
      "outputs": [],
      "source": [
        "# # Run following cell for package dependencies\n",
        "# !pip install jupyter pandas==2.1.1 seaborn==0.13.0\n",
        "# !pip install scikit-learn==1.3.2 nltk==3.8.1\n",
        "# !pip install torch torchvision transformers==4.35.2"
      ]
    },
    {
      "cell_type": "code",
      "execution_count": 1,
      "metadata": {
        "colab": {
          "base_uri": "https://localhost:8080/"
        },
        "id": "XE0C4ZA1e7wJ",
        "outputId": "3dd48029-f46a-4dae-b32e-40105eb4088f"
      },
      "outputs": [
        {
          "name": "stdout",
          "output_type": "stream",
          "text": [
            "Mounted at /content/gdrive\n"
          ]
        }
      ],
      "source": [
        "from google.colab import drive\n",
        "drive.mount('/content/gdrive')"
      ]
    },
    {
      "cell_type": "code",
      "execution_count": 2,
      "metadata": {
        "id": "r9g0Ej_ue7wO"
      },
      "outputs": [],
      "source": [
        "!mkdir combined_data_output\n",
        "!cp gdrive/MyDrive/combined_data_output/news_analysis_train_set.json combined_data_output/ # copy all the files over to the data folder from the question\n",
        "!cp gdrive/MyDrive/combined_data_output/news_analysis_validation_set.json combined_data_output/\n",
        "!cp gdrive/MyDrive/combined_data_output/news_analysis_test_set.json combined_data_output/"
      ]
    },
    {
      "cell_type": "code",
      "execution_count": 1,
      "metadata": {
        "id": "jRv0GG5We7wR"
      },
      "outputs": [],
      "source": [
        "import pandas as pd\n",
        "import numpy as np\n",
        "import os\n",
        "import json\n",
        "import matplotlib.pyplot as plt\n",
        "\n",
        "# basic sklearn preprocessing dependencies\n",
        "from sklearn.model_selection import train_test_split\n",
        "from sklearn.metrics import accuracy_score, f1_score\n",
        "\n",
        "import re\n",
        "import nltk\n",
        "\n",
        "\n",
        "# SET THE SEED for replication.\n",
        "SEED = 30224\n",
        "np.random.seed(SEED)"
      ]
    },
    {
      "cell_type": "code",
      "execution_count": 4,
      "metadata": {
        "id": "QvfzaoM7e7wU"
      },
      "outputs": [],
      "source": [
        "import string\n",
        "from nltk.corpus import stopwords\n",
        "from nltk.stem.porter import PorterStemmer\n",
        "\n",
        "from nltk.tokenize import sent_tokenize, word_tokenize\n",
        "\n",
        "import matplotlib.pyplot as plt\n",
        "import seaborn as sns\n",
        "\n",
        "from collections import Counter\n",
        "from sklearn.manifold import TSNE\n",
        "from sklearn.preprocessing import StandardScaler\n",
        "\n",
        "# setup additional dependencies for model training\n",
        "from sklearn.feature_extraction.text import TfidfVectorizer\n",
        "from sklearn.model_selection import train_test_split\n",
        "from sklearn.linear_model import LogisticRegression\n",
        "from sklearn.metrics import accuracy_score, precision_score, recall_score, f1_score"
      ]
    },
    {
      "cell_type": "markdown",
      "metadata": {
        "id": "jelbTPoue7wY"
      },
      "source": [
        "## 1. Load in the data - Training and Validation\n",
        "\n",
        "Take the training and test sets, and combine them together."
      ]
    },
    {
      "cell_type": "code",
      "execution_count": 5,
      "metadata": {
        "colab": {
          "base_uri": "https://localhost:8080/"
        },
        "id": "uzMcpHdXe7wZ",
        "outputId": "89745fcf-f685-48ca-a26a-2388c3ed1131"
      },
      "outputs": [
        {
          "data": {
            "text/plain": [
              "(2612, 47)"
            ]
          },
          "execution_count": 5,
          "metadata": {},
          "output_type": "execute_result"
        }
      ],
      "source": [
        "# set up the same data cleaner for sentiment analysis used for logistic regression\n",
        "news_train_df = pd.read_json(\"combined_data_output/news_analysis_train_set.json\")\n",
        "news_train_df.shape"
      ]
    },
    {
      "cell_type": "code",
      "execution_count": 6,
      "metadata": {
        "colab": {
          "base_uri": "https://localhost:8080/"
        },
        "id": "Ia89sOM-e7wb",
        "outputId": "60410ef9-4022-435a-bd98-8c26a32e7fe2"
      },
      "outputs": [
        {
          "data": {
            "text/plain": [
              "(653, 47)"
            ]
          },
          "execution_count": 6,
          "metadata": {},
          "output_type": "execute_result"
        }
      ],
      "source": [
        "news_validation_df = pd.read_json(\"combined_data_output/news_analysis_validation_set.json\")\n",
        "news_validation_df.shape"
      ]
    },
    {
      "cell_type": "code",
      "execution_count": 7,
      "metadata": {
        "colab": {
          "base_uri": "https://localhost:8080/"
        },
        "id": "Uy-6Uirle7we",
        "outputId": "0d0fa086-f747-4152-e5c3-23316add78bc"
      },
      "outputs": [
        {
          "data": {
            "text/plain": [
              "2612"
            ]
          },
          "execution_count": 7,
          "metadata": {},
          "output_type": "execute_result"
        }
      ],
      "source": [
        "# training set max row\n",
        "train_max_row = news_train_df.shape[0]\n",
        "train_max_row"
      ]
    },
    {
      "cell_type": "code",
      "execution_count": 8,
      "metadata": {
        "colab": {
          "base_uri": "https://localhost:8080/"
        },
        "id": "yYsQx3kMe7wf",
        "outputId": "8eb13feb-18f0-44ed-bd3f-8b3125662e7a"
      },
      "outputs": [
        {
          "data": {
            "text/plain": [
              "(3265, 47)"
            ]
          },
          "execution_count": 8,
          "metadata": {},
          "output_type": "execute_result"
        }
      ],
      "source": [
        "news_df = pd.concat([news_train_df, news_validation_df], axis = 0)\n",
        "\n",
        "news_df.shape\n",
        "\n",
        "# use this for the relevant texts for news workflow"
      ]
    },
    {
      "cell_type": "code",
      "execution_count": 9,
      "metadata": {
        "id": "xKBNMOkWe7wh"
      },
      "outputs": [],
      "source": [
        "# nltk.download('wordnet')"
      ]
    },
    {
      "cell_type": "code",
      "execution_count": 10,
      "metadata": {
        "id": "LTYQRlMFe7wh"
      },
      "outputs": [],
      "source": [
        "own_stopword = {'a', 'about', 'above', 'after', 'again', 'against', 'ain', 'all', 'am', 'an', 'and', 'any', 'are', 'as', 'at', 'be', 'because',\n",
        "            'been', 'before', 'being', 'below', 'between', 'both', 'but', 'by', 'can', 'd', 'did', 'do', 'does', 'doing', 'down', 'during',\n",
        "            'each', 'few', 'for', 'from', 'further', 'had', 'has', 'have', 'having', 'he', 'her', 'here', 'hers', 'herself', 'him', 'himself',\n",
        "            'his', 'how', 'i', 'if', 'in', 'into', 'is', 'it', \"it's\", 'its', 'itself', 'just', 'll', 'm', 'ma', 'me', 'more', 'most', 'my', 'myself',\n",
        "            'no', 'nor', 'now', 'o', 'of', 'off', 'on', 'once', 'only', 'or', 'other', 'our', 'ours', 'ourselves', 'out', 'over', 'own', 're', 's', 'same',\n",
        "            'she', \"she's\", 'should', \"should've\", 'so', 'some', 'such', 't', 'than', 'that', \"that'll\", 'the', 'their', 'theirs', 'them', 'themselves',\n",
        "            'then', 'there', 'these', 'they', 'this', 'those', 'through', 'to', 'too', 'under', 'until', 'up', 've', 'very', 'was', 'we', 'were', 'what',\n",
        "            'when', 'where', 'which', 'while', 'who', 'whom', 'why', 'will', 'with', 'won', 'y', 'you', \"you'd\", \"you'll\", \"you're\", \"you've\", 'your',\n",
        "            'yours', 'yourself', 'yourselves'}"
      ]
    },
    {
      "cell_type": "code",
      "execution_count": 11,
      "metadata": {
        "id": "itMoFq7Ie7wi"
      },
      "outputs": [],
      "source": [
        "def data_cleaner_sa(text, return_tokens = False):\n",
        "    '''\n",
        "    Cleans the data from special characters, urls, punctuation marks, extra spaces.\n",
        "    Removes stopwords (Like if, it, the etc) and transforms the word in its native\n",
        "    form using Porter Stemmer.\n",
        "    '''\n",
        "    text = str(text).lower() # lowercase the string\n",
        "    text = re.sub('\\[.*?\\]', ' ', text) # replace punctuation with whitespaces.\n",
        "    text = re.sub('https?://\\S+|www\\.\\S+', ' ', text) # replacing urls with whitespaces.\n",
        "    text = re.sub('<.*?>+', ' ', text) # removes special characters\n",
        "    text = re.sub('[%s]' % re.escape(string.punctuation), ' ', text) # removes punctuation\n",
        "    text = re.sub('\\r', ' ', text) # removes new line characters\n",
        "    text = re.sub('\\n', ' ', text) # removes new line characters\n",
        "    text = re.sub('\\w*\\d\\w*', ' ', text)\n",
        "    #text = re.sub('–', ' ', text) # remove any additional characters we cannot remove\n",
        "    text = re.sub('[–£…»]', ' ', text) # remove any additional characters we cannot remove\n",
        "    text = text.split()\n",
        "\n",
        "    # removing stopwords.\n",
        "    text = [word for word in text if not word in own_stopword]\n",
        "\n",
        "    # stemming.\n",
        "    ps = PorterStemmer()\n",
        "    text = [ps.stem(word) for word in text]\n",
        "\n",
        "    if return_tokens:\n",
        "\n",
        "        # return relevant tokens here where needed\n",
        "        return text\n",
        "\n",
        "    #List to string.\n",
        "    text = ' '.join(text)\n",
        "\n",
        "    return text"
      ]
    },
    {
      "cell_type": "code",
      "execution_count": 12,
      "metadata": {
        "colab": {
          "base_uri": "https://localhost:8080/"
        },
        "id": "P04ROgxpe7wj",
        "outputId": "e423c6b5-9d1a-48ee-ca1c-febcee824251"
      },
      "outputs": [
        {
          "name": "stdout",
          "output_type": "stream",
          "text": [
            "<class 'pandas.core.frame.DataFrame'>\n",
            "Int64Index: 3265 entries, 0 to 652\n",
            "Data columns (total 47 columns):\n",
            " #   Column                             Non-Null Count  Dtype \n",
            "---  ------                             --------------  ----- \n",
            " 0   organizations                      3265 non-null   object\n",
            " 1   uuid                               3265 non-null   object\n",
            " 2   author                             3265 non-null   object\n",
            " 3   url                                3265 non-null   object\n",
            " 4   ord_in_thread                      3265 non-null   int64 \n",
            " 5   title                              3265 non-null   object\n",
            " 6   locations                          3265 non-null   object\n",
            " 7   highlightText                      3265 non-null   object\n",
            " 8   language                           3265 non-null   object\n",
            " 9   persons                            3265 non-null   object\n",
            " 10  text                               3265 non-null   object\n",
            " 11  external_links                     3265 non-null   object\n",
            " 12  published                          3265 non-null   object\n",
            " 13  crawled                            3265 non-null   object\n",
            " 14  highlightTitle                     3265 non-null   object\n",
            " 15  thread_social_gplus_shares         3265 non-null   int64 \n",
            " 16  thread_social_pinterest_shares     3265 non-null   int64 \n",
            " 17  thread_social_vk_shares            3265 non-null   int64 \n",
            " 18  thread_social_linkedin_shares      3265 non-null   int64 \n",
            " 19  thread_social_facebook_likes       3265 non-null   int64 \n",
            " 20  thread_social_facebook_shares      3265 non-null   int64 \n",
            " 21  thread_social_facebook_comments    3265 non-null   int64 \n",
            " 22  thread_social_stumbledupon_shares  3265 non-null   int64 \n",
            " 23  thread_site_full                   3265 non-null   object\n",
            " 24  thread_main_image                  3265 non-null   object\n",
            " 25  thread_site_section                3265 non-null   object\n",
            " 26  thread_section_title               3265 non-null   object\n",
            " 27  thread_url                         3265 non-null   object\n",
            " 28  thread_country                     3265 non-null   object\n",
            " 29  thread_title                       3265 non-null   object\n",
            " 30  thread_performance_score           3265 non-null   int64 \n",
            " 31  thread_site                        3265 non-null   object\n",
            " 32  thread_participants_count          3265 non-null   int64 \n",
            " 33  thread_title_full                  3265 non-null   object\n",
            " 34  thread_spam_score                  3265 non-null   int64 \n",
            " 35  thread_site_type                   3265 non-null   object\n",
            " 36  thread_published                   3265 non-null   object\n",
            " 37  thread_replies_count               3265 non-null   int64 \n",
            " 38  thread_uuid                        3265 non-null   object\n",
            " 39  entities_persons                   3265 non-null   object\n",
            " 40  entities_locations                 3265 non-null   object\n",
            " 41  entities_organizations             3265 non-null   object\n",
            " 42  word_count                         3265 non-null   int64 \n",
            " 43  text_full                          3265 non-null   object\n",
            " 44  token_count                        3265 non-null   int64 \n",
            " 45  prediction                         3265 non-null   int64 \n",
            " 46  text_full_raw_preprocessed         3265 non-null   object\n",
            "dtypes: int64(16), object(31)\n",
            "memory usage: 1.2+ MB\n"
          ]
        }
      ],
      "source": [
        "news_df.info()"
      ]
    },
    {
      "cell_type": "code",
      "execution_count": 13,
      "metadata": {
        "colab": {
          "base_uri": "https://localhost:8080/"
        },
        "id": "Z-Udk0Qee7wl",
        "outputId": "1010e5f5-4791-49d0-9cea-42d4a8ca1b35"
      },
      "outputs": [
        {
          "data": {
            "text/plain": [
              "2612"
            ]
          },
          "execution_count": 13,
          "metadata": {},
          "output_type": "execute_result"
        }
      ],
      "source": [
        "train_max_row"
      ]
    },
    {
      "cell_type": "markdown",
      "metadata": {
        "id": "9JDu9-Npe7wn"
      },
      "source": [
        "## 2. Training Logistic Regression Model"
      ]
    },
    {
      "cell_type": "code",
      "execution_count": 14,
      "metadata": {
        "id": "jfwGy1lOe7wo"
      },
      "outputs": [],
      "source": [
        "# get the texts for logistic regression with this workflow\n",
        "texts = news_df[\"text_full_raw_preprocessed\"].to_list()\n",
        "labels = news_df[\"prediction\"].astype(int).to_list()\n",
        "# convert labels to 0 and 1 rather than 1 and -1\n",
        "labels = [1 if x == 1 else 0 for x in labels]"
      ]
    },
    {
      "cell_type": "code",
      "execution_count": 15,
      "metadata": {
        "colab": {
          "base_uri": "https://localhost:8080/"
        },
        "id": "z_eoR7-AnPwk",
        "outputId": "b3844ca3-d123-4044-c9d7-438f696b6dcb"
      },
      "outputs": [
        {
          "data": {
            "text/plain": [
              "[1, 1, 1, 0, 0, 0, 0, 0, 1, 1]"
            ]
          },
          "execution_count": 15,
          "metadata": {},
          "output_type": "execute_result"
        }
      ],
      "source": [
        "labels[:10]"
      ]
    },
    {
      "cell_type": "code",
      "execution_count": 16,
      "metadata": {
        "colab": {
          "base_uri": "https://localhost:8080/"
        },
        "id": "gZNdzeeNnJA6",
        "outputId": "4c9cfb52-cc26-4585-d680-5d0fb0400053"
      },
      "outputs": [
        {
          "data": {
            "text/plain": [
              "[1, 1, 1, -1, -1, -1, -1, -1, 1, 1]"
            ]
          },
          "execution_count": 16,
          "metadata": {},
          "output_type": "execute_result"
        }
      ],
      "source": [
        "news_df[\"prediction\"].astype(int).to_list()[:10] # correct so can run the rest of the code here"
      ]
    },
    {
      "cell_type": "code",
      "execution_count": 17,
      "metadata": {
        "colab": {
          "base_uri": "https://localhost:8080/"
        },
        "id": "D4CPcjzVe7wq",
        "outputId": "be1bb844-cec0-4296-e045-81a2c2cc6fa1"
      },
      "outputs": [
        {
          "data": {
            "text/plain": [
              "['aldermor profit doubl float thu aug bst uk market close aldermor profit doubl float tim wallac telegraph hour ago challeng bank increas mortgag sme lend keep cost challeng hamburg hm news bank aldermor doubl profit first half year attract mortgag small busi custom door first set interim financi result sinc float stock market march bank report underli pre tax profit doubl net interest incom shot new loan level increas period lend small busi climb residenti mortgag lend increas six month june time margin improv aldermor kept cost net interest margin expand “we’v abl hold margin we’v abl drive cost fund ” said chief execut phillip monk ad aldermor challeng big bank deposit well lend “we’v focus deposit sme badli serv liabil side asset side balanc sheet they’v come us partli innov allow open fund account within minut ” bank’ oper incom grew cost rose push cost incom ratio mr monk said bank target ratio less end would make far effici biggest bank sector aldermore’ stock market flotat initi struggl tough market condit forc cancel initi public offer octob float succeed march share price risen sinc stock increas public result beat analysts’ forecast around',\n",
              " 'india central bank cut key interest rate tue sep bst uk market open min india central bank cut key interest rate afp minut ago view photo india central bank cut interest rate basi point tuesday bid boost stutter growth inflat well target level reserv bank india rbi lower benchmark repo rate level lend commerci bank percent larger cut analyst expect tax cut pension childcar onlin account beer duti latest video follow quot care access time news invest updat stay top market yahoo uk ireland financ term',\n",
              " 'updat mexican jobless rate fall percent septemb mexico citi oct mexico jobless rate fell last month rais hope rebound consumpt latin america economi though unemploy still remain level prior global financi crisi mexico season adjust unemploy rate percent septemb nation statist agenc said friday unadjust rate drop expect percent reuter poll financ ministri expect economi grow around percent year economi expand percent sept aug sept jobless rate jobless rate season adjust report anna yukhananov edit w simon',\n",
              " 'turkey bank need prepar slower lend growth ecb paper frankfurt aug turkey bank system need prepar end rapid lend growth face risk rise extern fund need western balkan bank may struggl bad loan ecb paper say turkey enjoy rapid econom growth almost percent pace slow percent last year economist see sustain year miss govern percent target growth may acceler next year slightli invest growth may remain mute due lack structur reform europ weak economi violenc across turkey border syria iraq studi not offici view european central bank say turkish bank gener strong larg govern bond hold expos risk sovereign debt shock big increas foreign currenc loan corpor also vulner author said main challeng go forward achiev soft land regard pace credit extens regard headlin rate well specif segment foreign exchang lend corpor sector said paper examin bank potenti european union member countri still bank abil withstand shock appear high due consider capit buffer rel high profit paper ad balkan sever countri face financi stabil risk link weak econom dynam high rate non perform loan albania serbia montenegro appear particularli vulner regard paper said also note high loan deposit ratio bosnia herzegovina montenegro report balaz koranyi edit ruth pitchford',\n",
              " 'brazil keep key interest rate tue sep bst uk market close brazil keep key interest rate damian wroclavski afp minut ago view photo brazil central bank expect maintain key interest rate percent wednesday seven consecut hike aim hold back soar inflat weekli central bank survey economist tuesday said rais rate would not help brazil steep econom slowdown world seventh biggest economi recess predict extend previou rate rise not prevent steadi rise inflat current year high percent percent interest rate alreadi one highest big economi word crisi crop side otc itgl news not monetari polici go protect countri quickli reduc inflat said zeina latif chief economist xp investimento central bank clear question happen prolong paus reason think rais rate said analyst believ high interest rate gradual bring price rise new hike could riski']"
            ]
          },
          "execution_count": 17,
          "metadata": {},
          "output_type": "execute_result"
        }
      ],
      "source": [
        "lgr_preprocessed_text = [data_cleaner_sa(text) for text in texts]\n",
        "lgr_preprocessed_text[:5] # preprocessing seems good enough so we can pass in the values directly."
      ]
    },
    {
      "cell_type": "code",
      "execution_count": 18,
      "metadata": {
        "id": "LQ242StTe7ws"
      },
      "outputs": [],
      "source": [
        "lgr_vectoriser = TfidfVectorizer(max_features=1000) #' get the top 1000 words'\n",
        "X_lgr = lgr_vectoriser.fit_transform(lgr_preprocessed_text)"
      ]
    },
    {
      "cell_type": "code",
      "execution_count": 19,
      "metadata": {
        "colab": {
          "base_uri": "https://localhost:8080/"
        },
        "id": "T15PGtT-e7wt",
        "outputId": "a87990b4-0584-4cce-acab-0b6a2e686041"
      },
      "outputs": [
        {
          "data": {
            "text/plain": [
              "(3265, 1000)"
            ]
          },
          "execution_count": 19,
          "metadata": {},
          "output_type": "execute_result"
        }
      ],
      "source": [
        "X_lgr.shape"
      ]
    },
    {
      "cell_type": "code",
      "execution_count": 20,
      "metadata": {
        "colab": {
          "base_uri": "https://localhost:8080/"
        },
        "id": "pfg59Tbwe7wu",
        "outputId": "135e68c5-8b48-4a8b-b06f-8eecdea4efa9"
      },
      "outputs": [
        {
          "data": {
            "text/plain": [
              "((2612, 1000), (653, 1000))"
            ]
          },
          "execution_count": 20,
          "metadata": {},
          "output_type": "execute_result"
        }
      ],
      "source": [
        "X_lgr[:train_max_row,:].shape,X_lgr[train_max_row:,:].shape"
      ]
    },
    {
      "cell_type": "code",
      "execution_count": 21,
      "metadata": {
        "colab": {
          "base_uri": "https://localhost:8080/"
        },
        "id": "lgw_Pvnme7wv",
        "outputId": "f7f30e89-400b-40ec-ac9f-ebf897a80e78"
      },
      "outputs": [
        {
          "data": {
            "text/plain": [
              "(2612, 653)"
            ]
          },
          "execution_count": 21,
          "metadata": {},
          "output_type": "execute_result"
        }
      ],
      "source": [
        "len(labels[:train_max_row]), len(labels[train_max_row:])"
      ]
    },
    {
      "cell_type": "code",
      "execution_count": 22,
      "metadata": {
        "id": "NqEhexKee7ww"
      },
      "outputs": [],
      "source": [
        "# split the data into the train validation splits\n",
        "\n",
        "X_lgr_train, X_lgr_test, y_lgr_train, y_lgr_val = X_lgr[:train_max_row,:], X_lgr[train_max_row:,:], labels[:train_max_row], labels[train_max_row:]"
      ]
    },
    {
      "cell_type": "code",
      "execution_count": 23,
      "metadata": {
        "colab": {
          "base_uri": "https://localhost:8080/",
          "height": 75
        },
        "id": "ETeTGNt3e7ww",
        "outputId": "4e2e1f49-5e90-4e0d-9e44-95cd2a18072e"
      },
      "outputs": [
        {
          "data": {
            "text/html": [
              "<style>#sk-container-id-1 {color: black;background-color: white;}#sk-container-id-1 pre{padding: 0;}#sk-container-id-1 div.sk-toggleable {background-color: white;}#sk-container-id-1 label.sk-toggleable__label {cursor: pointer;display: block;width: 100%;margin-bottom: 0;padding: 0.3em;box-sizing: border-box;text-align: center;}#sk-container-id-1 label.sk-toggleable__label-arrow:before {content: \"▸\";float: left;margin-right: 0.25em;color: #696969;}#sk-container-id-1 label.sk-toggleable__label-arrow:hover:before {color: black;}#sk-container-id-1 div.sk-estimator:hover label.sk-toggleable__label-arrow:before {color: black;}#sk-container-id-1 div.sk-toggleable__content {max-height: 0;max-width: 0;overflow: hidden;text-align: left;background-color: #f0f8ff;}#sk-container-id-1 div.sk-toggleable__content pre {margin: 0.2em;color: black;border-radius: 0.25em;background-color: #f0f8ff;}#sk-container-id-1 input.sk-toggleable__control:checked~div.sk-toggleable__content {max-height: 200px;max-width: 100%;overflow: auto;}#sk-container-id-1 input.sk-toggleable__control:checked~label.sk-toggleable__label-arrow:before {content: \"▾\";}#sk-container-id-1 div.sk-estimator input.sk-toggleable__control:checked~label.sk-toggleable__label {background-color: #d4ebff;}#sk-container-id-1 div.sk-label input.sk-toggleable__control:checked~label.sk-toggleable__label {background-color: #d4ebff;}#sk-container-id-1 input.sk-hidden--visually {border: 0;clip: rect(1px 1px 1px 1px);clip: rect(1px, 1px, 1px, 1px);height: 1px;margin: -1px;overflow: hidden;padding: 0;position: absolute;width: 1px;}#sk-container-id-1 div.sk-estimator {font-family: monospace;background-color: #f0f8ff;border: 1px dotted black;border-radius: 0.25em;box-sizing: border-box;margin-bottom: 0.5em;}#sk-container-id-1 div.sk-estimator:hover {background-color: #d4ebff;}#sk-container-id-1 div.sk-parallel-item::after {content: \"\";width: 100%;border-bottom: 1px solid gray;flex-grow: 1;}#sk-container-id-1 div.sk-label:hover label.sk-toggleable__label {background-color: #d4ebff;}#sk-container-id-1 div.sk-serial::before {content: \"\";position: absolute;border-left: 1px solid gray;box-sizing: border-box;top: 0;bottom: 0;left: 50%;z-index: 0;}#sk-container-id-1 div.sk-serial {display: flex;flex-direction: column;align-items: center;background-color: white;padding-right: 0.2em;padding-left: 0.2em;position: relative;}#sk-container-id-1 div.sk-item {position: relative;z-index: 1;}#sk-container-id-1 div.sk-parallel {display: flex;align-items: stretch;justify-content: center;background-color: white;position: relative;}#sk-container-id-1 div.sk-item::before, #sk-container-id-1 div.sk-parallel-item::before {content: \"\";position: absolute;border-left: 1px solid gray;box-sizing: border-box;top: 0;bottom: 0;left: 50%;z-index: -1;}#sk-container-id-1 div.sk-parallel-item {display: flex;flex-direction: column;z-index: 1;position: relative;background-color: white;}#sk-container-id-1 div.sk-parallel-item:first-child::after {align-self: flex-end;width: 50%;}#sk-container-id-1 div.sk-parallel-item:last-child::after {align-self: flex-start;width: 50%;}#sk-container-id-1 div.sk-parallel-item:only-child::after {width: 0;}#sk-container-id-1 div.sk-dashed-wrapped {border: 1px dashed gray;margin: 0 0.4em 0.5em 0.4em;box-sizing: border-box;padding-bottom: 0.4em;background-color: white;}#sk-container-id-1 div.sk-label label {font-family: monospace;font-weight: bold;display: inline-block;line-height: 1.2em;}#sk-container-id-1 div.sk-label-container {text-align: center;}#sk-container-id-1 div.sk-container {/* jupyter's `normalize.less` sets `[hidden] { display: none; }` but bootstrap.min.css set `[hidden] { display: none !important; }` so we also need the `!important` here to be able to override the default hidden behavior on the sphinx rendered scikit-learn.org. See: https://github.com/scikit-learn/scikit-learn/issues/21755 */display: inline-block !important;position: relative;}#sk-container-id-1 div.sk-text-repr-fallback {display: none;}</style><div id=\"sk-container-id-1\" class=\"sk-top-container\"><div class=\"sk-text-repr-fallback\"><pre>LogisticRegression()</pre><b>In a Jupyter environment, please rerun this cell to show the HTML representation or trust the notebook. <br />On GitHub, the HTML representation is unable to render, please try loading this page with nbviewer.org.</b></div><div class=\"sk-container\" hidden><div class=\"sk-item\"><div class=\"sk-estimator sk-toggleable\"><input class=\"sk-toggleable__control sk-hidden--visually\" id=\"sk-estimator-id-1\" type=\"checkbox\" checked><label for=\"sk-estimator-id-1\" class=\"sk-toggleable__label sk-toggleable__label-arrow\">LogisticRegression</label><div class=\"sk-toggleable__content\"><pre>LogisticRegression()</pre></div></div></div></div></div>"
            ],
            "text/plain": [
              "LogisticRegression()"
            ]
          },
          "execution_count": 23,
          "metadata": {},
          "output_type": "execute_result"
        }
      ],
      "source": [
        "# train the logistic regression model.\n",
        "lgr_model = LogisticRegression()\n",
        "lgr_model.fit(X_lgr_train, y_lgr_train)"
      ]
    },
    {
      "cell_type": "code",
      "execution_count": 24,
      "metadata": {
        "id": "PzPFfpEfe7wx"
      },
      "outputs": [],
      "source": [
        "lgr_probabilities = lgr_model.predict_proba(X_lgr_test)"
      ]
    },
    {
      "cell_type": "code",
      "execution_count": 25,
      "metadata": {
        "colab": {
          "base_uri": "https://localhost:8080/",
          "height": 564
        },
        "id": "XOm0aq16e7wy",
        "outputId": "1f359e25-8b8a-4e43-9fe3-fba20e0af383"
      },
      "outputs": [
        {
          "data": {
            "image/png": "[encoded data removed]",
            "text/plain": [
              "<Figure size 1000x600 with 1 Axes>"
            ]
          },
          "metadata": {},
          "output_type": "display_data"
        }
      ],
      "source": [
        "# graph threshold for all data points\n",
        "lgr_thresholds = np.arange(0, 1.1, 0.1)\n",
        "f1_scores = []\n",
        "\n",
        "for threshold in lgr_thresholds:\n",
        "    y_pred_threshold = np.where(lgr_probabilities[:, 1] >= threshold, 1, 0)\n",
        "    score = f1_score(y_lgr_val, y_pred_threshold, average='weighted')\n",
        "    f1_scores.append(score)\n",
        "\n",
        "plt.figure(figsize=(10, 6))\n",
        "plt.plot(lgr_thresholds, f1_scores, marker='o')\n",
        "plt.title('Logistic_regression: F1 Score vs. Threshold in Validation set')\n",
        "plt.xlabel('Threshold')\n",
        "plt.ylabel('F1 Score')\n",
        "plt.grid(True)"
      ]
    },
    {
      "cell_type": "code",
      "execution_count": 26,
      "metadata": {
        "colab": {
          "base_uri": "https://localhost:8080/"
        },
        "id": "4a8gFNxWn-nA",
        "outputId": "60805c73-b7a7-4516-bfb9-37ee8a069de6"
      },
      "outputs": [
        {
          "data": {
            "text/plain": [
              "5"
            ]
          },
          "execution_count": 26,
          "metadata": {},
          "output_type": "execute_result"
        }
      ],
      "source": [
        "np.argmax(f1_scores)"
      ]
    },
    {
      "cell_type": "code",
      "execution_count": 27,
      "metadata": {
        "colab": {
          "base_uri": "https://localhost:8080/"
        },
        "id": "HV8nqvhaoIqr",
        "outputId": "b3399371-6465-488a-e35c-4bba9300e3b5"
      },
      "outputs": [
        {
          "data": {
            "text/plain": [
              "[0.20472583280183632,\n",
              " 0.31742432667715015,\n",
              " 0.6017302644720197,\n",
              " 0.7709279138556038,\n",
              " 0.8505254068364694,\n",
              " 0.8529291653643774]"
            ]
          },
          "execution_count": 27,
          "metadata": {},
          "output_type": "execute_result"
        }
      ],
      "source": [
        "f1_scores[:6]"
      ]
    },
    {
      "cell_type": "code",
      "execution_count": 28,
      "metadata": {
        "id": "MqjUUD8Ge7wy"
      },
      "outputs": [],
      "source": [
        "# put the labels as 1 or -1 since that is the labels we've given our models"
      ]
    },
    {
      "cell_type": "code",
      "execution_count": 29,
      "metadata": {
        "colab": {
          "base_uri": "https://localhost:8080/"
        },
        "id": "A-gzwmPPe7wy",
        "outputId": "98994121-50c4-4712-d392-f762b2c58f29"
      },
      "outputs": [
        {
          "name": "stdout",
          "output_type": "stream",
          "text": [
            "Accuracy with threshold: 0.8545176110260337\n",
            "Precision with threshold: 0.853627507120399\n",
            "Recall with threshold: 0.8545176110260337\n",
            "F1 Score with threshold: 0.8529291653643774\n"
          ]
        }
      ],
      "source": [
        "# given the above we choose 0.5\n",
        "\n",
        "# apply a threshold and get model predictions, like nlp lab video\n",
        "lgr_threshold = 0.5\n",
        "y_pred_threshold = np.where(lgr_probabilities[:, 1] >= lgr_threshold, 1, 0)\n",
        "\n",
        "# Get the model performance on the\n",
        "# use similar methods for pretrained bert model to compare.\n",
        "print(\"Accuracy with threshold:\", accuracy_score(y_lgr_val, y_pred_threshold))\n",
        "print(\"Precision with threshold:\", precision_score(y_lgr_val, y_pred_threshold, average='weighted'))\n",
        "print(\"Recall with threshold:\", recall_score(y_lgr_val, y_pred_threshold, average='weighted'))\n",
        "print(\"F1 Score with threshold:\", f1_score(y_lgr_val, y_pred_threshold, average='weighted'))"
      ]
    },
    {
      "cell_type": "code",
      "execution_count": 29,
      "metadata": {
        "id": "m7n5aNmJe7wz"
      },
      "outputs": [],
      "source": []
    },
    {
      "cell_type": "markdown",
      "metadata": {
        "id": "jbJdUIq1e7wz"
      },
      "source": [
        "## 3. Fine-tuning the pretrained FinBERT model\n",
        "\n",
        "\n",
        "Here, instead of using hand engineered features, here we will use the ones which are generated from a pre-trained Bert model. In particular, we will use the `ProsusAI/finbert`, from [Huggingface](). Since the embedding has a better performance.\n",
        "\n",
        "Here we will not use any preprocessing and tokenising tools we've previously built, but instead use the Tokenisers which are specific to this particular BERT model.\n",
        "\n",
        "Since FinBERT shares the same architecture as BERT, we can therefore use the same code we've used in notebook 5 to fine-tune the base BERT model to use the FinBERT model."
      ]
    },
    {
      "cell_type": "code",
      "execution_count": 76,
      "metadata": {
        "id": "EZtzdJbXe7w0"
      },
      "outputs": [],
      "source": [
        "import torch\n",
        "from torch import nn\n",
        "from transformers import BertTokenizer, BertModel\n",
        "from torch.utils.data import DataLoader, Dataset"
      ]
    },
    {
      "cell_type": "code",
      "execution_count": 77,
      "metadata": {
        "colab": {
          "base_uri": "https://localhost:8080/"
        },
        "id": "LwWaEpZpe7w1",
        "outputId": "88728e6a-2ebc-4408-cce1-f7fa3bed3624"
      },
      "outputs": [
        {
          "data": {
            "text/plain": [
              "(['Aldermore profits double after float\\n \\nThu, Aug 27, 2015, 18:18 BST - UK Markets closed Aldermore profits double after float By Tim Wallace | Telegraph – 3 hours ago 0.000 \\nThe challenger bank increased mortgage and SME lending, while keeping costs down \\nChallenger (Hamburg: 4SE.HM - news ) bank Aldermore more than doubled its profits in the first half of the year as it attracted more mortgage and small business customers through its doors. \\nIn its first set of interim financial results since floating on the stock market in March, the bank reported that underlying pre-tax profits more than doubled to £44m. \\nNet interest income shot up 50pc, as new loan levels increased 14pc to £1.2bn over the period. \\nLending to small businesses climbed by 12pc to £2.5bn while residential mortgage lending increased by 14pc to £2.9bn in the six months to June 30. \\nAt the same time margins improved as Aldermore kept its own costs down its net interest margin expanded to 3.6pc. \\n“We’ve been able to hold our margins as..we’ve been able to drive down our cost of funds,” said chief executive Phillip Monks, adding that Aldermore is challenging the big banks on deposits as well as on lending. \\n“We’ve focused on deposits from SMEs, which are up 20pc to £1.2bn, as they are just as badly served on the liabilities side as they are on the asset side of the balance sheet. They’ve been coming to us partly because of the innovation we have there, allowing them to open and fund an account within 15 minutes.” \\nThe bank’s operating income grew by 42pc, but its costs only rose by 19pc, pushing its cost to income ratio down from 64pc to 53pc. \\nMr Monks said the bank is targeting a ratio of less than 40pc by the end of 2017, which would make it far more efficient than the biggest banks in the sector . \\nAldermore’s stock market flotation initially struggled, as tough market conditions forced it to cancel the initial public offering in October 2014. \\nBut the float succeeded in March 2015, and the share price has risen 57pc since then. \\nThe stock increased by 8pc on the publication of the results, which beat analysts’ forecasts by around 8pc.',\n",
              "  \"India's central bank cuts key interest rate to 6.75%\\n \\nTue, Sep 29, 2015, 07:04 BST - UK Markets open in 56 mins. India's central bank cuts key interest rate to 6.75% AFP – 20 minutes ago View Photo \\n\\nIndia's central bank cut interest rates by 50 basis points on Tuesday in a bid to boost stuttering growth, with inflation well below its target level. \\nThe Reserve Bank of India (RBI) lowered the benchmark repo rate -- the level at which it lends to commercial banks -- to 6.75 percent, a larger cut than analysts had expected. Tax cuts, pensions, childcare, online accounts and beer duty, here's … Latest Videos Follow the quotes you care about most. Access timely news and investment updates to stay on top of the market. … More » Yahoo UK & Ireland Finance Terms \\n\",\n",
              "  \"UPDATE 1-Mexican jobless rate falls to 4.2 percent in September\\nMEXICO CITY, Oct 23 Mexico's jobless rate fell last month, raising hopes for a rebound in consumption in Latin America's No. 2 economy, though unemployment still remained above levels prior to the global financial crisis. Mexico's seasonally adjusted unemployment rate was 4.2 percent in September, the national statistics agency said on Friday. The unadjusted rate dropped to 4.50, below expectations of 4.65 percent in a Reuters poll. The finance ministry expects the economy to grow around 2.4 percent this year. The economy expanded 2.1 percent in 2014. Sept 15 Aug 15 Sept 14 Jobless 4.2 4.3 4.8 rate (s/a) Jobless 4.50 4.68 5.09 rate s/a = seasonally adjusted (Reporting by Anna Yukhananov Editing by W Simon)\",\n",
              "  'Turkey\\'s banks need to prepare for slower lending growth: ECB paper\\nFRANKFURT Aug 20 Turkey\\'s banking system needs to prepare for an end to rapid lending growth and faces some risk from rising external funding needs, while western Balkan banks may struggle with bad loans, an ECB paper says.\\nTurkey enjoyed rapid economic growth of almost 9 percent in 2011, but the pace slowed to just 2.9 percent last year and economists see that sustained this year, missing the government\\'s 4 percent target..\\nGrowth may accelerate next year but only slightly and investment growth may remain muted due to lack of structural reforms, Europe\\'s weak economy and violence across Turkey\\'s borders in Syria and Iraq.\\nThe study, which is not the official view of the European Central Bank, says Turkish banks are generally strong but their large government bond holdings expose them to the risk of sovereign debt shocks. A big increase in foreign currency loans to corporations is also a vulnerability, the authors said.\\n\"The main challenge going forward will be to achieve a \\'soft landing\\' as regards the pace of credit extension, both as regards the headline rate as well as in the specific segment of foreign exchange lending to the corporate sector,\" said the paper, which examined banks in potential European Union member countries.\\nStill, banks\\' ability to withstand shocks appears high due to considerable capital buffers and relatively high profitability, the paper added.\\nIn the Balkans, several countries face financial stability risks linked to weak economic dynamics and a high rate of non-performing loans.\\n\"Albania, Serbia and Montenegro appear as particularly vulnerable in this regard,\" the paper said, also noting high loan-to-deposit ratios in Bosnia and Herzegovina and Montenegro. (Reporting by Balazs Koranyi ; Editing by Ruth Pitchford)'],\n",
              " [1, 1, 1, 0])"
            ]
          },
          "execution_count": 77,
          "metadata": {},
          "output_type": "execute_result"
        }
      ],
      "source": [
        "# review of the original texts and labels\n",
        "\n",
        "texts = news_df[\"text_full_raw_preprocessed\"].to_list()\n",
        "labels = news_df[\"prediction\"].astype(int).to_list()\n",
        "# convert labels to 0 and 1 rather than 1 and -1\n",
        "labels = [1 if x == 1 else 0 for x in labels]\n",
        "\n",
        "texts[:4], labels[:4]"
      ]
    },
    {
      "cell_type": "code",
      "execution_count": 78,
      "metadata": {
        "colab": {
          "base_uri": "https://localhost:8080/"
        },
        "id": "12N5xJqze7w3",
        "outputId": "ba2267ee-1ecc-41c2-948d-1855051f471e"
      },
      "outputs": [
        {
          "data": {
            "text/plain": [
              "<torch._C.Generator at 0x7bf2603e9810>"
            ]
          },
          "execution_count": 78,
          "metadata": {},
          "output_type": "execute_result"
        }
      ],
      "source": [
        "# SET A MANUAL SEED FOR MODEL CONSISTENCY\n",
        "\n",
        "generator = torch.Generator()\n",
        "generator.manual_seed(SEED)"
      ]
    },
    {
      "cell_type": "code",
      "execution_count": 79,
      "metadata": {
        "colab": {
          "base_uri": "https://localhost:8080/",
          "height": 655
        },
        "id": "KwL7drDSe7w6",
        "outputId": "14c168b1-9334-446f-9a7c-acbe9d057c41"
      },
      "outputs": [
        {
          "data": {
            "text/html": [
              "\n",
              "  <div id=\"df-8071845e-1123-4b1d-b3d1-078690b4bbaa\" class=\"colab-df-container\">\n",
              "    <div>\n",
              "<style scoped>\n",
              "    .dataframe tbody tr th:only-of-type {\n",
              "        vertical-align: middle;\n",
              "    }\n",
              "\n",
              "    .dataframe tbody tr th {\n",
              "        vertical-align: top;\n",
              "    }\n",
              "\n",
              "    .dataframe thead th {\n",
              "        text-align: right;\n",
              "    }\n",
              "</style>\n",
              "<table border=\"1\" class=\"dataframe\">\n",
              "  <thead>\n",
              "    <tr style=\"text-align: right;\">\n",
              "      <th></th>\n",
              "      <th>organizations</th>\n",
              "      <th>uuid</th>\n",
              "      <th>author</th>\n",
              "      <th>url</th>\n",
              "      <th>ord_in_thread</th>\n",
              "      <th>title</th>\n",
              "      <th>locations</th>\n",
              "      <th>highlightText</th>\n",
              "      <th>language</th>\n",
              "      <th>persons</th>\n",
              "      <th>...</th>\n",
              "      <th>thread_replies_count</th>\n",
              "      <th>thread_uuid</th>\n",
              "      <th>entities_persons</th>\n",
              "      <th>entities_locations</th>\n",
              "      <th>entities_organizations</th>\n",
              "      <th>word_count</th>\n",
              "      <th>text_full</th>\n",
              "      <th>token_count</th>\n",
              "      <th>prediction</th>\n",
              "      <th>text_full_raw_preprocessed</th>\n",
              "    </tr>\n",
              "  </thead>\n",
              "  <tbody>\n",
              "    <tr>\n",
              "      <th>0</th>\n",
              "      <td>[]</td>\n",
              "      <td>e54ffc6bbb4a7bdaead44e38b79f1875e20e98d1</td>\n",
              "      <td></td>\n",
              "      <td>https://uk.finance.yahoo.com/news/aldermore-pr...</td>\n",
              "      <td>0</td>\n",
              "      <td>Aldermore profits double after float</td>\n",
              "      <td>[]</td>\n",
              "      <td></td>\n",
              "      <td>english</td>\n",
              "      <td>[]</td>\n",
              "      <td>...</td>\n",
              "      <td>0</td>\n",
              "      <td>e54ffc6bbb4a7bdaead44e38b79f1875e20e98d1</td>\n",
              "      <td>[]</td>\n",
              "      <td>[]</td>\n",
              "      <td>[]</td>\n",
              "      <td>383</td>\n",
              "      <td>Aldermore profits double after float\\nTip : Us...</td>\n",
              "      <td>502</td>\n",
              "      <td>1</td>\n",
              "      <td>Aldermore profits double after float\\n \\nThu, ...</td>\n",
              "    </tr>\n",
              "    <tr>\n",
              "      <th>1</th>\n",
              "      <td>[]</td>\n",
              "      <td>8706bea91c444eea3a79081513e9176c356bf09f</td>\n",
              "      <td></td>\n",
              "      <td>https://uk.finance.yahoo.com/news/indias-centr...</td>\n",
              "      <td>0</td>\n",
              "      <td>India's central bank cuts key interest rate to...</td>\n",
              "      <td>[India]</td>\n",
              "      <td></td>\n",
              "      <td>english</td>\n",
              "      <td>[]</td>\n",
              "      <td>...</td>\n",
              "      <td>0</td>\n",
              "      <td>8706bea91c444eea3a79081513e9176c356bf09f</td>\n",
              "      <td>[]</td>\n",
              "      <td>[]</td>\n",
              "      <td>[]</td>\n",
              "      <td>298</td>\n",
              "      <td>India's central bank cuts key interest rate to...</td>\n",
              "      <td>398</td>\n",
              "      <td>1</td>\n",
              "      <td>India's central bank cuts key interest rate to...</td>\n",
              "    </tr>\n",
              "    <tr>\n",
              "      <th>2</th>\n",
              "      <td>[]</td>\n",
              "      <td>c965dfbecdd6be07d6c425b8605803fb6ad23dda</td>\n",
              "      <td>Reuters</td>\n",
              "      <td>http://www.reuters.com/article/2015/10/23/mexi...</td>\n",
              "      <td>0</td>\n",
              "      <td>UPDATE 1-Mexican jobless rate falls to 4.2 per...</td>\n",
              "      <td>[]</td>\n",
              "      <td></td>\n",
              "      <td>english</td>\n",
              "      <td>[]</td>\n",
              "      <td>...</td>\n",
              "      <td>0</td>\n",
              "      <td>c965dfbecdd6be07d6c425b8605803fb6ad23dda</td>\n",
              "      <td>[]</td>\n",
              "      <td>[]</td>\n",
              "      <td>[]</td>\n",
              "      <td>126</td>\n",
              "      <td>UPDATE 1-Mexican jobless rate falls to 4.2 per...</td>\n",
              "      <td>190</td>\n",
              "      <td>1</td>\n",
              "      <td>UPDATE 1-Mexican jobless rate falls to 4.2 per...</td>\n",
              "    </tr>\n",
              "    <tr>\n",
              "      <th>3</th>\n",
              "      <td>[]</td>\n",
              "      <td>34615e6ec43c970d7b51e1052f97fd900495e889</td>\n",
              "      <td>Reuters</td>\n",
              "      <td>http://www.reuters.com/article/2015/08/20/turk...</td>\n",
              "      <td>0</td>\n",
              "      <td>Turkey's banks need to prepare for slower lend...</td>\n",
              "      <td>[]</td>\n",
              "      <td></td>\n",
              "      <td>english</td>\n",
              "      <td>[]</td>\n",
              "      <td>...</td>\n",
              "      <td>0</td>\n",
              "      <td>34615e6ec43c970d7b51e1052f97fd900495e889</td>\n",
              "      <td>[]</td>\n",
              "      <td>[]</td>\n",
              "      <td>[]</td>\n",
              "      <td>292</td>\n",
              "      <td>Turkey's banks need to prepare for slower lend...</td>\n",
              "      <td>358</td>\n",
              "      <td>-1</td>\n",
              "      <td>Turkey's banks need to prepare for slower lend...</td>\n",
              "    </tr>\n",
              "    <tr>\n",
              "      <th>4</th>\n",
              "      <td>[]</td>\n",
              "      <td>65b27f91af7260ed964902cd96fbba9b4023d305</td>\n",
              "      <td></td>\n",
              "      <td>https://uk.finance.yahoo.com/news/brazil-keep-...</td>\n",
              "      <td>0</td>\n",
              "      <td>Brazil to keep key interest rate at 14.25%</td>\n",
              "      <td>[Brazil]</td>\n",
              "      <td></td>\n",
              "      <td>english</td>\n",
              "      <td>[]</td>\n",
              "      <td>...</td>\n",
              "      <td>0</td>\n",
              "      <td>65b27f91af7260ed964902cd96fbba9b4023d305</td>\n",
              "      <td>[]</td>\n",
              "      <td>[]</td>\n",
              "      <td>[]</td>\n",
              "      <td>235</td>\n",
              "      <td>Brazil to keep key interest rate at 14.25%\\nTi...</td>\n",
              "      <td>318</td>\n",
              "      <td>-1</td>\n",
              "      <td>Brazil to keep key interest rate at 14.25%\\n \\...</td>\n",
              "    </tr>\n",
              "  </tbody>\n",
              "</table>\n",
              "<p>5 rows × 47 columns</p>\n",
              "</div>\n",
              "    <div class=\"colab-df-buttons\">\n",
              "\n",
              "  <div class=\"colab-df-container\">\n",
              "    <button class=\"colab-df-convert\" onclick=\"convertToInteractive('df-8071845e-1123-4b1d-b3d1-078690b4bbaa')\"\n",
              "            title=\"Convert this dataframe to an interactive table.\"\n",
              "            style=\"display:none;\">\n",
              "\n",
              "  <svg xmlns=\"http://www.w3.org/2000/svg\" height=\"24px\" viewBox=\"0 -960 960 960\">\n",
              "    <path d=\"M120-120v-720h720v720H120Zm60-500h600v-160H180v160Zm220 220h160v-160H400v160Zm0 220h160v-160H400v160ZM180-400h160v-160H180v160Zm440 0h160v-160H620v160ZM180-180h160v-160H180v160Zm440 0h160v-160H620v160Z\"/>\n",
              "  </svg>\n",
              "    </button>\n",
              "\n",
              "  <style>\n",
              "    .colab-df-container {\n",
              "      display:flex;\n",
              "      gap: 12px;\n",
              "    }\n",
              "\n",
              "    .colab-df-convert {\n",
              "      background-color: #E8F0FE;\n",
              "      border: none;\n",
              "      border-radius: 50%;\n",
              "      cursor: pointer;\n",
              "      display: none;\n",
              "      fill: #1967D2;\n",
              "      height: 32px;\n",
              "      padding: 0 0 0 0;\n",
              "      width: 32px;\n",
              "    }\n",
              "\n",
              "    .colab-df-convert:hover {\n",
              "      background-color: #E2EBFA;\n",
              "      box-shadow: 0px 1px 2px rgba(60, 64, 67, 0.3), 0px 1px 3px 1px rgba(60, 64, 67, 0.15);\n",
              "      fill: #174EA6;\n",
              "    }\n",
              "\n",
              "    .colab-df-buttons div {\n",
              "      margin-bottom: 4px;\n",
              "    }\n",
              "\n",
              "    [theme=dark] .colab-df-convert {\n",
              "      background-color: #3B4455;\n",
              "      fill: #D2E3FC;\n",
              "    }\n",
              "\n",
              "    [theme=dark] .colab-df-convert:hover {\n",
              "      background-color: #434B5C;\n",
              "      box-shadow: 0px 1px 3px 1px rgba(0, 0, 0, 0.15);\n",
              "      filter: drop-shadow(0px 1px 2px rgba(0, 0, 0, 0.3));\n",
              "      fill: #FFFFFF;\n",
              "    }\n",
              "  </style>\n",
              "\n",
              "    <script>\n",
              "      const buttonEl =\n",
              "        document.querySelector('#df-8071845e-1123-4b1d-b3d1-078690b4bbaa button.colab-df-convert');\n",
              "      buttonEl.style.display =\n",
              "        google.colab.kernel.accessAllowed ? 'block' : 'none';\n",
              "\n",
              "      async function convertToInteractive(key) {\n",
              "        const element = document.querySelector('#df-8071845e-1123-4b1d-b3d1-078690b4bbaa');\n",
              "        const dataTable =\n",
              "          await google.colab.kernel.invokeFunction('convertToInteractive',\n",
              "                                                    [key], {});\n",
              "        if (!dataTable) return;\n",
              "\n",
              "        const docLinkHtml = 'Like what you see? Visit the ' +\n",
              "          '<a target=\"_blank\" href=https://colab.research.google.com/notebooks/data_table.ipynb>data table notebook</a>'\n",
              "          + ' to learn more about interactive tables.';\n",
              "        element.innerHTML = '';\n",
              "        dataTable['output_type'] = 'display_data';\n",
              "        await google.colab.output.renderOutput(dataTable, element);\n",
              "        const docLink = document.createElement('div');\n",
              "        docLink.innerHTML = docLinkHtml;\n",
              "        element.appendChild(docLink);\n",
              "      }\n",
              "    </script>\n",
              "  </div>\n",
              "\n",
              "\n",
              "<div id=\"df-cc3129ff-9d7d-4a0d-8c42-060ac39a647c\">\n",
              "  <button class=\"colab-df-quickchart\" onclick=\"quickchart('df-cc3129ff-9d7d-4a0d-8c42-060ac39a647c')\"\n",
              "            title=\"Suggest charts\"\n",
              "            style=\"display:none;\">\n",
              "\n",
              "<svg xmlns=\"http://www.w3.org/2000/svg\" height=\"24px\"viewBox=\"0 0 24 24\"\n",
              "     width=\"24px\">\n",
              "    <g>\n",
              "        <path d=\"M19 3H5c-1.1 0-2 .9-2 2v14c0 1.1.9 2 2 2h14c1.1 0 2-.9 2-2V5c0-1.1-.9-2-2-2zM9 17H7v-7h2v7zm4 0h-2V7h2v10zm4 0h-2v-4h2v4z\"/>\n",
              "    </g>\n",
              "</svg>\n",
              "  </button>\n",
              "\n",
              "<style>\n",
              "  .colab-df-quickchart {\n",
              "      --bg-color: #E8F0FE;\n",
              "      --fill-color: #1967D2;\n",
              "      --hover-bg-color: #E2EBFA;\n",
              "      --hover-fill-color: #174EA6;\n",
              "      --disabled-fill-color: #AAA;\n",
              "      --disabled-bg-color: #DDD;\n",
              "  }\n",
              "\n",
              "  [theme=dark] .colab-df-quickchart {\n",
              "      --bg-color: #3B4455;\n",
              "      --fill-color: #D2E3FC;\n",
              "      --hover-bg-color: #434B5C;\n",
              "      --hover-fill-color: #FFFFFF;\n",
              "      --disabled-bg-color: #3B4455;\n",
              "      --disabled-fill-color: #666;\n",
              "  }\n",
              "\n",
              "  .colab-df-quickchart {\n",
              "    background-color: var(--bg-color);\n",
              "    border: none;\n",
              "    border-radius: 50%;\n",
              "    cursor: pointer;\n",
              "    display: none;\n",
              "    fill: var(--fill-color);\n",
              "    height: 32px;\n",
              "    padding: 0;\n",
              "    width: 32px;\n",
              "  }\n",
              "\n",
              "  .colab-df-quickchart:hover {\n",
              "    background-color: var(--hover-bg-color);\n",
              "    box-shadow: 0 1px 2px rgba(60, 64, 67, 0.3), 0 1px 3px 1px rgba(60, 64, 67, 0.15);\n",
              "    fill: var(--button-hover-fill-color);\n",
              "  }\n",
              "\n",
              "  .colab-df-quickchart-complete:disabled,\n",
              "  .colab-df-quickchart-complete:disabled:hover {\n",
              "    background-color: var(--disabled-bg-color);\n",
              "    fill: var(--disabled-fill-color);\n",
              "    box-shadow: none;\n",
              "  }\n",
              "\n",
              "  .colab-df-spinner {\n",
              "    border: 2px solid var(--fill-color);\n",
              "    border-color: transparent;\n",
              "    border-bottom-color: var(--fill-color);\n",
              "    animation:\n",
              "      spin 1s steps(1) infinite;\n",
              "  }\n",
              "\n",
              "  @keyframes spin {\n",
              "    0% {\n",
              "      border-color: transparent;\n",
              "      border-bottom-color: var(--fill-color);\n",
              "      border-left-color: var(--fill-color);\n",
              "    }\n",
              "    20% {\n",
              "      border-color: transparent;\n",
              "      border-left-color: var(--fill-color);\n",
              "      border-top-color: var(--fill-color);\n",
              "    }\n",
              "    30% {\n",
              "      border-color: transparent;\n",
              "      border-left-color: var(--fill-color);\n",
              "      border-top-color: var(--fill-color);\n",
              "      border-right-color: var(--fill-color);\n",
              "    }\n",
              "    40% {\n",
              "      border-color: transparent;\n",
              "      border-right-color: var(--fill-color);\n",
              "      border-top-color: var(--fill-color);\n",
              "    }\n",
              "    60% {\n",
              "      border-color: transparent;\n",
              "      border-right-color: var(--fill-color);\n",
              "    }\n",
              "    80% {\n",
              "      border-color: transparent;\n",
              "      border-right-color: var(--fill-color);\n",
              "      border-bottom-color: var(--fill-color);\n",
              "    }\n",
              "    90% {\n",
              "      border-color: transparent;\n",
              "      border-bottom-color: var(--fill-color);\n",
              "    }\n",
              "  }\n",
              "</style>\n",
              "\n",
              "  <script>\n",
              "    async function quickchart(key) {\n",
              "      const quickchartButtonEl =\n",
              "        document.querySelector('#' + key + ' button');\n",
              "      quickchartButtonEl.disabled = true;  // To prevent multiple clicks.\n",
              "      quickchartButtonEl.classList.add('colab-df-spinner');\n",
              "      try {\n",
              "        const charts = await google.colab.kernel.invokeFunction(\n",
              "            'suggestCharts', [key], {});\n",
              "      } catch (error) {\n",
              "        console.error('Error during call to suggestCharts:', error);\n",
              "      }\n",
              "      quickchartButtonEl.classList.remove('colab-df-spinner');\n",
              "      quickchartButtonEl.classList.add('colab-df-quickchart-complete');\n",
              "    }\n",
              "    (() => {\n",
              "      let quickchartButtonEl =\n",
              "        document.querySelector('#df-cc3129ff-9d7d-4a0d-8c42-060ac39a647c button');\n",
              "      quickchartButtonEl.style.display =\n",
              "        google.colab.kernel.accessAllowed ? 'block' : 'none';\n",
              "    })();\n",
              "  </script>\n",
              "</div>\n",
              "    </div>\n",
              "  </div>\n"
            ],
            "text/plain": [
              "  organizations                                      uuid   author  \\\n",
              "0            []  e54ffc6bbb4a7bdaead44e38b79f1875e20e98d1            \n",
              "1            []  8706bea91c444eea3a79081513e9176c356bf09f            \n",
              "2            []  c965dfbecdd6be07d6c425b8605803fb6ad23dda  Reuters   \n",
              "3            []  34615e6ec43c970d7b51e1052f97fd900495e889  Reuters   \n",
              "4            []  65b27f91af7260ed964902cd96fbba9b4023d305            \n",
              "\n",
              "                                                 url  ord_in_thread  \\\n",
              "0  https://uk.finance.yahoo.com/news/aldermore-pr...              0   \n",
              "1  https://uk.finance.yahoo.com/news/indias-centr...              0   \n",
              "2  http://www.reuters.com/article/2015/10/23/mexi...              0   \n",
              "3  http://www.reuters.com/article/2015/08/20/turk...              0   \n",
              "4  https://uk.finance.yahoo.com/news/brazil-keep-...              0   \n",
              "\n",
              "                                               title locations highlightText  \\\n",
              "0               Aldermore profits double after float        []                 \n",
              "1  India's central bank cuts key interest rate to...   [India]                 \n",
              "2  UPDATE 1-Mexican jobless rate falls to 4.2 per...        []                 \n",
              "3  Turkey's banks need to prepare for slower lend...        []                 \n",
              "4         Brazil to keep key interest rate at 14.25%  [Brazil]                 \n",
              "\n",
              "  language persons  ... thread_replies_count  \\\n",
              "0  english      []  ...                    0   \n",
              "1  english      []  ...                    0   \n",
              "2  english      []  ...                    0   \n",
              "3  english      []  ...                    0   \n",
              "4  english      []  ...                    0   \n",
              "\n",
              "                                thread_uuid entities_persons  \\\n",
              "0  e54ffc6bbb4a7bdaead44e38b79f1875e20e98d1               []   \n",
              "1  8706bea91c444eea3a79081513e9176c356bf09f               []   \n",
              "2  c965dfbecdd6be07d6c425b8605803fb6ad23dda               []   \n",
              "3  34615e6ec43c970d7b51e1052f97fd900495e889               []   \n",
              "4  65b27f91af7260ed964902cd96fbba9b4023d305               []   \n",
              "\n",
              "  entities_locations entities_organizations  word_count  \\\n",
              "0                 []                     []         383   \n",
              "1                 []                     []         298   \n",
              "2                 []                     []         126   \n",
              "3                 []                     []         292   \n",
              "4                 []                     []         235   \n",
              "\n",
              "                                           text_full  token_count  prediction  \\\n",
              "0  Aldermore profits double after float\\nTip : Us...          502           1   \n",
              "1  India's central bank cuts key interest rate to...          398           1   \n",
              "2  UPDATE 1-Mexican jobless rate falls to 4.2 per...          190           1   \n",
              "3  Turkey's banks need to prepare for slower lend...          358          -1   \n",
              "4  Brazil to keep key interest rate at 14.25%\\nTi...          318          -1   \n",
              "\n",
              "                          text_full_raw_preprocessed  \n",
              "0  Aldermore profits double after float\\n \\nThu, ...  \n",
              "1  India's central bank cuts key interest rate to...  \n",
              "2  UPDATE 1-Mexican jobless rate falls to 4.2 per...  \n",
              "3  Turkey's banks need to prepare for slower lend...  \n",
              "4  Brazil to keep key interest rate at 14.25%\\n \\...  \n",
              "\n",
              "[5 rows x 47 columns]"
            ]
          },
          "execution_count": 79,
          "metadata": {},
          "output_type": "execute_result"
        }
      ],
      "source": [
        "news_df.head()"
      ]
    },
    {
      "cell_type": "code",
      "execution_count": 80,
      "metadata": {
        "colab": {
          "base_uri": "https://localhost:8080/"
        },
        "id": "qYp2a-Tve7w7",
        "outputId": "dd68d0fa-d2ee-40a5-99d6-71664e44152d"
      },
      "outputs": [
        {
          "data": {
            "text/plain": [
              "2612"
            ]
          },
          "execution_count": 80,
          "metadata": {},
          "output_type": "execute_result"
        }
      ],
      "source": [
        "train_max_row"
      ]
    },
    {
      "cell_type": "code",
      "execution_count": 81,
      "metadata": {
        "id": "fWVJxI1-e7w9"
      },
      "outputs": [],
      "source": [
        "# separate the pretrained data into training and validation sets, set the seed consistently, to replicate the approach as before.\n",
        "\n",
        "train_texts, val_texts, train_labels, val_labels = texts[:train_max_row], texts[train_max_row:], labels[:train_max_row], labels[train_max_row:]"
      ]
    },
    {
      "cell_type": "code",
      "execution_count": 82,
      "metadata": {
        "colab": {
          "base_uri": "https://localhost:8080/"
        },
        "id": "-6JAVaHve7w-",
        "outputId": "506c28b0-5145-4220-e385-6b822ac37e85"
      },
      "outputs": [
        {
          "data": {
            "text/plain": [
              "(2612, 653, 2612, 653)"
            ]
          },
          "execution_count": 82,
          "metadata": {},
          "output_type": "execute_result"
        }
      ],
      "source": [
        "len(train_texts), len(val_texts), len(train_labels), len(val_labels)"
      ]
    },
    {
      "cell_type": "code",
      "execution_count": 83,
      "metadata": {
        "colab": {
          "base_uri": "https://localhost:8080/"
        },
        "id": "Mrcoxq57e7w_",
        "outputId": "7e1573f1-896a-46ef-848f-811804afc101"
      },
      "outputs": [
        {
          "data": {
            "text/plain": [
              "device(type='cuda')"
            ]
          },
          "execution_count": 83,
          "metadata": {},
          "output_type": "execute_result"
        }
      ],
      "source": [
        "# check if we're training on cpu or gpu\n",
        "# and ensure that the data from the network is moved to the appropriate device for training and evaluation.\n",
        "device = torch.device(\"cuda\" if torch.cuda.is_available() else \"cpu\")\n",
        "device"
      ]
    },
    {
      "cell_type": "code",
      "execution_count": 84,
      "metadata": {
        "colab": {
          "base_uri": "https://localhost:8080/"
        },
        "id": "IQq7BeM2e7xB",
        "outputId": "21e7eb5f-e558-4881-f5cc-7905f6febb09"
      },
      "outputs": [
        {
          "name": "stderr",
          "output_type": "stream",
          "text": [
            "/usr/local/lib/python3.10/dist-packages/huggingface_hub/utils/_token.py:72: UserWarning: \n",
            "The secret `HF_TOKEN` does not exist in your Colab secrets.\n",
            "To authenticate with the Hugging Face Hub, create a token in your settings tab (https://huggingface.co/settings/tokens), set it as secret in your Google Colab and restart your session.\n",
            "You will be able to reuse this secret in all of your notebooks.\n",
            "Please note that authentication is recommended but still optional to access public models or datasets.\n",
            "  warnings.warn(\n"
          ]
        }
      ],
      "source": [
        "# use hugging face transformer model - Finbert and corresponding tokeniser\n",
        "tokeniser = BertTokenizer.from_pretrained('ProsusAI/finbert')\n",
        "pretrained_bert_model = BertModel.from_pretrained('ProsusAI/finbert').to(device)"
      ]
    },
    {
      "cell_type": "code",
      "execution_count": 85,
      "metadata": {
        "id": "x50_C3Rue7xC"
      },
      "outputs": [],
      "source": [
        "# freeze all layers in bert so that we only do fine tuning\n",
        "\n",
        "for param in pretrained_bert_model.parameters():\n",
        "    param.requires_grad = False"
      ]
    },
    {
      "cell_type": "code",
      "execution_count": 86,
      "metadata": {
        "id": "naP95IC4e7xD"
      },
      "outputs": [],
      "source": [
        "# create a custom dataset class for text classification based around our data.\n",
        "# overload dunder methods to create a key, vector encoding, and label for each data label item\n",
        "\n",
        "class TextDataset(Dataset):\n",
        "    def __init__(self, texts, labels, tokeniser):\n",
        "        # get the labels and vectorised tokens, and corresponding labels\n",
        "        self.encodings = tokeniser(texts, max_length=512, padding=True, truncation=True, return_tensors='pt') # specify max length to be 512, although this is the case set by default\n",
        "        self.labels = labels\n",
        "\n",
        "    def __getitem__(self, idx):\n",
        "        # return each data item\n",
        "        item = {key: val[idx] for key, val in self.encodings.items()}\n",
        "        item['labels'] = torch.tensor(self.labels[idx])\n",
        "        return item\n",
        "\n",
        "    def __len__(self):\n",
        "        return len(self.labels)"
      ]
    },
    {
      "cell_type": "code",
      "execution_count": 87,
      "metadata": {
        "id": "zJHfnWDOe7xF"
      },
      "outputs": [],
      "source": [
        "# define a bert classifier using a similar approach as in Assignment 1\n",
        "# but the class now allows us to instantiate a moodel by passing a pretrained Bart model\n",
        "# and use it as part of the network.\n",
        "\n",
        "class BertTextClassifier(nn.Module):\n",
        "    def __init__(self, pretrained_bert_model):\n",
        "        super(BertTextClassifier, self).__init__()\n",
        "        self.bert = pretrained_bert_model\n",
        "        self.classifier = nn.Linear(pretrained_bert_model.config.hidden_size, 1)\n",
        "\n",
        "        # outputs raw logit values\n",
        "        # we will fine-tune this layer as all bert model parameters/weights are frozen\n",
        "        self.classifier_raw_logit = nn.Linear(pretrained_bert_model.config.hidden_size, 1)\n",
        "\n",
        "    def forward(self, input_ids, attention_mask):\n",
        "        outputs = self.bert(input_ids=input_ids, attention_mask=attention_mask)\n",
        "\n",
        "        # use the pooled output from huggingface bert as the embedding of our input sequence text.\n",
        "        # which is returned from the pretrained huggingface huggingface model we've attached.\n",
        "        # https://stackoverflow.com/questions/60243099/what-is-the-meaning-of-the-second-output-of-huggingfaces-bert\n",
        "        # https://huggingface.co/docs/transformers/model_doc/bert#transformers.BertModel\n",
        "\n",
        "        pooled_output = outputs.pooler_output\n",
        "\n",
        "        # outputs raw logit values as part of the model output\n",
        "        return self.classifier_raw_logit(pooled_output)"
      ]
    },
    {
      "cell_type": "markdown",
      "metadata": {
        "id": "d4qv8iz-e7xG"
      },
      "source": [
        "Create the model and data objects for the model training pipeline"
      ]
    },
    {
      "cell_type": "code",
      "execution_count": 88,
      "metadata": {
        "id": "t0JeLMdoe7xI"
      },
      "outputs": [],
      "source": [
        "# create the datasets and data loaders\n",
        "train_dataset = TextDataset(train_texts, train_labels, tokeniser)\n",
        "val_dataset = TextDataset(val_texts, val_labels, tokeniser)\n",
        "\n",
        "# data loaders\n",
        "train_loader = DataLoader(train_dataset, batch_size=16, shuffle=True, generator = generator) # use predefined generator to get the relevant seed.\n",
        "val_loader = DataLoader(val_dataset, batch_size=16)"
      ]
    },
    {
      "cell_type": "code",
      "execution_count": 89,
      "metadata": {
        "id": "1xAyMgPNe7xJ"
      },
      "outputs": [],
      "source": [
        "# instantiate the model and optimisers and loss function\n",
        "\n",
        "# create a new model from a pretrained model - standard transfer learning workflow\n",
        "bert_lgr_classifier = BertTextClassifier(pretrained_bert_model).to(device)\n",
        "optimizer = torch.optim.Adam(bert_lgr_classifier.parameters(), lr=1e-3)\n",
        "\n",
        "# use Logit loss since we use a raw model and we're doing binary classification\n",
        "# therefore we take the binary classification loss function, based on raw logic values\n",
        "binary_logit_loss = nn.BCEWithLogitsLoss()"
      ]
    },
    {
      "cell_type": "code",
      "execution_count": 91,
      "metadata": {
        "id": "335YZBHPe7xL"
      },
      "outputs": [],
      "source": [
        "# SET THE NUMBER OF EPOCHS\n",
        "\n",
        "EPOCHS = 30 # run it tomorrow morning - and see usefulness - not that useful."
      ]
    },
    {
      "cell_type": "code",
      "execution_count": 93,
      "metadata": {
        "id": "0o3JLocNe7xM"
      },
      "outputs": [],
      "source": [
        "#15 minutes to evaluate this - try other approach - to save time later\n",
        "\n",
        "# store losses\n",
        "train_losses = []\n",
        "val_losses = []\n",
        "\n",
        "# training loop\n",
        "bert_lgr_classifier.train()\n",
        "for epoch in range(EPOCHS):\n",
        "    total_loss = 0\n",
        "    for batch in train_loader:\n",
        "        optimizer.zero_grad()\n",
        "        input_ids = batch['input_ids'].to(device)\n",
        "        attention_mask = batch['attention_mask'].to(device)\n",
        "        labels = batch['labels'].to(device)\n",
        "        outputs = bert_lgr_classifier(input_ids, attention_mask)\n",
        "        loss = binary_logit_loss(outputs.squeeze(), labels.float())\n",
        "        total_loss += loss.item()\n",
        "        loss.backward()\n",
        "        optimizer.step()\n",
        "    avg_train_loss = total_loss / len(train_loader)\n",
        "    train_losses.append(avg_train_loss)\n",
        "\n",
        "    # validation loop - get average loss in loop to review the performance\n",
        "    bert_lgr_classifier.eval()\n",
        "    total_val_loss = 0\n",
        "    with torch.no_grad():\n",
        "        for batch in val_loader:\n",
        "            input_ids = batch['input_ids'].to(device)\n",
        "            attention_mask = batch['attention_mask'].to(device)\n",
        "            labels = batch['labels'].to(device)\n",
        "            outputs = bert_lgr_classifier(input_ids, attention_mask)\n",
        "            val_loss = binary_logit_loss(outputs.squeeze(), labels.float())\n",
        "            total_val_loss += val_loss.item()\n",
        "    avg_val_loss = total_val_loss / len(val_loader)\n",
        "    val_losses.append(avg_val_loss)"
      ]
    },
    {
      "cell_type": "code",
      "execution_count": 94,
      "metadata": {
        "colab": {
          "base_uri": "https://localhost:8080/",
          "height": 487
        },
        "id": "aDW0_tfce7xN",
        "outputId": "0ee9f1f0-47c3-4f10-8c30-f9c5b8f304b4"
      },
      "outputs": [
        {
          "data": {
            "image/png": "[encoded data removed]",
            "text/plain": [
              "<Figure size 1000x500 with 1 Axes>"
            ]
          },
          "metadata": {},
          "output_type": "display_data"
        }
      ],
      "source": [
        "# visualise train validation loss\n",
        "\n",
        "plt.figure(figsize=(10, 5))\n",
        "plt.title(\"Training and Validation Loss\")\n",
        "plt.plot(train_losses, label=\"Training Loss\")\n",
        "plt.plot(val_losses, label=\"Validation Loss\")\n",
        "plt.xlabel(\"Epochs\")\n",
        "plt.ylabel(\"Loss\")\n",
        "plt.legend()\n",
        "plt.show()"
      ]
    },
    {
      "cell_type": "code",
      "execution_count": 97,
      "metadata": {
        "id": "B5gh7cGce7xP"
      },
      "outputs": [],
      "source": [
        "# evaluation workflow\n",
        "bert_lgr_classifier.eval()\n",
        "predictions = []\n",
        "with torch.no_grad():\n",
        "    for batch in val_loader:\n",
        "        input_ids = batch['input_ids'].to(device)\n",
        "        attention_mask = batch['attention_mask'].to(device)\n",
        "        logits = bert_lgr_classifier(input_ids, attention_mask) # model computes the raw logits here\n",
        "        predictions += torch.sigmoid(logits).squeeze().tolist()\n",
        "\n"
      ]
    },
    {
      "cell_type": "code",
      "execution_count": 98,
      "metadata": {
        "colab": {
          "base_uri": "https://localhost:8080/",
          "height": 564
        },
        "id": "nR_XcyMue7xQ",
        "outputId": "99e490d9-fc4e-493b-b414-6cca9fea93b5"
      },
      "outputs": [
        {
          "data": {
            "image/png": "[encoded data removed]",
            "text/plain": [
              "<Figure size 1000x600 with 1 Axes>"
            ]
          },
          "metadata": {},
          "output_type": "display_data"
        }
      ],
      "source": [
        "# define thresholds\n",
        "thresholds = np.arange(0, 1.1, 0.1)\n",
        "f1_scores = []\n",
        "\n",
        "# Calculate F1 score for each threshold\n",
        "for threshold in thresholds:\n",
        "    predictions_arr = [1 if p > threshold else 0 for p in predictions]\n",
        "    score = f1_score(val_labels, predictions_arr, average='weighted')\n",
        "    f1_scores.append(score)\n",
        "\n",
        "# Plotting\n",
        "plt.figure(figsize=(10, 6))\n",
        "plt.plot(thresholds, f1_scores, marker='o')\n",
        "plt.title('Fine tuned BERT (FinBERT): F1 Score vs. Threshold in Validation Set')\n",
        "plt.xlabel('Threshold')\n",
        "plt.ylabel('F1 Score')\n",
        "plt.grid(True)\n",
        "plt.show()"
      ]
    },
    {
      "cell_type": "code",
      "execution_count": 99,
      "metadata": {
        "colab": {
          "base_uri": "https://localhost:8080/"
        },
        "id": "VVwJul8FE66p",
        "outputId": "d7f79b84-9c20-4c58-8bb4-af425cce6032"
      },
      "outputs": [
        {
          "data": {
            "text/plain": [
              "4"
            ]
          },
          "execution_count": 99,
          "metadata": {},
          "output_type": "execute_result"
        }
      ],
      "source": [
        "np.argmax(f1_scores)"
      ]
    },
    {
      "cell_type": "code",
      "execution_count": 101,
      "metadata": {
        "colab": {
          "base_uri": "https://localhost:8080/"
        },
        "id": "sAIvsbTBFA0v",
        "outputId": "c14c5ad7-1eb9-44b7-c3b2-cfb08afe6164"
      },
      "outputs": [
        {
          "data": {
            "text/plain": [
              "[0.20472583280183632,\n",
              " 0.8079120713053252,\n",
              " 0.8568025709373887,\n",
              " 0.8835159553422155,\n",
              " 0.8964026466079145]"
            ]
          },
          "execution_count": 101,
          "metadata": {},
          "output_type": "execute_result"
        }
      ],
      "source": [
        "f1_scores[:5]"
      ]
    },
    {
      "cell_type": "code",
      "execution_count": 102,
      "metadata": {
        "id": "B-Foow3Me7xR"
      },
      "outputs": [],
      "source": [
        "# RESET THRESHOLD FOR PRECISION\n",
        "\n",
        "bert_threshold = 0.4"
      ]
    },
    {
      "cell_type": "code",
      "execution_count": 103,
      "metadata": {
        "colab": {
          "base_uri": "https://localhost:8080/"
        },
        "id": "IDXoT5pZe7xR",
        "outputId": "513a7b44-6da1-434a-ebc7-bf73310e44e8"
      },
      "outputs": [
        {
          "name": "stdout",
          "output_type": "stream",
          "text": [
            "Accuracy with threshold: 0.8958652373660031\n",
            "Precision with threshold: 0.8977899316282879\n",
            "Recall with threshold: 0.8958652373660031\n",
            "F1 Score with threshold: 0.8964026466079145\n"
          ]
        }
      ],
      "source": [
        "# get binary prediction from probabilities\n",
        "\n",
        "# get the negative class as -1 prediction based on the unique labelling of the code\n",
        "predictions_arr = [1 if p > bert_threshold else 0 for p in predictions]\n",
        "\n",
        "# Calculate accuracy\n",
        "score = f1_score(val_labels, predictions_arr, average='weighted')\n",
        "print(\"Accuracy with threshold:\", accuracy_score(val_labels, predictions_arr))\n",
        "print(\"Precision with threshold:\", precision_score(val_labels, predictions_arr, average='weighted'))\n",
        "print(\"Recall with threshold:\", recall_score(val_labels, predictions_arr, average='weighted'))\n",
        "print(\"F1 Score with threshold:\", f1_score(val_labels, predictions_arr, average='weighted'))"
      ]
    },
    {
      "cell_type": "code",
      "execution_count": 104,
      "metadata": {
        "id": "X-6ZDgjze7xS"
      },
      "outputs": [],
      "source": [
        "# save scores as variables\n",
        "\n",
        "# logistic regression scores\n",
        "accuracy_lgr = accuracy_score(y_lgr_val, y_pred_threshold)\n",
        "precision_lgr = precision_score(y_lgr_val, y_pred_threshold, average='weighted')\n",
        "recall_lgr = recall_score(y_lgr_val, y_pred_threshold, average='weighted')\n",
        "f1_lgr = f1_score(y_lgr_val, y_pred_threshold, average='weighted')\n",
        "\n",
        "# bert model scores\n",
        "accuracy_model2 = accuracy_score(val_labels, predictions_arr)\n",
        "precision_model2 = precision_score(val_labels, predictions_arr, average='weighted')\n",
        "recall_model2 = recall_score(val_labels, predictions_arr, average='weighted')\n",
        "f1_model2 = f1_score(val_labels, predictions_arr, average='weighted')\n"
      ]
    },
    {
      "cell_type": "code",
      "execution_count": 105,
      "metadata": {
        "colab": {
          "base_uri": "https://localhost:8080/",
          "height": 563
        },
        "id": "xA7uDxune7xS",
        "outputId": "f7540702-8897-4c17-bb81-4d5ac9105692"
      },
      "outputs": [
        {
          "data": {
            "text/plain": [
              "<matplotlib.legend.Legend at 0x7bf2663a5960>"
            ]
          },
          "execution_count": 105,
          "metadata": {},
          "output_type": "execute_result"
        },
        {
          "data": {
            "image/png": "[encoded data removed]",
            "text/plain": [
              "<Figure size 1000x600 with 1 Axes>"
            ]
          },
          "metadata": {},
          "output_type": "display_data"
        }
      ],
      "source": [
        "# Create a plot here to compare and contrast the performance between these models\n",
        "metrics_names = ['Accuracy', 'Precision', 'Recall', 'F1 Score']\n",
        "\n",
        "lgr_scores = [accuracy_lgr, precision_lgr, recall_lgr, f1_lgr]\n",
        "bert_scores = [accuracy_model2, precision_model2, recall_model2, f1_model2]\n",
        "\n",
        "# create bar chart for labels\n",
        "x = range(len(metrics_names))  # metric label location\n",
        "bar_width = 0.35\n",
        "\n",
        "fig, ax = plt.subplots(figsize=(10, 6))\n",
        "rects1 = ax.bar(x, lgr_scores, bar_width, label='Logistic Regression Classifier')\n",
        "rects2 = ax.bar([p + bar_width for p in x], bert_scores, bar_width, label='Fine Tuned Bert (FinBERT) Classifier')\n",
        "\n",
        "ax.set_ylabel('Performance Metric %')\n",
        "ax.set_title('Validation Performance by Metric and Model')\n",
        "ax.set_xticks([p + bar_width / 2 for p in x])\n",
        "ax.set_xticklabels(metrics_names)\n",
        "ax.legend(loc=\"lower right\")"
      ]
    },
    {
      "cell_type": "markdown",
      "metadata": {
        "id": "J_mAK6ble7xT"
      },
      "source": [
        "## 4. Look at how the model generalises to the test set\n",
        "\n",
        "Looking at how the models generalises to the test set of hand labeled text - Logistic regression and finbert"
      ]
    },
    {
      "cell_type": "code",
      "execution_count": 107,
      "metadata": {
        "id": "JeL8OKdde7xT"
      },
      "outputs": [],
      "source": [
        "# Generalise the results here on test set to see how the results generalise"
      ]
    },
    {
      "cell_type": "code",
      "execution_count": 108,
      "metadata": {
        "colab": {
          "base_uri": "https://localhost:8080/"
        },
        "id": "m37qAgjhe7xU",
        "outputId": "7ed5cbc3-106d-4acc-8489-b48f94513099"
      },
      "outputs": [
        {
          "data": {
            "text/plain": [
              "(111, 47)"
            ]
          },
          "execution_count": 108,
          "metadata": {},
          "output_type": "execute_result"
        }
      ],
      "source": [
        "news_test_df = pd.read_json(\"combined_data_output/news_analysis_test_set.json\")\n",
        "news_test_df.shape\n"
      ]
    },
    {
      "cell_type": "code",
      "execution_count": 109,
      "metadata": {
        "colab": {
          "base_uri": "https://localhost:8080/"
        },
        "id": "0P_YOvF6e7xU",
        "outputId": "a8302c85-6370-4dc0-e0c8-f11412bba62c"
      },
      "outputs": [
        {
          "name": "stdout",
          "output_type": "stream",
          "text": [
            "<class 'pandas.core.frame.DataFrame'>\n",
            "RangeIndex: 111 entries, 0 to 110\n",
            "Data columns (total 47 columns):\n",
            " #   Column                             Non-Null Count  Dtype  \n",
            "---  ------                             --------------  -----  \n",
            " 0   organizations                      111 non-null    object \n",
            " 1   uuid                               111 non-null    object \n",
            " 2   author                             64 non-null     object \n",
            " 3   url                                111 non-null    object \n",
            " 4   ord_in_thread                      111 non-null    int64  \n",
            " 5   title                              111 non-null    object \n",
            " 6   locations                          111 non-null    object \n",
            " 7   highlightText                      0 non-null      float64\n",
            " 8   language                           111 non-null    object \n",
            " 9   persons                            111 non-null    object \n",
            " 10  text                               111 non-null    object \n",
            " 11  external_links                     111 non-null    object \n",
            " 12  published                          111 non-null    object \n",
            " 13  crawled                            111 non-null    object \n",
            " 14  highlightTitle                     0 non-null      float64\n",
            " 15  thread_social_gplus_shares         111 non-null    int64  \n",
            " 16  thread_social_pinterest_shares     111 non-null    int64  \n",
            " 17  thread_social_vk_shares            111 non-null    int64  \n",
            " 18  thread_social_linkedin_shares      111 non-null    int64  \n",
            " 19  thread_social_facebook_likes       111 non-null    int64  \n",
            " 20  thread_social_facebook_shares      111 non-null    int64  \n",
            " 21  thread_social_facebook_comments    111 non-null    int64  \n",
            " 22  thread_social_stumbledupon_shares  111 non-null    int64  \n",
            " 23  thread_site_full                   111 non-null    object \n",
            " 24  thread_main_image                  56 non-null     object \n",
            " 25  thread_site_section                111 non-null    object \n",
            " 26  thread_section_title               111 non-null    object \n",
            " 27  thread_url                         111 non-null    object \n",
            " 28  thread_country                     111 non-null    object \n",
            " 29  thread_title                       111 non-null    object \n",
            " 30  thread_performance_score           111 non-null    int64  \n",
            " 31  thread_site                        111 non-null    object \n",
            " 32  thread_participants_count          111 non-null    int64  \n",
            " 33  thread_title_full                  111 non-null    object \n",
            " 34  thread_spam_score                  111 non-null    int64  \n",
            " 35  thread_site_type                   111 non-null    object \n",
            " 36  thread_published                   111 non-null    object \n",
            " 37  thread_replies_count               111 non-null    int64  \n",
            " 38  thread_uuid                        111 non-null    object \n",
            " 39  entities_persons                   111 non-null    object \n",
            " 40  entities_locations                 111 non-null    object \n",
            " 41  entities_organizations             111 non-null    object \n",
            " 42  word_count                         111 non-null    int64  \n",
            " 43  text_full                          111 non-null    object \n",
            " 44  token_count                        111 non-null    int64  \n",
            " 45  prediction                         111 non-null    int64  \n",
            " 46  human_prediction                   111 non-null    int64  \n",
            "dtypes: float64(2), int64(17), object(28)\n",
            "memory usage: 40.9+ KB\n"
          ]
        }
      ],
      "source": [
        "news_test_df.info()"
      ]
    },
    {
      "cell_type": "code",
      "execution_count": 110,
      "metadata": {
        "colab": {
          "base_uri": "https://localhost:8080/"
        },
        "id": "VfaKdkfYe7xV",
        "outputId": "613c44ce-6576-48c0-9f80-f7d56ad76be4"
      },
      "outputs": [
        {
          "data": {
            "text/plain": [
              " 1    66\n",
              "-1    45\n",
              "Name: human_prediction, dtype: int64"
            ]
          },
          "execution_count": 110,
          "metadata": {},
          "output_type": "execute_result"
        }
      ],
      "source": [
        "news_test_df[\"human_prediction\"].value_counts() # shows that we only have positive and negative class so this is fine"
      ]
    },
    {
      "cell_type": "code",
      "execution_count": 111,
      "metadata": {
        "colab": {
          "base_uri": "https://localhost:8080/"
        },
        "id": "spEJLfhxe7xV",
        "outputId": "7521ae10-8c9e-44b5-ae50-53cad12d445b"
      },
      "outputs": [
        {
          "data": {
            "text/plain": [
              "111"
            ]
          },
          "execution_count": 111,
          "metadata": {},
          "output_type": "execute_result"
        }
      ],
      "source": [
        "new_texts = news_test_df[\"text_full\"].to_list()\n",
        "len(new_texts)"
      ]
    },
    {
      "cell_type": "code",
      "execution_count": 112,
      "metadata": {
        "colab": {
          "base_uri": "https://localhost:8080/"
        },
        "id": "Z8TBjHnme7xX",
        "outputId": "2e823857-6e84-4c36-d583-061375495825"
      },
      "outputs": [
        {
          "data": {
            "text/plain": [
              "['European stocks shed more than one percent at open\\nTip : Use comma (,) to separate multiple quotes. Learn more... \\nWed, Aug 26, 2015, 09:38 BST - UK Markets close in 6 hrs 52 mins European stocks shed more than one percent at open AFP – 9 minutes ago View Photo \\n\\nEurope\\'s stock markets fell by more than one percent at the open on Wednesday despite gains in Asia, as investor enthusiasm waned over China\\'s interest rate cut. \\nIn initial trade, London\\'s benchmark FTSE 100 index lost 1.30 percent to 6,002.28 points, Frankfurt\\'s DAX 30 tumbled 1.69 percent to 9,956.85 and the CAC 40 in Paris sank 1.44 percent to 4,499.23 points. \\nEuropean markets had rebounded Tuesday after China cut interest rates in an attempt to boost the flagging Chinese economy, which had sent markets into a tailspin on Monday. \\nWall Street also rallied on the news but optimism soon fizzled and New York ended with sharp losses. \\nThe Dow Jones Industrial Average sank 1.29 percent as the market remained jittery over China after recent stock gyrations, especially Monday, when the Dow tumbled more than 1,000 points at one stage. \\n\"The equity market rollercoaster continues,\" said TrustNet analyst Tony Cross. \\n\"It (Other OTC: ITGL - news ) \\'s Wall Street\\'s slump... that appears to be setting the pace for the UK market and, as is often the way after these excessive moves, this volatility appears likely to be with us for some time yet.\" \\nOn the upside, Asian equities pushed higher Wednesday after China\\'s rate cut -- aimed at soothing fears about stalling growth in the world\\'s number-two economy -- but more volatility was forecast in a crisis that has panicked global markets. \\nChina\\'s central bank reduced interest rates on Tuesday and slashed the amount of money banks need to hold in reserve -- its second such double move in two months -- in a bid to stimulate growth. \\nThe measures are not only expected to help boost cash flow in China, but also revive confidence that Beijing can steer the world\\'s second-largest economy away from a hard landing and keep global growth on course.',\n",
              " 'Springer, Samsung to partner in mobile media\\nTip : Use comma (,) to separate multiple quotes. Learn more... \\nTue, Sep 1, 2015, 09:41 BST - UK Markets close in 6 hrs 49 mins Springer, Samsung to partner in mobile media Reuters – 11 minutes ago 53.19 -0.78 \\nFRANKFURT (Reuters) - Bild tabloid publisher Axel Springer and Korean electronics group Samsung announced a partnership in mobile media including news. \\nThe two companies said on Tuesday they would collaborate to produce digital media exclusively for Samsung customers, beginning with a news platform in Germany and Poland that will be rolled out in other European markets next year. \\nNewspaper publisher Springer, which owns several publications in Poland, now makes about two thirds of its sales and three quarters of its core profit from digital offerings. \\n(Reporting by Georgina Prodhan; Editing by Maria Sheahan) Tax cuts, pensions, childcare, online accounts and beer duty, here\\'s … Related Stock Articles Follow the quotes you care about most. Access timely news and investment updates to stay on top of the market. … More » Yahoo UK & Ireland Finance Terms \\nQuotes are real-time for NASDAQ, NYSE, and NYSEAmex when available. See also delay times for other exchanges . Quotes and other information supplied by independent providers identified on the Yahoo! Finance partner page . Quotes are updated automatically, but will be turned off after 25 minutes of inactivity. Quotes are delayed at least 15 minutes. All information provided \"as is\" for informational purposes only, not intended for trading purposes or advice. Neither Yahoo! nor any of independent providers is liable for any informational errors, incompleteness, or delays, or for any actions taken in reliance on information contained herein. By accessing the Yahoo! site, you agree not to redistribute the information found therein. \\nFundamental company data provided by Capital IQ . Historical chart data and daily updates provided by Commodity Systems, Inc. (CSI) . International historical chart data and daily updates provided by Morningstar, Inc . Yahoo! - News Network',\n",
              " \"Samsung wins approval for key merger after bitter fight\\nTip : Use comma (,) to separate multiple quotes. Learn more... \\nFri, Jul 17, 2015, 05:41 BST - UK Markets open in 2 hrs 19 mins Samsung wins approval for key merger after bitter fight AFP – 31 minutes ago View Photo \\n\\nSouth Korea's dominant Samsung conglomerate -- run by the country's wealthiest family -- secured shareholder approval Friday for the merger of two affiliates, seeing off a formidable challenge from investor activists led by a combative US hedge fund. \\nThe victory, following a bitterly contested proxy battle, will come as an enormous relief to the founding Lee family as it seeks to restructure the multi-headed Samsung Group ahead of a generational transfer of power from ailing patriarch Lee Kun-Hee. \\nAt an emergency meeting on Friday, shareholders of construction firm Samsung C&T voted in favour of a takeover by the group's de facto holding company, Cheil Industries (KSE: 028260.KS - news ) , in an all-stock deal. \\nThe merger had been passionately opposed by a significant number of C&T investors, rallied by US hedge fund Elliott Associates -- the company's second-largest single shareholder. \\nElliott had argued that the takeover wilfully undervalued the C&T share price at an unacceptable cost to its shareholders. \\nSamsung C&T executives insisted the deal would enhance shareholder value in the long-run, creating a more competitive merged company that could target sales of 60 trillion won ($52 billion) by 2020.\",\n",
              " 'Blackstone-Led Sale of Vivint Solar Notches $1.2 Billion\\nBlackstone Group LP and other Vivint Solar Inc. owners will reap about a $1.2 billion gain from the sale of the solar-panel installer to SunEdison Inc.\\nSunEdison, a renewable energy company, said in a statement Monday that it will buy Vivint Solar for $2.2 billion in cash and securities. Vivint Solar holders will receive $16.50 a share, consisting of $9.89 in cash, $3.31 in SunEdison stock and $3.30 in convertible notes, according to the statement.\\nInvestors led by Blackstone, the world’s largest private equity firm, will receive $1.36 billion in cash and securities. That’s about seven times the $195 million that the group, which includes Summit Partners, invested in Vivint Solar starting in late 2012, according to regulatory filings.\\nVivint Solar was created almost four years ago as a unit of Vivint Inc., a provider of home-security services and technology. Blackstone and other backers acquired the then-parent company’s three main assets in a $1.9 billion leveraged buyout in 2012, investing $714 million of equity. Blackstone owns about 73 percent of Vivint, according to a filing.\\nBlackstone, which oversees $333 billion in private equity, real estate, credit assets and hedge funds, has steadily sold investments to capture gains as stock markets have risen. In the second quarter, the firm reported distributable earnings, which reflect cash gains on sales, of $1 billion, up 35 percent from the same period in 2014. The exits included stakes in audience tracker Nielsen NV, medical devices maker Biomet Inc. and Pinnacle Foods Inc.\\nBlackstone spokesman Peter Rose didn’t immediately respond to a request for comment.',\n",
              " 'BUZZ-TalkTalk: extends losses following broker caution\\nTerms \\nQuotes are real-time for NASDAQ, NYSE, and NYSEAmex when available. See also delay times for other exchanges . Quotes and other information supplied by independent providers identified on the Yahoo! Finance partner page . Quotes are updated automatically, but will be turned off after 25 minutes of inactivity. Quotes are delayed at least 15 minutes. All information provided \"as is\" for informational purposes only, not intended for trading purposes or advice. Neither Yahoo! nor any of independent providers is liable for any informational errors, incompleteness, or delays, or for any actions taken in reliance on information contained herein. By accessing the Yahoo! site, you agree not to redistribute the information found therein. \\nFundamental company data provided by Capital IQ . Historical chart data and daily updates provided by Commodity Systems, Inc. (CSI) . International historical chart data and daily updates provided by Morningstar, Inc . Yahoo! - News Network']"
            ]
          },
          "execution_count": 112,
          "metadata": {},
          "output_type": "execute_result"
        }
      ],
      "source": [
        "new_texts[:5]"
      ]
    },
    {
      "cell_type": "code",
      "execution_count": 113,
      "metadata": {
        "colab": {
          "base_uri": "https://localhost:8080/"
        },
        "id": "noYRsR29e7xY",
        "outputId": "7de10a9f-ed12-4057-e792-7ce964c0e52c"
      },
      "outputs": [
        {
          "data": {
            "text/plain": [
              "111"
            ]
          },
          "execution_count": 113,
          "metadata": {},
          "output_type": "execute_result"
        }
      ],
      "source": [
        "new_text_labels = news_test_df[\"human_prediction\"].to_list()\n",
        "len(new_text_labels)"
      ]
    },
    {
      "cell_type": "code",
      "execution_count": 114,
      "metadata": {
        "id": "7M7pu4r-32z_"
      },
      "outputs": [],
      "source": [
        "new_text_labels = [1 if x == 1 else 0 for x in new_text_labels]"
      ]
    },
    {
      "cell_type": "code",
      "execution_count": 115,
      "metadata": {
        "colab": {
          "base_uri": "https://localhost:8080/"
        },
        "id": "XcnBxbFJe7xa",
        "outputId": "469bee1c-4626-40d1-c6fa-9a54a2e1a3f7"
      },
      "outputs": [
        {
          "data": {
            "text/plain": [
              "[0, 1, 1, 1, 0]"
            ]
          },
          "execution_count": 115,
          "metadata": {},
          "output_type": "execute_result"
        }
      ],
      "source": [
        "new_text_labels[:5]"
      ]
    },
    {
      "cell_type": "code",
      "execution_count": 116,
      "metadata": {
        "colab": {
          "base_uri": "https://localhost:8080/"
        },
        "id": "uLiREr0W3iYK",
        "outputId": "2b47fd14-34e2-4193-a15a-3d43c9a166e1"
      },
      "outputs": [
        {
          "data": {
            "text/plain": [
              "0.5"
            ]
          },
          "execution_count": 116,
          "metadata": {},
          "output_type": "execute_result"
        }
      ],
      "source": [
        "lgr_threshold"
      ]
    },
    {
      "cell_type": "markdown",
      "metadata": {
        "id": "CaE1a8Bie7xb"
      },
      "source": [
        "#### 1. Test set performance on logistic regression"
      ]
    },
    {
      "cell_type": "code",
      "execution_count": 117,
      "metadata": {
        "id": "bHxyw7MEe7xc"
      },
      "outputs": [],
      "source": [
        "preprocessed_new_texts = [data_cleaner_sa(text) for text in new_texts]\n",
        "# vectorise into tf-idf\n",
        "X_lgr_new = lgr_vectoriser.transform(preprocessed_new_texts)\n",
        "\n",
        "# predict the new text given vectorisation\n",
        "lgr_test_probabilities = lgr_model.predict_proba(X_lgr_new)\n",
        "lgr_test_predictions = np.where(lgr_test_probabilities[:, 1] >= lgr_threshold, 1, 0)\n",
        "\n",
        "# output the predictions and visualise it here."
      ]
    },
    {
      "cell_type": "code",
      "execution_count": 118,
      "metadata": {
        "id": "vMlti2sRe7xd"
      },
      "outputs": [],
      "source": [
        "# for test set - use text_full and human_prediction to review and test how the models perform, in terms of the 4 scores we have above."
      ]
    },
    {
      "cell_type": "markdown",
      "metadata": {
        "id": "i0nGD7tye7xd"
      },
      "source": [
        "#### 2. Test performance on Pre-trained FinBERT Model"
      ]
    },
    {
      "cell_type": "code",
      "execution_count": 119,
      "metadata": {
        "id": "XBIZPnTOe7xe"
      },
      "outputs": [],
      "source": [
        "# load the model if need be\n",
        "\n",
        "# Function to predict sentiment\n",
        "def predict_sentiment(text, model, tokeniser, threshold = 0.5):\n",
        "    # Tokenize the input text\n",
        "    inputs = tokeniser(text, padding=True, truncation=True, max_length=512, return_tensors=\"pt\")\n",
        "\n",
        "    # move inputs to the same device as the model\n",
        "    input_ids = inputs['input_ids'].to(device)\n",
        "    attention_mask = inputs['attention_mask'].to(device)\n",
        "\n",
        "    # predict\n",
        "    with torch.no_grad():\n",
        "        logits = model(input_ids, attention_mask)\n",
        "        prediction = torch.sigmoid(logits).item()\n",
        "\n",
        "    # interpret the output\n",
        "    sentiment = 1 if prediction > threshold else 0\n",
        "    return sentiment"
      ]
    },
    {
      "cell_type": "code",
      "execution_count": 120,
      "metadata": {
        "colab": {
          "base_uri": "https://localhost:8080/"
        },
        "id": "b0kv7BUh4FMP",
        "outputId": "aa10f8d6-b188-490a-eb34-0a00c04dfba9"
      },
      "outputs": [
        {
          "data": {
            "text/plain": [
              "0.4"
            ]
          },
          "execution_count": 120,
          "metadata": {},
          "output_type": "execute_result"
        }
      ],
      "source": [
        "bert_threshold"
      ]
    },
    {
      "cell_type": "code",
      "execution_count": 121,
      "metadata": {
        "id": "TbJaqn-We7xf"
      },
      "outputs": [],
      "source": [
        "# just save the predictions here, with the right threshold\n",
        "\n",
        "bert_test_predictions = []\n",
        "\n",
        "bert_lgr_classifier.eval()\n",
        "for text in new_texts:\n",
        "    bert_test_predictions.append(predict_sentiment(text, bert_lgr_classifier, tokeniser, bert_threshold)) # use same tokeniser from before."
      ]
    },
    {
      "cell_type": "code",
      "execution_count": 122,
      "metadata": {
        "id": "0ot7XA9be7xg"
      },
      "outputs": [],
      "source": [
        "# logistic regression scores\n",
        "test_accuracy_lgr = accuracy_score(new_text_labels, lgr_test_predictions)\n",
        "test_precision_lgr = precision_score(new_text_labels, lgr_test_predictions, average='weighted')\n",
        "test_recall_lgr = recall_score(new_text_labels, lgr_test_predictions, average='weighted')\n",
        "test_f1_lgr = f1_score(new_text_labels, lgr_test_predictions, average='weighted')\n",
        "\n",
        "# bert model scores\n",
        "test_accuracy_bert = accuracy_score(new_text_labels, bert_test_predictions)\n",
        "test_precision_bert = precision_score(new_text_labels, bert_test_predictions, average='weighted')\n",
        "test_recall_bert = recall_score(new_text_labels, bert_test_predictions, average='weighted')\n",
        "test_f1_bert = f1_score(new_text_labels, bert_test_predictions, average='weighted')"
      ]
    },
    {
      "cell_type": "code",
      "execution_count": 123,
      "metadata": {
        "colab": {
          "base_uri": "https://localhost:8080/"
        },
        "id": "khTqqD-F4f3I",
        "outputId": "99de996a-fb3e-4b5b-f52c-5db5c883cdc9"
      },
      "outputs": [
        {
          "name": "stdout",
          "output_type": "stream",
          "text": [
            "LGR Performance on Test Set\n",
            "Accuracy with threshold: 0.7387387387387387\n",
            "Precision with threshold: 0.7935844935844937\n",
            "Recall with threshold: 0.7387387387387387\n",
            "F1 Score with threshold: 0.7387387387387386\n"
          ]
        }
      ],
      "source": [
        "print(\"LGR Performance on Test Set\")\n",
        "\n",
        "print(\"Accuracy with threshold:\", test_accuracy_lgr)\n",
        "print(\"Precision with threshold:\", test_precision_lgr)\n",
        "print(\"Recall with threshold:\", test_recall_lgr)\n",
        "print(\"F1 Score with threshold:\", test_f1_lgr)"
      ]
    },
    {
      "cell_type": "code",
      "execution_count": 124,
      "metadata": {
        "colab": {
          "base_uri": "https://localhost:8080/"
        },
        "id": "LxTDyx0_4wmh",
        "outputId": "f6108539-7ee4-4f7b-ed90-96073405371b"
      },
      "outputs": [
        {
          "name": "stdout",
          "output_type": "stream",
          "text": [
            "Bert Performance on Test Set\n",
            "Accuracy with threshold: 0.8378378378378378\n",
            "Precision with threshold: 0.8602813339655444\n",
            "Recall with threshold: 0.8378378378378378\n",
            "F1 Score with threshold: 0.839268680445151\n"
          ]
        }
      ],
      "source": [
        "print(\"FinBert Performance on Test Set\")\n",
        "\n",
        "print(\"Accuracy with threshold:\", test_accuracy_bert)\n",
        "print(\"Precision with threshold:\", test_precision_bert)\n",
        "print(\"Recall with threshold:\", test_recall_bert)\n",
        "print(\"F1 Score with threshold:\", test_f1_bert)"
      ]
    },
    {
      "cell_type": "code",
      "execution_count": 126,
      "metadata": {
        "colab": {
          "base_uri": "https://localhost:8080/",
          "height": 563
        },
        "id": "J8xNuEGte7xh",
        "outputId": "3bec9de3-08ea-446d-c8b9-eaf7b16566fa"
      },
      "outputs": [
        {
          "data": {
            "text/plain": [
              "<matplotlib.legend.Legend at 0x7bf265f4b850>"
            ]
          },
          "execution_count": 126,
          "metadata": {},
          "output_type": "execute_result"
        },
        {
          "data": {
            "image/png": "[encoded data removed]",
            "text/plain": [
              "<Figure size 1000x600 with 1 Axes>"
            ]
          },
          "metadata": {},
          "output_type": "display_data"
        }
      ],
      "source": [
        "# change the references here as needed\n",
        "\n",
        "# Create a plot here to compare and contrast the performance between these models\n",
        "metrics_names = ['Accuracy', 'Precision', 'Recall', 'F1 Score']\n",
        "\n",
        "lgr_scores_test_set = [test_accuracy_lgr, test_precision_lgr, test_recall_lgr, test_f1_lgr]\n",
        "bert_scores_test_set = [test_accuracy_bert, test_precision_bert, test_recall_bert, test_f1_bert]\n",
        "\n",
        "# create bar chart for labels\n",
        "x = range(len(metrics_names))  # metric label location\n",
        "bar_width = 0.35\n",
        "\n",
        "fig, ax = plt.subplots(figsize=(10, 6))\n",
        "rects1 = ax.bar(x, lgr_scores_test_set, bar_width, label='Logistic Regression Classifier')\n",
        "rects2 = ax.bar([p + bar_width for p in x], bert_scores_test_set, bar_width, label='Fine Tuned Bert (FinBERT) Classifier')\n",
        "\n",
        "ax.set_ylabel('Performance Metric %')\n",
        "ax.set_title('Test Set Performance by Metric and Model')\n",
        "ax.set_xticks([p + bar_width / 2 for p in x])\n",
        "ax.set_xticklabels(metrics_names)\n",
        "ax.legend(loc=\"lower right\")"
      ]
    },
    {
      "cell_type": "markdown",
      "metadata": {},
      "source": [
        "# Combined Performance - Logistic Regression, Base BERT and FinBERT\n",
        "\n",
        "Here we create a graph which groups together the combined performance of Logistic Regression, Base BERT and FinBERT together in a single graph from notebook 5 and this notebook, on the validation and test sets.\n",
        "\n",
        "Get the combined results of the validation and training set across all 3 model performances. Because the results from fine-tuning BERT models are never truly equal at each run even with the same seed, due to limitations of [PyTorch](https://stackoverflow.com/questions/71600683/reproducibility-issue-with-pytorch), therefore we hard code the results here from our most successful run with the seed `30224`."
      ]
    },
    {
      "cell_type": "code",
      "execution_count": 2,
      "metadata": {},
      "outputs": [],
      "source": [
        "val_accuracy_lgr, val_precision_lgr, val_recall_lgr, val_f1_lgr = 0.8545176110260337, 0.853627507120399, 0.8545176110260337, 0.8529291653643774\n",
        "val_accuracy_bert, val_precision_bert, val_recall_bert, val_f1_bert = 0.781010719754977, 0.7781790059243444, 0.781010719754977, 0.77625068945305 \n",
        "val_accuracy_finbert, val_precision_finbert, val_recall_finbert, val_f1_finbert = 0.8958652373660031, 0.8977899316282879, 0.8958652373660031, 0.8964026466079145"
      ]
    },
    {
      "cell_type": "code",
      "execution_count": 3,
      "metadata": {},
      "outputs": [
        {
          "data": {
            "text/plain": [
              "<matplotlib.legend.Legend at 0x2070f64bed0>"
            ]
          },
          "execution_count": 3,
          "metadata": {},
          "output_type": "execute_result"
        },
        {
          "data": {
            "image/png": "[encoded data removed]",
            "text/plain": [
              "<Figure size 1000x600 with 1 Axes>"
            ]
          },
          "metadata": {},
          "output_type": "display_data"
        }
      ],
      "source": [
        "# validation set performance graph\n",
        "\n",
        "# Create a plot here to compare and contrast the performance between these models\n",
        "metrics_names = ['Accuracy', 'Precision', 'Recall', 'F1 Score']\n",
        "\n",
        "lgr_scores_val_set = [val_accuracy_lgr, val_precision_lgr, val_recall_lgr, val_f1_lgr]\n",
        "bert_base_scores_val_set = [val_accuracy_bert, val_precision_bert, val_recall_bert, val_f1_bert]\n",
        "finbert_scores_val_set = [val_accuracy_finbert, val_precision_finbert, val_recall_finbert, val_f1_finbert]  # Random Forest scores\n",
        "\n",
        "# create bar chart for labels\n",
        "x = range(len(metrics_names))  # metric label location\n",
        "bar_width = 0.2  # adjusted width\n",
        "\n",
        "fig, ax = plt.subplots(figsize=(10, 6))\n",
        "rects1 = ax.bar([p - bar_width for p in x], lgr_scores_val_set, bar_width, label='Logistic Regression Classifier')\n",
        "rects2 = ax.bar(x, bert_base_scores_val_set, bar_width, label='Fine Tuned Bert Classifier')\n",
        "rects3 = ax.bar([p + bar_width for p in x], finbert_scores_val_set, bar_width, label='Fine Tuned FinBert Classifier')\n",
        "\n",
        "ax.set_ylabel('Performance Metric %')\n",
        "ax.set_title('Validation Set Performance by Metric and Model')\n",
        "ax.set_xticks(x)\n",
        "ax.set_xticklabels(metrics_names)\n",
        "ax.legend(loc=\"lower right\")\n"
      ]
    },
    {
      "cell_type": "code",
      "execution_count": 4,
      "metadata": {},
      "outputs": [],
      "source": [
        "test_accuracy_lgr, test_precision_lgr, test_recall_lgr, test_f1_lgr = 0.7387387387387387, 0.7935844935844937, 0.7387387387387387, 0.7387387387387386\n",
        "test_accuracy_bert, test_precision_bert, test_recall_bert, test_f1_bert = 0.6666666666666666, 0.696078431372549, 0.6666666666666666, 0.6691086691086692\n",
        "test_accuracy_finbert, test_precision_finbert, test_recall_finbert, test_f1_finbert = 0.8378378378378378, 0.8602813339655444, 0.8378378378378378, 0.839268680445151"
      ]
    },
    {
      "cell_type": "code",
      "execution_count": 6,
      "metadata": {},
      "outputs": [
        {
          "data": {
            "text/plain": [
              "<matplotlib.legend.Legend at 0x2071005e2d0>"
            ]
          },
          "execution_count": 6,
          "metadata": {},
          "output_type": "execute_result"
        },
        {
          "data": {
            "image/png": "[encoded data removed]",
            "text/plain": [
              "<Figure size 1000x600 with 1 Axes>"
            ]
          },
          "metadata": {},
          "output_type": "display_data"
        }
      ],
      "source": [
        "# test set performance graph\n",
        "\n",
        "# Create a plot here to compare and contrast the performance between these models\n",
        "metrics_names = ['Accuracy', 'Precision', 'Recall', 'F1 Score']\n",
        "\n",
        "lgr_scores_test_set = [test_accuracy_lgr, test_precision_lgr, test_recall_lgr, test_f1_lgr]\n",
        "bert_base_scores_test_set = [test_accuracy_bert, test_precision_bert, test_recall_bert, test_f1_bert]\n",
        "finbert_scores_test_set = [test_accuracy_finbert, test_precision_finbert, test_recall_finbert, test_f1_finbert]  # Random Forest scores\n",
        "\n",
        "# create bar chart for labels\n",
        "x = range(len(metrics_names))  # metric label location\n",
        "bar_width = 0.2  # adjusted width\n",
        "\n",
        "fig, ax = plt.subplots(figsize=(10, 6))\n",
        "rects1 = ax.bar([p - bar_width for p in x], lgr_scores_test_set, bar_width, label='Logistic Regression Classifier')\n",
        "rects2 = ax.bar(x, bert_base_scores_test_set, bar_width, label='Fine Tuned Bert Classifier')\n",
        "rects3 = ax.bar([p + bar_width for p in x], finbert_scores_test_set, bar_width, label='Fine Tuned FinBert Classifier')\n",
        "\n",
        "ax.set_ylabel('Performance Metric %')\n",
        "ax.set_title('Test Set Performance by Metric and Model')\n",
        "ax.set_xticks(x)\n",
        "ax.set_xticklabels(metrics_names)\n",
        "ax.legend(loc=\"lower right\")\n"
      ]
    }
  ],
  "metadata": {
    "accelerator": "GPU",
    "colab": {
      "gpuType": "V100",
      "provenance": []
    },
    "kernelspec": {
      "display_name": "Python 3",
      "name": "python3"
    },
    "language_info": {
      "codemirror_mode": {
        "name": "ipython",
        "version": 3
      },
      "file_extension": ".py",
      "mimetype": "text/x-python",
      "name": "python",
      "nbconvert_exporter": "python",
      "pygments_lexer": "ipython3",
      "version": "3.11.3"
    }
  },
  "nbformat": 4,
  "nbformat_minor": 0
}
