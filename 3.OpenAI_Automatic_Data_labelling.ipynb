{
 "cells": [
  {
   "cell_type": "markdown",
   "metadata": {},
   "source": [
    "# 3. Prompt engineering code\n",
    "\n",
    "### Name: Bingfeng Hu\n",
    "### CID: 01137798\n",
    "\n",
    "I declare that the below is of my own work, and I have worked on this assignment independently. Please see the cell below for package dependencies, uncomment to install the package dependencies.\n",
    "\n",
    "In this notebook we peforming labelling on the entire dataset of interest for training, validation, and testing. The dataset of interest are from the 3 sources we've choosen filtered for articles containing 512 tokens or less.\n",
    "\n",
    "Here, we write code here to automatically label this data"
   ]
  },
  {
   "cell_type": "code",
   "execution_count": 3,
   "metadata": {},
   "outputs": [
    {
     "data": {
      "text/plain": [
       "True"
      ]
     },
     "execution_count": 3,
     "metadata": {},
     "output_type": "execute_result"
    }
   ],
   "source": [
    "import os\n",
    "from openai import OpenAI\n",
    "\n",
    "import pandas as pd\n",
    "import numpy as np\n",
    "\n",
    "import matplotlib.pyplot as plt\n",
    "\n",
    "# allow for asyncio\n",
    "import asyncio\n",
    "from openai import AsyncOpenAI\n",
    "\n",
    "from dotenv import load_dotenv\n",
    "\n",
    "\n",
    "# load the openai api key needed from .env to call openAI models from the API\n",
    "\n",
    "load_dotenv()"
   ]
  },
  {
   "cell_type": "code",
   "execution_count": 2,
   "metadata": {},
   "outputs": [],
   "source": [
    "# add seed for reproducibility\n",
    "\n",
    "SEED = 30224"
   ]
  },
  {
   "cell_type": "code",
   "execution_count": 3,
   "metadata": {},
   "outputs": [],
   "source": [
    "# load the data from notebook 2's output, with articles with 512 tokens or less\n",
    "\n",
    "file_name = \"processed_data/compiled_news_all_bert_compliant.json\"\n",
    "\n",
    "df_useful_sources_short_articles = pd.read_json(file_name)"
   ]
  },
  {
   "cell_type": "code",
   "execution_count": 4,
   "metadata": {},
   "outputs": [
    {
     "data": {
      "text/plain": [
       "(5748, 45)"
      ]
     },
     "execution_count": 4,
     "metadata": {},
     "output_type": "execute_result"
    }
   ],
   "source": [
    "df_useful_sources_short_articles.shape"
   ]
  },
  {
   "cell_type": "code",
   "execution_count": 5,
   "metadata": {},
   "outputs": [],
   "source": [
    "# here we remove duplicates of news articles based on the title and text body\n",
    "\n",
    "df_useful_sources_short_articles = df_useful_sources_short_articles.drop_duplicates(subset=[\"text_full\"])"
   ]
  },
  {
   "cell_type": "code",
   "execution_count": 6,
   "metadata": {},
   "outputs": [
    {
     "data": {
      "text/plain": [
       "(5675, 45)"
      ]
     },
     "execution_count": 6,
     "metadata": {},
     "output_type": "execute_result"
    }
   ],
   "source": [
    "df_useful_sources_short_articles.drop_duplicates(subset=[\"text_full\"]).shape"
   ]
  },
  {
   "cell_type": "markdown",
   "metadata": {},
   "source": [
    "# Create Test set\n",
    "\n",
    "Randomly sample the 200 in order to create our test set"
   ]
  },
  {
   "cell_type": "code",
   "execution_count": 7,
   "metadata": {},
   "outputs": [
    {
     "data": {
      "text/html": [
       "<div>\n",
       "<style scoped>\n",
       "    .dataframe tbody tr th:only-of-type {\n",
       "        vertical-align: middle;\n",
       "    }\n",
       "\n",
       "    .dataframe tbody tr th {\n",
       "        vertical-align: top;\n",
       "    }\n",
       "\n",
       "    .dataframe thead th {\n",
       "        text-align: right;\n",
       "    }\n",
       "</style>\n",
       "<table border=\"1\" class=\"dataframe\">\n",
       "  <thead>\n",
       "    <tr style=\"text-align: right;\">\n",
       "      <th></th>\n",
       "      <th>organizations</th>\n",
       "      <th>uuid</th>\n",
       "      <th>author</th>\n",
       "      <th>url</th>\n",
       "      <th>ord_in_thread</th>\n",
       "      <th>title</th>\n",
       "      <th>locations</th>\n",
       "      <th>highlightText</th>\n",
       "      <th>language</th>\n",
       "      <th>persons</th>\n",
       "      <th>...</th>\n",
       "      <th>thread_site_type</th>\n",
       "      <th>thread_published</th>\n",
       "      <th>thread_replies_count</th>\n",
       "      <th>thread_uuid</th>\n",
       "      <th>entities_persons</th>\n",
       "      <th>entities_locations</th>\n",
       "      <th>entities_organizations</th>\n",
       "      <th>word_count</th>\n",
       "      <th>text_full</th>\n",
       "      <th>token_count</th>\n",
       "    </tr>\n",
       "  </thead>\n",
       "  <tbody>\n",
       "    <tr>\n",
       "      <th>3444</th>\n",
       "      <td>[]</td>\n",
       "      <td>9f44148d3b4ecc0c6a0fe60bde1e562a31ca9cc3</td>\n",
       "      <td></td>\n",
       "      <td>https://uk.finance.yahoo.com/news/european-sto...</td>\n",
       "      <td>0</td>\n",
       "      <td>European stocks shed more than one percent at ...</td>\n",
       "      <td>[]</td>\n",
       "      <td></td>\n",
       "      <td>english</td>\n",
       "      <td>[]</td>\n",
       "      <td>...</td>\n",
       "      <td>news</td>\n",
       "      <td>2015-08-26T11:28:00.000+03:00</td>\n",
       "      <td>0</td>\n",
       "      <td>9f44148d3b4ecc0c6a0fe60bde1e562a31ca9cc3</td>\n",
       "      <td>[]</td>\n",
       "      <td>[]</td>\n",
       "      <td>[]</td>\n",
       "      <td>355</td>\n",
       "      <td>European stocks shed more than one percent at ...</td>\n",
       "      <td>479</td>\n",
       "    </tr>\n",
       "    <tr>\n",
       "      <th>4728</th>\n",
       "      <td>[Samsung]</td>\n",
       "      <td>07040a0690d95f08a552bbad0eecde9618b196b3</td>\n",
       "      <td></td>\n",
       "      <td>https://uk.finance.yahoo.com/news/springer-sam...</td>\n",
       "      <td>0</td>\n",
       "      <td>Springer, Samsung to partner in mobile media</td>\n",
       "      <td>[]</td>\n",
       "      <td></td>\n",
       "      <td>english</td>\n",
       "      <td>[]</td>\n",
       "      <td>...</td>\n",
       "      <td>news</td>\n",
       "      <td>2015-09-01T11:29:00.000+03:00</td>\n",
       "      <td>0</td>\n",
       "      <td>07040a0690d95f08a552bbad0eecde9618b196b3</td>\n",
       "      <td>[]</td>\n",
       "      <td>[]</td>\n",
       "      <td>[]</td>\n",
       "      <td>332</td>\n",
       "      <td>Springer, Samsung to partner in mobile media\\n...</td>\n",
       "      <td>427</td>\n",
       "    </tr>\n",
       "    <tr>\n",
       "      <th>3927</th>\n",
       "      <td>[EU]</td>\n",
       "      <td>7a390e558374d68b218918f4c28aa766c13a92f2</td>\n",
       "      <td></td>\n",
       "      <td>https://uk.finance.yahoo.com/news/labours-corb...</td>\n",
       "      <td>0</td>\n",
       "      <td>Labour's Corbyn says voted 'No' to Britain's E...</td>\n",
       "      <td>[Britain]</td>\n",
       "      <td></td>\n",
       "      <td>english</td>\n",
       "      <td>[Corbyn]</td>\n",
       "      <td>...</td>\n",
       "      <td>news</td>\n",
       "      <td>2015-09-10T21:48:00.000+03:00</td>\n",
       "      <td>0</td>\n",
       "      <td>7a390e558374d68b218918f4c28aa766c13a92f2</td>\n",
       "      <td>[]</td>\n",
       "      <td>[]</td>\n",
       "      <td>[]</td>\n",
       "      <td>229</td>\n",
       "      <td>Labour's Corbyn says voted 'No' to Britain's E...</td>\n",
       "      <td>308</td>\n",
       "    </tr>\n",
       "    <tr>\n",
       "      <th>4365</th>\n",
       "      <td>[]</td>\n",
       "      <td>ab0359d7ee85020a4b8c99cb23df02aefb20d38f</td>\n",
       "      <td></td>\n",
       "      <td>https://uk.finance.yahoo.com/news/u-oil-extend...</td>\n",
       "      <td>0</td>\n",
       "      <td>U.S. oil extends gains on stock-draw, Brent mu...</td>\n",
       "      <td>[U.S., Asia]</td>\n",
       "      <td></td>\n",
       "      <td>english</td>\n",
       "      <td>[Henning Gloystein]</td>\n",
       "      <td>...</td>\n",
       "      <td>news</td>\n",
       "      <td>2015-09-16T06:17:00.000+03:00</td>\n",
       "      <td>0</td>\n",
       "      <td>ab0359d7ee85020a4b8c99cb23df02aefb20d38f</td>\n",
       "      <td>[]</td>\n",
       "      <td>[]</td>\n",
       "      <td>[]</td>\n",
       "      <td>350</td>\n",
       "      <td>U.S. oil extends gains on stock-draw, Brent mu...</td>\n",
       "      <td>461</td>\n",
       "    </tr>\n",
       "    <tr>\n",
       "      <th>359</th>\n",
       "      <td>[Imperial Tobacco, Bloomberg Terms]</td>\n",
       "      <td>ad32f3bc1e0528d1e1734813bd39c4ed496b9f9c</td>\n",
       "      <td></td>\n",
       "      <td>https://uk.finance.yahoo.com/news/imperial-tob...</td>\n",
       "      <td>0</td>\n",
       "      <td>Imperial Tobacco considering stake sale in Spa...</td>\n",
       "      <td>[Spain, Logista]</td>\n",
       "      <td></td>\n",
       "      <td>english</td>\n",
       "      <td>[]</td>\n",
       "      <td>...</td>\n",
       "      <td>news</td>\n",
       "      <td>2015-07-15T21:40:00.000+03:00</td>\n",
       "      <td>0</td>\n",
       "      <td>ad32f3bc1e0528d1e1734813bd39c4ed496b9f9c</td>\n",
       "      <td>[]</td>\n",
       "      <td>[]</td>\n",
       "      <td>[]</td>\n",
       "      <td>161</td>\n",
       "      <td>Imperial Tobacco considering stake sale in Spa...</td>\n",
       "      <td>210</td>\n",
       "    </tr>\n",
       "  </tbody>\n",
       "</table>\n",
       "<p>5 rows × 45 columns</p>\n",
       "</div>"
      ],
      "text/plain": [
       "                            organizations  \\\n",
       "3444                                   []   \n",
       "4728                            [Samsung]   \n",
       "3927                                 [EU]   \n",
       "4365                                   []   \n",
       "359   [Imperial Tobacco, Bloomberg Terms]   \n",
       "\n",
       "                                          uuid author  \\\n",
       "3444  9f44148d3b4ecc0c6a0fe60bde1e562a31ca9cc3          \n",
       "4728  07040a0690d95f08a552bbad0eecde9618b196b3          \n",
       "3927  7a390e558374d68b218918f4c28aa766c13a92f2          \n",
       "4365  ab0359d7ee85020a4b8c99cb23df02aefb20d38f          \n",
       "359   ad32f3bc1e0528d1e1734813bd39c4ed496b9f9c          \n",
       "\n",
       "                                                    url  ord_in_thread  \\\n",
       "3444  https://uk.finance.yahoo.com/news/european-sto...              0   \n",
       "4728  https://uk.finance.yahoo.com/news/springer-sam...              0   \n",
       "3927  https://uk.finance.yahoo.com/news/labours-corb...              0   \n",
       "4365  https://uk.finance.yahoo.com/news/u-oil-extend...              0   \n",
       "359   https://uk.finance.yahoo.com/news/imperial-tob...              0   \n",
       "\n",
       "                                                  title         locations  \\\n",
       "3444  European stocks shed more than one percent at ...                []   \n",
       "4728       Springer, Samsung to partner in mobile media                []   \n",
       "3927  Labour's Corbyn says voted 'No' to Britain's E...         [Britain]   \n",
       "4365  U.S. oil extends gains on stock-draw, Brent mu...      [U.S., Asia]   \n",
       "359   Imperial Tobacco considering stake sale in Spa...  [Spain, Logista]   \n",
       "\n",
       "     highlightText language              persons  ... thread_site_type  \\\n",
       "3444                english                   []  ...             news   \n",
       "4728                english                   []  ...             news   \n",
       "3927                english             [Corbyn]  ...             news   \n",
       "4365                english  [Henning Gloystein]  ...             news   \n",
       "359                 english                   []  ...             news   \n",
       "\n",
       "                   thread_published thread_replies_count  \\\n",
       "3444  2015-08-26T11:28:00.000+03:00                    0   \n",
       "4728  2015-09-01T11:29:00.000+03:00                    0   \n",
       "3927  2015-09-10T21:48:00.000+03:00                    0   \n",
       "4365  2015-09-16T06:17:00.000+03:00                    0   \n",
       "359   2015-07-15T21:40:00.000+03:00                    0   \n",
       "\n",
       "                                   thread_uuid entities_persons  \\\n",
       "3444  9f44148d3b4ecc0c6a0fe60bde1e562a31ca9cc3               []   \n",
       "4728  07040a0690d95f08a552bbad0eecde9618b196b3               []   \n",
       "3927  7a390e558374d68b218918f4c28aa766c13a92f2               []   \n",
       "4365  ab0359d7ee85020a4b8c99cb23df02aefb20d38f               []   \n",
       "359   ad32f3bc1e0528d1e1734813bd39c4ed496b9f9c               []   \n",
       "\n",
       "      entities_locations  entities_organizations  word_count  \\\n",
       "3444                  []                      []         355   \n",
       "4728                  []                      []         332   \n",
       "3927                  []                      []         229   \n",
       "4365                  []                      []         350   \n",
       "359                   []                      []         161   \n",
       "\n",
       "                                              text_full  token_count  \n",
       "3444  European stocks shed more than one percent at ...          479  \n",
       "4728  Springer, Samsung to partner in mobile media\\n...          427  \n",
       "3927  Labour's Corbyn says voted 'No' to Britain's E...          308  \n",
       "4365  U.S. oil extends gains on stock-draw, Brent mu...          461  \n",
       "359   Imperial Tobacco considering stake sale in Spa...          210  \n",
       "\n",
       "[5 rows x 45 columns]"
      ]
     },
     "execution_count": 7,
     "metadata": {},
     "output_type": "execute_result"
    }
   ],
   "source": [
    "manual_review_df = df_useful_sources_short_articles.sample(200, random_state=SEED)\n",
    "\n",
    "manual_review_df.head()"
   ]
  },
  {
   "cell_type": "code",
   "execution_count": 8,
   "metadata": {},
   "outputs": [
    {
     "data": {
      "text/plain": [
       "(200, 45)"
      ]
     },
     "execution_count": 8,
     "metadata": {},
     "output_type": "execute_result"
    }
   ],
   "source": [
    "manual_review_df.shape"
   ]
  },
  {
   "cell_type": "code",
   "execution_count": 9,
   "metadata": {},
   "outputs": [
    {
     "data": {
      "text/plain": [
       "(200, 45)"
      ]
     },
     "execution_count": 9,
     "metadata": {},
     "output_type": "execute_result"
    }
   ],
   "source": [
    "# manual_review_df.drop_duplicates(subset=[\"text_full\"]).shape"
   ]
  },
  {
   "cell_type": "code",
   "execution_count": 10,
   "metadata": {},
   "outputs": [],
   "source": [
    "manual_review_df.to_json(\"test/manual_review_articles_bert_compliant_unlabelled.json\", orient=\"records\")"
   ]
  },
  {
   "cell_type": "markdown",
   "metadata": {},
   "source": [
    "# Creating the dataset for training and validation\n",
    "\n",
    "We then take the observations which are not in our 200 samples for the test and create a separate dataset which we will use for training and validation"
   ]
  },
  {
   "cell_type": "code",
   "execution_count": 11,
   "metadata": {},
   "outputs": [
    {
     "data": {
      "text/plain": [
       "(5475, 45)"
      ]
     },
     "execution_count": 11,
     "metadata": {},
     "output_type": "execute_result"
    }
   ],
   "source": [
    "# get the rest of the unlabelled data\n",
    "unlabelled_news_articles = df_useful_sources_short_articles.drop(manual_review_df.index)\n",
    "unlabelled_news_articles.shape # 5748 original size\n"
   ]
  },
  {
   "cell_type": "code",
   "execution_count": 12,
   "metadata": {},
   "outputs": [],
   "source": [
    "unlabelled_news_articles.to_json(\"test/automatic_review_articles_bert_compliant_unlabelled.json\", orient=\"records\")"
   ]
  },
  {
   "cell_type": "markdown",
   "metadata": {},
   "source": [
    "Next steps for labelling\n",
    "\n",
    "Use the test folder so that you can then create the output in the final labelled data folder.\n",
    "\n",
    "File by file, and then put everything in the combined file."
   ]
  },
  {
   "cell_type": "code",
   "execution_count": 13,
   "metadata": {},
   "outputs": [
    {
     "name": "stdout",
     "output_type": "stream",
     "text": [
      "<class 'pandas.core.frame.DataFrame'>\n",
      "Int64Index: 5475 entries, 0 to 5747\n",
      "Data columns (total 45 columns):\n",
      " #   Column                             Non-Null Count  Dtype \n",
      "---  ------                             --------------  ----- \n",
      " 0   organizations                      5475 non-null   object\n",
      " 1   uuid                               5475 non-null   object\n",
      " 2   author                             5475 non-null   object\n",
      " 3   url                                5475 non-null   object\n",
      " 4   ord_in_thread                      5475 non-null   int64 \n",
      " 5   title                              5475 non-null   object\n",
      " 6   locations                          5475 non-null   object\n",
      " 7   highlightText                      5475 non-null   object\n",
      " 8   language                           5475 non-null   object\n",
      " 9   persons                            5475 non-null   object\n",
      " 10  text                               5475 non-null   object\n",
      " 11  external_links                     5475 non-null   object\n",
      " 12  published                          5475 non-null   object\n",
      " 13  crawled                            5475 non-null   object\n",
      " 14  highlightTitle                     5475 non-null   object\n",
      " 15  thread_social_gplus_shares         5475 non-null   int64 \n",
      " 16  thread_social_pinterest_shares     5475 non-null   int64 \n",
      " 17  thread_social_vk_shares            5475 non-null   int64 \n",
      " 18  thread_social_linkedin_shares      5475 non-null   int64 \n",
      " 19  thread_social_facebook_likes       5475 non-null   int64 \n",
      " 20  thread_social_facebook_shares      5475 non-null   int64 \n",
      " 21  thread_social_facebook_comments    5475 non-null   int64 \n",
      " 22  thread_social_stumbledupon_shares  5475 non-null   int64 \n",
      " 23  thread_site_full                   5475 non-null   object\n",
      " 24  thread_main_image                  5475 non-null   object\n",
      " 25  thread_site_section                5475 non-null   object\n",
      " 26  thread_section_title               5475 non-null   object\n",
      " 27  thread_url                         5475 non-null   object\n",
      " 28  thread_country                     5475 non-null   object\n",
      " 29  thread_title                       5475 non-null   object\n",
      " 30  thread_performance_score           5475 non-null   int64 \n",
      " 31  thread_site                        5475 non-null   object\n",
      " 32  thread_participants_count          5475 non-null   int64 \n",
      " 33  thread_title_full                  5475 non-null   object\n",
      " 34  thread_spam_score                  5475 non-null   int64 \n",
      " 35  thread_site_type                   5475 non-null   object\n",
      " 36  thread_published                   5475 non-null   object\n",
      " 37  thread_replies_count               5475 non-null   int64 \n",
      " 38  thread_uuid                        5475 non-null   object\n",
      " 39  entities_persons                   5475 non-null   object\n",
      " 40  entities_locations                 5475 non-null   object\n",
      " 41  entities_organizations             5475 non-null   object\n",
      " 42  word_count                         5475 non-null   int64 \n",
      " 43  text_full                          5475 non-null   object\n",
      " 44  token_count                        5475 non-null   int64 \n",
      "dtypes: int64(15), object(30)\n",
      "memory usage: 2.0+ MB\n"
     ]
    }
   ],
   "source": [
    "unlabelled_news_articles.info()"
   ]
  },
  {
   "cell_type": "markdown",
   "metadata": {},
   "source": [
    "# Labelling our test, training and validation sets\n",
    "\n",
    "In the code below, we create the code to make requests in parallel to label our unlabelled news datasets"
   ]
  },
  {
   "cell_type": "markdown",
   "metadata": {},
   "source": [
    "## Make model requests\n",
    "\n",
    "Call the model here to get useful sentiment labels for our data."
   ]
  },
  {
   "cell_type": "code",
   "execution_count": 14,
   "metadata": {},
   "outputs": [],
   "source": [
    "# edit the code here for passing the data in the form of jsons\n",
    "\n",
    "# change the section here such that we have dictionary below instead for each completion.\n",
    "openai_client = AsyncOpenAI(\n",
    "    # This is the default and can be omitted\n",
    "    api_key=os.environ.get(\"OPENAI_API_KEY\"),\n",
    ")\n",
    "\n",
    "async def get_news_sentiment(semaphore: asyncio.Semaphore, record_dict: dict):\n",
    "    async with semaphore:\n",
    "\n",
    "        message = record_dict[\"text_full\"]\n",
    "\n",
    "        response = await openai_client.chat.completions.create(\n",
    "            messages=[\n",
    "                {\n",
    "                    \"role\": \"system\",\n",
    "                    \"content\": \"You are a news sentiment classifier, only return values -1, 0, 1 for negative, neutral and positive sentiment. Return only values -1, 0, 1\",\n",
    "                },\n",
    "                {\n",
    "                    \"role\": \"user\",\n",
    "                    \"content\": message,\n",
    "                }\n",
    "            ],\n",
    "            model=\"gpt-4-1106-preview\",\n",
    "            seed=30224\n",
    "        )\n",
    "\n",
    "        # add prediction \n",
    "        record_dict[\"prediction\"] = response.choices[0].message.content\n",
    "        # return {\"text\": message, \"prediction\": response.choices[0].message.content}\n",
    "\n",
    "        return record_dict\n",
    "\n",
    "# change this function to include a dataframe passed in instead!!\n",
    "\n",
    "async def main_sentiment_labelling(max_concurrent_requests: int, record_dict_lst) -> None:\n",
    "    # Use semaphore to control the number of concurrent requests\n",
    "    semaphore = asyncio.Semaphore(max_concurrent_requests)\n",
    "\n",
    "    # List of messages to be sent\n",
    "    # messages = [\"Say this is a test\", \"Say hello to Arunav\", \"Say hello to Gerardo\"]\n",
    "\n",
    "    # gather the tasks together\n",
    "    tasks = [get_news_sentiment(semaphore, record_dict) for record_dict in record_dict_lst]\n",
    "    results = await asyncio.gather(*tasks)\n",
    "\n",
    "\n",
    "    return list(results)\n",
    "\n"
   ]
  },
  {
   "cell_type": "markdown",
   "metadata": {},
   "source": [
    "## Labelling the test set\n",
    "\n",
    "The code below labels the test set automatically with GPT-4 by making 5 calls in parallel in batches\n",
    "\n",
    "We then save the test set data into the `test` folder."
   ]
  },
  {
   "cell_type": "code",
   "execution_count": 16,
   "metadata": {},
   "outputs": [],
   "source": [
    "MAX_CONCURRENT_REQUESTS = 5"
   ]
  },
  {
   "cell_type": "code",
   "execution_count": 17,
   "metadata": {},
   "outputs": [],
   "source": [
    "# call model requests\n",
    "\n",
    "manual_labelled_dict = await main_sentiment_labelling(MAX_CONCURRENT_REQUESTS, manual_review_df.to_dict(orient='records'))\n",
    "\n"
   ]
  },
  {
   "cell_type": "code",
   "execution_count": 18,
   "metadata": {},
   "outputs": [
    {
     "data": {
      "text/plain": [
       "(200, 46)"
      ]
     },
     "execution_count": 18,
     "metadata": {},
     "output_type": "execute_result"
    }
   ],
   "source": [
    "manual_labelled_dict_df = pd.DataFrame(manual_labelled_dict)\n",
    "\n",
    "manual_labelled_dict_df.shape"
   ]
  },
  {
   "cell_type": "code",
   "execution_count": 19,
   "metadata": {},
   "outputs": [
    {
     "name": "stdout",
     "output_type": "stream",
     "text": [
      "<class 'pandas.core.frame.DataFrame'>\n",
      "RangeIndex: 200 entries, 0 to 199\n",
      "Data columns (total 46 columns):\n",
      " #   Column                             Non-Null Count  Dtype \n",
      "---  ------                             --------------  ----- \n",
      " 0   organizations                      200 non-null    object\n",
      " 1   uuid                               200 non-null    object\n",
      " 2   author                             200 non-null    object\n",
      " 3   url                                200 non-null    object\n",
      " 4   ord_in_thread                      200 non-null    int64 \n",
      " 5   title                              200 non-null    object\n",
      " 6   locations                          200 non-null    object\n",
      " 7   highlightText                      200 non-null    object\n",
      " 8   language                           200 non-null    object\n",
      " 9   persons                            200 non-null    object\n",
      " 10  text                               200 non-null    object\n",
      " 11  external_links                     200 non-null    object\n",
      " 12  published                          200 non-null    object\n",
      " 13  crawled                            200 non-null    object\n",
      " 14  highlightTitle                     200 non-null    object\n",
      " 15  thread_social_gplus_shares         200 non-null    int64 \n",
      " 16  thread_social_pinterest_shares     200 non-null    int64 \n",
      " 17  thread_social_vk_shares            200 non-null    int64 \n",
      " 18  thread_social_linkedin_shares      200 non-null    int64 \n",
      " 19  thread_social_facebook_likes       200 non-null    int64 \n",
      " 20  thread_social_facebook_shares      200 non-null    int64 \n",
      " 21  thread_social_facebook_comments    200 non-null    int64 \n",
      " 22  thread_social_stumbledupon_shares  200 non-null    int64 \n",
      " 23  thread_site_full                   200 non-null    object\n",
      " 24  thread_main_image                  200 non-null    object\n",
      " 25  thread_site_section                200 non-null    object\n",
      " 26  thread_section_title               200 non-null    object\n",
      " 27  thread_url                         200 non-null    object\n",
      " 28  thread_country                     200 non-null    object\n",
      " 29  thread_title                       200 non-null    object\n",
      " 30  thread_performance_score           200 non-null    int64 \n",
      " 31  thread_site                        200 non-null    object\n",
      " 32  thread_participants_count          200 non-null    int64 \n",
      " 33  thread_title_full                  200 non-null    object\n",
      " 34  thread_spam_score                  200 non-null    int64 \n",
      " 35  thread_site_type                   200 non-null    object\n",
      " 36  thread_published                   200 non-null    object\n",
      " 37  thread_replies_count               200 non-null    int64 \n",
      " 38  thread_uuid                        200 non-null    object\n",
      " 39  entities_persons                   200 non-null    object\n",
      " 40  entities_locations                 200 non-null    object\n",
      " 41  entities_organizations             200 non-null    object\n",
      " 42  word_count                         200 non-null    int64 \n",
      " 43  text_full                          200 non-null    object\n",
      " 44  token_count                        200 non-null    int64 \n",
      " 45  prediction                         200 non-null    object\n",
      "dtypes: int64(15), object(31)\n",
      "memory usage: 72.0+ KB\n"
     ]
    }
   ],
   "source": [
    "manual_labelled_dict_df.info()"
   ]
  },
  {
   "cell_type": "code",
   "execution_count": 20,
   "metadata": {},
   "outputs": [
    {
     "data": {
      "text/html": [
       "<div>\n",
       "<style scoped>\n",
       "    .dataframe tbody tr th:only-of-type {\n",
       "        vertical-align: middle;\n",
       "    }\n",
       "\n",
       "    .dataframe tbody tr th {\n",
       "        vertical-align: top;\n",
       "    }\n",
       "\n",
       "    .dataframe thead th {\n",
       "        text-align: right;\n",
       "    }\n",
       "</style>\n",
       "<table border=\"1\" class=\"dataframe\">\n",
       "  <thead>\n",
       "    <tr style=\"text-align: right;\">\n",
       "      <th></th>\n",
       "      <th>organizations</th>\n",
       "      <th>uuid</th>\n",
       "      <th>author</th>\n",
       "      <th>url</th>\n",
       "      <th>ord_in_thread</th>\n",
       "      <th>title</th>\n",
       "      <th>locations</th>\n",
       "      <th>highlightText</th>\n",
       "      <th>language</th>\n",
       "      <th>persons</th>\n",
       "      <th>...</th>\n",
       "      <th>thread_published</th>\n",
       "      <th>thread_replies_count</th>\n",
       "      <th>thread_uuid</th>\n",
       "      <th>entities_persons</th>\n",
       "      <th>entities_locations</th>\n",
       "      <th>entities_organizations</th>\n",
       "      <th>word_count</th>\n",
       "      <th>text_full</th>\n",
       "      <th>token_count</th>\n",
       "      <th>prediction</th>\n",
       "    </tr>\n",
       "  </thead>\n",
       "  <tbody>\n",
       "    <tr>\n",
       "      <th>0</th>\n",
       "      <td>[]</td>\n",
       "      <td>9f44148d3b4ecc0c6a0fe60bde1e562a31ca9cc3</td>\n",
       "      <td></td>\n",
       "      <td>https://uk.finance.yahoo.com/news/european-sto...</td>\n",
       "      <td>0</td>\n",
       "      <td>European stocks shed more than one percent at ...</td>\n",
       "      <td>[]</td>\n",
       "      <td></td>\n",
       "      <td>english</td>\n",
       "      <td>[]</td>\n",
       "      <td>...</td>\n",
       "      <td>2015-08-26T11:28:00.000+03:00</td>\n",
       "      <td>0</td>\n",
       "      <td>9f44148d3b4ecc0c6a0fe60bde1e562a31ca9cc3</td>\n",
       "      <td>[]</td>\n",
       "      <td>[]</td>\n",
       "      <td>[]</td>\n",
       "      <td>355</td>\n",
       "      <td>European stocks shed more than one percent at ...</td>\n",
       "      <td>479</td>\n",
       "      <td>-1</td>\n",
       "    </tr>\n",
       "    <tr>\n",
       "      <th>1</th>\n",
       "      <td>[Samsung]</td>\n",
       "      <td>07040a0690d95f08a552bbad0eecde9618b196b3</td>\n",
       "      <td></td>\n",
       "      <td>https://uk.finance.yahoo.com/news/springer-sam...</td>\n",
       "      <td>0</td>\n",
       "      <td>Springer, Samsung to partner in mobile media</td>\n",
       "      <td>[]</td>\n",
       "      <td></td>\n",
       "      <td>english</td>\n",
       "      <td>[]</td>\n",
       "      <td>...</td>\n",
       "      <td>2015-09-01T11:29:00.000+03:00</td>\n",
       "      <td>0</td>\n",
       "      <td>07040a0690d95f08a552bbad0eecde9618b196b3</td>\n",
       "      <td>[]</td>\n",
       "      <td>[]</td>\n",
       "      <td>[]</td>\n",
       "      <td>332</td>\n",
       "      <td>Springer, Samsung to partner in mobile media\\n...</td>\n",
       "      <td>427</td>\n",
       "      <td>1</td>\n",
       "    </tr>\n",
       "    <tr>\n",
       "      <th>2</th>\n",
       "      <td>[EU]</td>\n",
       "      <td>7a390e558374d68b218918f4c28aa766c13a92f2</td>\n",
       "      <td></td>\n",
       "      <td>https://uk.finance.yahoo.com/news/labours-corb...</td>\n",
       "      <td>0</td>\n",
       "      <td>Labour's Corbyn says voted 'No' to Britain's E...</td>\n",
       "      <td>[Britain]</td>\n",
       "      <td></td>\n",
       "      <td>english</td>\n",
       "      <td>[Corbyn]</td>\n",
       "      <td>...</td>\n",
       "      <td>2015-09-10T21:48:00.000+03:00</td>\n",
       "      <td>0</td>\n",
       "      <td>7a390e558374d68b218918f4c28aa766c13a92f2</td>\n",
       "      <td>[]</td>\n",
       "      <td>[]</td>\n",
       "      <td>[]</td>\n",
       "      <td>229</td>\n",
       "      <td>Labour's Corbyn says voted 'No' to Britain's E...</td>\n",
       "      <td>308</td>\n",
       "      <td>0</td>\n",
       "    </tr>\n",
       "    <tr>\n",
       "      <th>3</th>\n",
       "      <td>[]</td>\n",
       "      <td>ab0359d7ee85020a4b8c99cb23df02aefb20d38f</td>\n",
       "      <td></td>\n",
       "      <td>https://uk.finance.yahoo.com/news/u-oil-extend...</td>\n",
       "      <td>0</td>\n",
       "      <td>U.S. oil extends gains on stock-draw, Brent mu...</td>\n",
       "      <td>[U.S., Asia]</td>\n",
       "      <td></td>\n",
       "      <td>english</td>\n",
       "      <td>[Henning Gloystein]</td>\n",
       "      <td>...</td>\n",
       "      <td>2015-09-16T06:17:00.000+03:00</td>\n",
       "      <td>0</td>\n",
       "      <td>ab0359d7ee85020a4b8c99cb23df02aefb20d38f</td>\n",
       "      <td>[]</td>\n",
       "      <td>[]</td>\n",
       "      <td>[]</td>\n",
       "      <td>350</td>\n",
       "      <td>U.S. oil extends gains on stock-draw, Brent mu...</td>\n",
       "      <td>461</td>\n",
       "      <td>0</td>\n",
       "    </tr>\n",
       "    <tr>\n",
       "      <th>4</th>\n",
       "      <td>[Imperial Tobacco, Bloomberg Terms]</td>\n",
       "      <td>ad32f3bc1e0528d1e1734813bd39c4ed496b9f9c</td>\n",
       "      <td></td>\n",
       "      <td>https://uk.finance.yahoo.com/news/imperial-tob...</td>\n",
       "      <td>0</td>\n",
       "      <td>Imperial Tobacco considering stake sale in Spa...</td>\n",
       "      <td>[Spain, Logista]</td>\n",
       "      <td></td>\n",
       "      <td>english</td>\n",
       "      <td>[]</td>\n",
       "      <td>...</td>\n",
       "      <td>2015-07-15T21:40:00.000+03:00</td>\n",
       "      <td>0</td>\n",
       "      <td>ad32f3bc1e0528d1e1734813bd39c4ed496b9f9c</td>\n",
       "      <td>[]</td>\n",
       "      <td>[]</td>\n",
       "      <td>[]</td>\n",
       "      <td>161</td>\n",
       "      <td>Imperial Tobacco considering stake sale in Spa...</td>\n",
       "      <td>210</td>\n",
       "      <td>0</td>\n",
       "    </tr>\n",
       "  </tbody>\n",
       "</table>\n",
       "<p>5 rows × 46 columns</p>\n",
       "</div>"
      ],
      "text/plain": [
       "                         organizations  \\\n",
       "0                                   []   \n",
       "1                            [Samsung]   \n",
       "2                                 [EU]   \n",
       "3                                   []   \n",
       "4  [Imperial Tobacco, Bloomberg Terms]   \n",
       "\n",
       "                                       uuid author  \\\n",
       "0  9f44148d3b4ecc0c6a0fe60bde1e562a31ca9cc3          \n",
       "1  07040a0690d95f08a552bbad0eecde9618b196b3          \n",
       "2  7a390e558374d68b218918f4c28aa766c13a92f2          \n",
       "3  ab0359d7ee85020a4b8c99cb23df02aefb20d38f          \n",
       "4  ad32f3bc1e0528d1e1734813bd39c4ed496b9f9c          \n",
       "\n",
       "                                                 url  ord_in_thread  \\\n",
       "0  https://uk.finance.yahoo.com/news/european-sto...              0   \n",
       "1  https://uk.finance.yahoo.com/news/springer-sam...              0   \n",
       "2  https://uk.finance.yahoo.com/news/labours-corb...              0   \n",
       "3  https://uk.finance.yahoo.com/news/u-oil-extend...              0   \n",
       "4  https://uk.finance.yahoo.com/news/imperial-tob...              0   \n",
       "\n",
       "                                               title         locations  \\\n",
       "0  European stocks shed more than one percent at ...                []   \n",
       "1       Springer, Samsung to partner in mobile media                []   \n",
       "2  Labour's Corbyn says voted 'No' to Britain's E...         [Britain]   \n",
       "3  U.S. oil extends gains on stock-draw, Brent mu...      [U.S., Asia]   \n",
       "4  Imperial Tobacco considering stake sale in Spa...  [Spain, Logista]   \n",
       "\n",
       "  highlightText language              persons  ...  \\\n",
       "0                english                   []  ...   \n",
       "1                english                   []  ...   \n",
       "2                english             [Corbyn]  ...   \n",
       "3                english  [Henning Gloystein]  ...   \n",
       "4                english                   []  ...   \n",
       "\n",
       "                thread_published thread_replies_count  \\\n",
       "0  2015-08-26T11:28:00.000+03:00                    0   \n",
       "1  2015-09-01T11:29:00.000+03:00                    0   \n",
       "2  2015-09-10T21:48:00.000+03:00                    0   \n",
       "3  2015-09-16T06:17:00.000+03:00                    0   \n",
       "4  2015-07-15T21:40:00.000+03:00                    0   \n",
       "\n",
       "                                thread_uuid entities_persons  \\\n",
       "0  9f44148d3b4ecc0c6a0fe60bde1e562a31ca9cc3               []   \n",
       "1  07040a0690d95f08a552bbad0eecde9618b196b3               []   \n",
       "2  7a390e558374d68b218918f4c28aa766c13a92f2               []   \n",
       "3  ab0359d7ee85020a4b8c99cb23df02aefb20d38f               []   \n",
       "4  ad32f3bc1e0528d1e1734813bd39c4ed496b9f9c               []   \n",
       "\n",
       "  entities_locations  entities_organizations  word_count  \\\n",
       "0                 []                      []         355   \n",
       "1                 []                      []         332   \n",
       "2                 []                      []         229   \n",
       "3                 []                      []         350   \n",
       "4                 []                      []         161   \n",
       "\n",
       "                                           text_full  token_count  prediction  \n",
       "0  European stocks shed more than one percent at ...          479          -1  \n",
       "1  Springer, Samsung to partner in mobile media\\n...          427           1  \n",
       "2  Labour's Corbyn says voted 'No' to Britain's E...          308           0  \n",
       "3  U.S. oil extends gains on stock-draw, Brent mu...          461           0  \n",
       "4  Imperial Tobacco considering stake sale in Spa...          210           0  \n",
       "\n",
       "[5 rows x 46 columns]"
      ]
     },
     "execution_count": 20,
     "metadata": {},
     "output_type": "execute_result"
    }
   ],
   "source": [
    "manual_labelled_dict_df.head()"
   ]
  },
  {
   "cell_type": "code",
   "execution_count": 21,
   "metadata": {},
   "outputs": [
    {
     "data": {
      "text/plain": [
       "0     92\n",
       "1     59\n",
       "-1    49\n",
       "Name: prediction, dtype: int64"
      ]
     },
     "execution_count": 21,
     "metadata": {},
     "output_type": "execute_result"
    }
   ],
   "source": [
    "# look at the breakdown of sentiments for news articles according to GPT-4\n",
    "\n",
    "manual_labelled_dict_df[\"prediction\"].value_counts()"
   ]
  },
  {
   "cell_type": "markdown",
   "metadata": {},
   "source": [
    "Next we output the results of our GPT-4 labelled test set."
   ]
  },
  {
   "cell_type": "code",
   "execution_count": 22,
   "metadata": {},
   "outputs": [],
   "source": [
    "manual_labelled_dict_df.to_json(\"test/manual_review_articles_bert_compliant_labelled.json\", orient=\"records\")"
   ]
  },
  {
   "cell_type": "code",
   "execution_count": 24,
   "metadata": {},
   "outputs": [],
   "source": [
    "manual_labelled_dict_df.to_csv(\"test/manual_review_articles_bert_compliant_labelled_add_human_labels.csv\", index = False)"
   ]
  },
  {
   "cell_type": "code",
   "execution_count": 5,
   "metadata": {},
   "outputs": [],
   "source": [
    "# create a graph of the data \n",
    "manual_labelled_dict_df = pd.read_csv(\"test/manual_review_articles_bert_compliant_labelled_add_human_labels.csv\")"
   ]
  },
  {
   "cell_type": "code",
   "execution_count": 7,
   "metadata": {},
   "outputs": [
    {
     "data": {
      "text/plain": [
       "Text(0.5, 1.0, 'Test Set Data Composition ')"
      ]
     },
     "execution_count": 7,
     "metadata": {},
     "output_type": "execute_result"
    },
    {
     "data": {
      "image/png": "[encoded data removed]",
      "text/plain": [
       "<Figure size 640x480 with 1 Axes>"
      ]
     },
     "metadata": {},
     "output_type": "display_data"
    }
   ],
   "source": [
    "manual_labelled_dict_df[\"prediction\"].value_counts().plot.bar(rot=0)\n",
    "plt.title(\"Test Set Data Composition \")"
   ]
  },
  {
   "cell_type": "markdown",
   "metadata": {},
   "source": [
    "# Labelling Training-Validation Set\n",
    "\n",
    "\n",
    "Next we label our training-validation set using GPT-4. We call the OpenAI API in parallel using 5 works in batches of 200, saving each batch in a individual json\n",
    "\n",
    "In particular, we try to avoid the limit hit of 500 requests per minute, with OpenAI declining our requests as a result\n",
    "\n",
    "We then save these data files in the `labelled_data` folder."
   ]
  },
  {
   "cell_type": "code",
   "execution_count": 25,
   "metadata": {},
   "outputs": [],
   "source": [
    "import json"
   ]
  },
  {
   "cell_type": "code",
   "execution_count": 26,
   "metadata": {},
   "outputs": [
    {
     "data": {
      "text/plain": [
       "(5475, 45)"
      ]
     },
     "execution_count": 26,
     "metadata": {},
     "output_type": "execute_result"
    }
   ],
   "source": [
    "# get the unlabelled data first\n",
    "\n",
    "unlabelled_news_articles.shape"
   ]
  },
  {
   "cell_type": "code",
   "execution_count": 27,
   "metadata": {},
   "outputs": [
    {
     "data": {
      "text/html": [
       "<div>\n",
       "<style scoped>\n",
       "    .dataframe tbody tr th:only-of-type {\n",
       "        vertical-align: middle;\n",
       "    }\n",
       "\n",
       "    .dataframe tbody tr th {\n",
       "        vertical-align: top;\n",
       "    }\n",
       "\n",
       "    .dataframe thead th {\n",
       "        text-align: right;\n",
       "    }\n",
       "</style>\n",
       "<table border=\"1\" class=\"dataframe\">\n",
       "  <thead>\n",
       "    <tr style=\"text-align: right;\">\n",
       "      <th></th>\n",
       "      <th>organizations</th>\n",
       "      <th>uuid</th>\n",
       "      <th>author</th>\n",
       "      <th>url</th>\n",
       "      <th>ord_in_thread</th>\n",
       "      <th>title</th>\n",
       "      <th>locations</th>\n",
       "      <th>highlightText</th>\n",
       "      <th>language</th>\n",
       "      <th>persons</th>\n",
       "      <th>...</th>\n",
       "      <th>thread_site_type</th>\n",
       "      <th>thread_published</th>\n",
       "      <th>thread_replies_count</th>\n",
       "      <th>thread_uuid</th>\n",
       "      <th>entities_persons</th>\n",
       "      <th>entities_locations</th>\n",
       "      <th>entities_organizations</th>\n",
       "      <th>word_count</th>\n",
       "      <th>text_full</th>\n",
       "      <th>token_count</th>\n",
       "    </tr>\n",
       "  </thead>\n",
       "  <tbody>\n",
       "    <tr>\n",
       "      <th>0</th>\n",
       "      <td>[]</td>\n",
       "      <td>a89e7019628a2389a579c60eefb374e9306d1778</td>\n",
       "      <td>Reuters</td>\n",
       "      <td>http://www.reuters.com/article/2015/07/29/anad...</td>\n",
       "      <td>0</td>\n",
       "      <td>Anadarko not interested in selling down Mozamb...</td>\n",
       "      <td>[]</td>\n",
       "      <td></td>\n",
       "      <td>english</td>\n",
       "      <td>[]</td>\n",
       "      <td>...</td>\n",
       "      <td>news</td>\n",
       "      <td>2015-07-29T18:33:00.000+03:00</td>\n",
       "      <td>0</td>\n",
       "      <td>a89e7019628a2389a579c60eefb374e9306d1778</td>\n",
       "      <td>[]</td>\n",
       "      <td>[]</td>\n",
       "      <td>[]</td>\n",
       "      <td>90</td>\n",
       "      <td>Anadarko not interested in selling down Mozamb...</td>\n",
       "      <td>123</td>\n",
       "    </tr>\n",
       "    <tr>\n",
       "      <th>1</th>\n",
       "      <td>[]</td>\n",
       "      <td>1a6be71bd6645447e7e5672573507168c017da25</td>\n",
       "      <td>Reuters</td>\n",
       "      <td>http://www.reuters.com/article/2015/07/29/euro...</td>\n",
       "      <td>0</td>\n",
       "      <td>Greek debt restructuring is inevitable, says I...</td>\n",
       "      <td>[]</td>\n",
       "      <td></td>\n",
       "      <td>english</td>\n",
       "      <td>[]</td>\n",
       "      <td>...</td>\n",
       "      <td>news</td>\n",
       "      <td>2015-07-29T19:08:00.000+03:00</td>\n",
       "      <td>0</td>\n",
       "      <td>1a6be71bd6645447e7e5672573507168c017da25</td>\n",
       "      <td>[]</td>\n",
       "      <td>[]</td>\n",
       "      <td>[]</td>\n",
       "      <td>264</td>\n",
       "      <td>Greek debt restructuring is inevitable, says I...</td>\n",
       "      <td>348</td>\n",
       "    </tr>\n",
       "    <tr>\n",
       "      <th>2</th>\n",
       "      <td>[]</td>\n",
       "      <td>16580551a1f07ca293ff47d84a1cb3b33cc96256</td>\n",
       "      <td>Reuters</td>\n",
       "      <td>http://www.reuters.com/article/2015/07/29/braz...</td>\n",
       "      <td>0</td>\n",
       "      <td>Brazil says remains committed with fiscal aust...</td>\n",
       "      <td>[]</td>\n",
       "      <td></td>\n",
       "      <td>english</td>\n",
       "      <td>[]</td>\n",
       "      <td>...</td>\n",
       "      <td>news</td>\n",
       "      <td>2015-07-29T05:02:00.000+03:00</td>\n",
       "      <td>0</td>\n",
       "      <td>16580551a1f07ca293ff47d84a1cb3b33cc96256</td>\n",
       "      <td>[]</td>\n",
       "      <td>[]</td>\n",
       "      <td>[]</td>\n",
       "      <td>100</td>\n",
       "      <td>Brazil says remains committed with fiscal aust...</td>\n",
       "      <td>124</td>\n",
       "    </tr>\n",
       "    <tr>\n",
       "      <th>3</th>\n",
       "      <td>[]</td>\n",
       "      <td>3f27c785332566ca97d5b5d21a473d1cfab72ea0</td>\n",
       "      <td>Reuters</td>\n",
       "      <td>http://www.reuters.com/article/2015/07/28/chev...</td>\n",
       "      <td>0</td>\n",
       "      <td>Chevron to lay off 1,500 workers amidst oil pr...</td>\n",
       "      <td>[]</td>\n",
       "      <td></td>\n",
       "      <td>english</td>\n",
       "      <td>[]</td>\n",
       "      <td>...</td>\n",
       "      <td>news</td>\n",
       "      <td>2015-07-29T02:20:00.000+03:00</td>\n",
       "      <td>0</td>\n",
       "      <td>3f27c785332566ca97d5b5d21a473d1cfab72ea0</td>\n",
       "      <td>[]</td>\n",
       "      <td>[]</td>\n",
       "      <td>[]</td>\n",
       "      <td>214</td>\n",
       "      <td>Chevron to lay off 1,500 workers amidst oil pr...</td>\n",
       "      <td>274</td>\n",
       "    </tr>\n",
       "    <tr>\n",
       "      <th>4</th>\n",
       "      <td>[]</td>\n",
       "      <td>971eceeefb1350eb7e03c05e88013d60e6dbb47b</td>\n",
       "      <td>Katie Linsell</td>\n",
       "      <td>http://www.bloomberg.com/news/articles/2015-07...</td>\n",
       "      <td>0</td>\n",
       "      <td>Junk Bondholders Weigh Emerging-Market Exit Fr...</td>\n",
       "      <td>[]</td>\n",
       "      <td></td>\n",
       "      <td>english</td>\n",
       "      <td>[]</td>\n",
       "      <td>...</td>\n",
       "      <td>news</td>\n",
       "      <td>2015-07-28T20:55:00.000+03:00</td>\n",
       "      <td>0</td>\n",
       "      <td>971eceeefb1350eb7e03c05e88013d60e6dbb47b</td>\n",
       "      <td>[]</td>\n",
       "      <td>[]</td>\n",
       "      <td>[]</td>\n",
       "      <td>371</td>\n",
       "      <td>Junk Bondholders Weigh Emerging-Market Exit Fr...</td>\n",
       "      <td>481</td>\n",
       "    </tr>\n",
       "  </tbody>\n",
       "</table>\n",
       "<p>5 rows × 45 columns</p>\n",
       "</div>"
      ],
      "text/plain": [
       "  organizations                                      uuid         author  \\\n",
       "0            []  a89e7019628a2389a579c60eefb374e9306d1778        Reuters   \n",
       "1            []  1a6be71bd6645447e7e5672573507168c017da25        Reuters   \n",
       "2            []  16580551a1f07ca293ff47d84a1cb3b33cc96256        Reuters   \n",
       "3            []  3f27c785332566ca97d5b5d21a473d1cfab72ea0        Reuters   \n",
       "4            []  971eceeefb1350eb7e03c05e88013d60e6dbb47b  Katie Linsell   \n",
       "\n",
       "                                                 url  ord_in_thread  \\\n",
       "0  http://www.reuters.com/article/2015/07/29/anad...              0   \n",
       "1  http://www.reuters.com/article/2015/07/29/euro...              0   \n",
       "2  http://www.reuters.com/article/2015/07/29/braz...              0   \n",
       "3  http://www.reuters.com/article/2015/07/28/chev...              0   \n",
       "4  http://www.bloomberg.com/news/articles/2015-07...              0   \n",
       "\n",
       "                                               title locations highlightText  \\\n",
       "0  Anadarko not interested in selling down Mozamb...        []                 \n",
       "1  Greek debt restructuring is inevitable, says I...        []                 \n",
       "2  Brazil says remains committed with fiscal aust...        []                 \n",
       "3  Chevron to lay off 1,500 workers amidst oil pr...        []                 \n",
       "4  Junk Bondholders Weigh Emerging-Market Exit Fr...        []                 \n",
       "\n",
       "  language persons  ... thread_site_type               thread_published  \\\n",
       "0  english      []  ...             news  2015-07-29T18:33:00.000+03:00   \n",
       "1  english      []  ...             news  2015-07-29T19:08:00.000+03:00   \n",
       "2  english      []  ...             news  2015-07-29T05:02:00.000+03:00   \n",
       "3  english      []  ...             news  2015-07-29T02:20:00.000+03:00   \n",
       "4  english      []  ...             news  2015-07-28T20:55:00.000+03:00   \n",
       "\n",
       "  thread_replies_count                               thread_uuid  \\\n",
       "0                    0  a89e7019628a2389a579c60eefb374e9306d1778   \n",
       "1                    0  1a6be71bd6645447e7e5672573507168c017da25   \n",
       "2                    0  16580551a1f07ca293ff47d84a1cb3b33cc96256   \n",
       "3                    0  3f27c785332566ca97d5b5d21a473d1cfab72ea0   \n",
       "4                    0  971eceeefb1350eb7e03c05e88013d60e6dbb47b   \n",
       "\n",
       "  entities_persons  entities_locations  entities_organizations  word_count  \\\n",
       "0               []                  []                      []          90   \n",
       "1               []                  []                      []         264   \n",
       "2               []                  []                      []         100   \n",
       "3               []                  []                      []         214   \n",
       "4               []                  []                      []         371   \n",
       "\n",
       "                                           text_full  token_count  \n",
       "0  Anadarko not interested in selling down Mozamb...          123  \n",
       "1  Greek debt restructuring is inevitable, says I...          348  \n",
       "2  Brazil says remains committed with fiscal aust...          124  \n",
       "3  Chevron to lay off 1,500 workers amidst oil pr...          274  \n",
       "4  Junk Bondholders Weigh Emerging-Market Exit Fr...          481  \n",
       "\n",
       "[5 rows x 45 columns]"
      ]
     },
     "execution_count": 27,
     "metadata": {},
     "output_type": "execute_result"
    }
   ],
   "source": [
    "unlabelled_news_articles.head() # data seems fine"
   ]
  },
  {
   "cell_type": "code",
   "execution_count": 31,
   "metadata": {},
   "outputs": [],
   "source": [
    "def batch_records(data, batch_size):\n",
    "    for i in range(0, len(data), batch_size):\n",
    "        yield data[i:i + batch_size]"
   ]
  },
  {
   "cell_type": "code",
   "execution_count": 32,
   "metadata": {},
   "outputs": [],
   "source": [
    "def save_news_batch_as_json(data, batch_index, folder='labelled_data'):\n",
    "    os.makedirs(folder, exist_ok=True)\n",
    "    file_path = os.path.join(folder, f'labelled_news_batch_{batch_index}.json')\n",
    "    with open(file_path, 'w') as file:\n",
    "        json.dump(data, file, ensure_ascii=False, indent=4)"
   ]
  },
  {
   "cell_type": "code",
   "execution_count": 33,
   "metadata": {},
   "outputs": [],
   "source": [
    "async def process_news_batches(list_of_dicts: list[dict], batch_size: int = 200):\n",
    "    batched_data = list(batch_records(list_of_dicts, batch_size))\n",
    "    for index, batch in enumerate(batched_data):\n",
    "    \n",
    "        # continue where previous code stoped\n",
    "        # if index <= 20:\n",
    "\n",
    "        #     continue\n",
    "\n",
    "        results = await main_sentiment_labelling(MAX_CONCURRENT_REQUESTS, batch)  # Assuming 5 concurrent requests\n",
    "        save_news_batch_as_json(results, index)\n",
    "\n",
    "        if index % 10 == 0:\n",
    "\n",
    "            print(\"Batch no: \", index, \" completed\")\n",
    "\n",
    "# asyncio.run(process_batches())\n"
   ]
  },
  {
   "cell_type": "code",
   "execution_count": 34,
   "metadata": {},
   "outputs": [],
   "source": [
    "unlabelled_news_articles_dict = unlabelled_news_articles.to_dict(orient=\"records\")"
   ]
  },
  {
   "cell_type": "code",
   "execution_count": 35,
   "metadata": {},
   "outputs": [
    {
     "name": "stdout",
     "output_type": "stream",
     "text": [
      "Batch no:  0  completed\n",
      "Batch no:  10  completed\n",
      "Batch no:  20  completed\n"
     ]
    }
   ],
   "source": [
    "# run the result on the jupyter notebook\n",
    "\n",
    "await process_news_batches(unlabelled_news_articles_dict)"
   ]
  },
  {
   "cell_type": "markdown",
   "metadata": {},
   "source": [
    "## Running Performance\n",
    "\n",
    "It takes around 16 minutes to run it, labelling much shorter than your own time.\n",
    "\n",
    "100 articles labelling for 30 minutes or more. (40 minutes - to check this.)\n",
    "\n",
    "Total budget - $20.24 dollars check the 29th December cost!!"
   ]
  },
  {
   "cell_type": "code",
   "execution_count": null,
   "metadata": {},
   "outputs": [],
   "source": [
    "# https://stackoverflow.com/questions/12309269/how-do-i-write-json-data-to-a-file"
   ]
  },
  {
   "cell_type": "markdown",
   "metadata": {},
   "source": [
    "# Concatenate all files in the labelled_data folder\n",
    "\n",
    "Here we concatenate all files in the labelled_data folder together to review the labelled data contents"
   ]
  },
  {
   "cell_type": "code",
   "execution_count": 36,
   "metadata": {},
   "outputs": [],
   "source": [
    "folder_path = \"labelled_data\"\n",
    "\n",
    "\n",
    "# Store all dataframes in a list\n",
    "dataframes = []\n",
    "\n",
    "# iterate over each file in the directory\n",
    "for filename in os.listdir(folder_path):\n",
    "    if filename.endswith('.json'):\n",
    "        file_path = os.path.join(folder_path, filename)\n",
    "        \n",
    "        # Open and load the JSON file\n",
    "        with open(file_path, 'r') as file:\n",
    "            json_data = json.load(file)\n",
    "            \n",
    "            # flatten the JSON data and convert to DataFrame\n",
    "            df = pd.json_normalize(json_data, sep='_')\n",
    "            dataframes.append(df)\n",
    "\n",
    "#concatenate all dataframes into a single one\n",
    "labelled_news_df = pd.concat(dataframes, ignore_index=True)\n"
   ]
  },
  {
   "cell_type": "code",
   "execution_count": 37,
   "metadata": {},
   "outputs": [
    {
     "name": "stdout",
     "output_type": "stream",
     "text": [
      "<class 'pandas.core.frame.DataFrame'>\n",
      "RangeIndex: 5475 entries, 0 to 5474\n",
      "Data columns (total 46 columns):\n",
      " #   Column                             Non-Null Count  Dtype \n",
      "---  ------                             --------------  ----- \n",
      " 0   organizations                      5475 non-null   object\n",
      " 1   uuid                               5475 non-null   object\n",
      " 2   author                             5475 non-null   object\n",
      " 3   url                                5475 non-null   object\n",
      " 4   ord_in_thread                      5475 non-null   int64 \n",
      " 5   title                              5475 non-null   object\n",
      " 6   locations                          5475 non-null   object\n",
      " 7   highlightText                      5475 non-null   object\n",
      " 8   language                           5475 non-null   object\n",
      " 9   persons                            5475 non-null   object\n",
      " 10  text                               5475 non-null   object\n",
      " 11  external_links                     5475 non-null   object\n",
      " 12  published                          5475 non-null   object\n",
      " 13  crawled                            5475 non-null   object\n",
      " 14  highlightTitle                     5475 non-null   object\n",
      " 15  thread_social_gplus_shares         5475 non-null   int64 \n",
      " 16  thread_social_pinterest_shares     5475 non-null   int64 \n",
      " 17  thread_social_vk_shares            5475 non-null   int64 \n",
      " 18  thread_social_linkedin_shares      5475 non-null   int64 \n",
      " 19  thread_social_facebook_likes       5475 non-null   int64 \n",
      " 20  thread_social_facebook_shares      5475 non-null   int64 \n",
      " 21  thread_social_facebook_comments    5475 non-null   int64 \n",
      " 22  thread_social_stumbledupon_shares  5475 non-null   int64 \n",
      " 23  thread_site_full                   5475 non-null   object\n",
      " 24  thread_main_image                  5475 non-null   object\n",
      " 25  thread_site_section                5475 non-null   object\n",
      " 26  thread_section_title               5475 non-null   object\n",
      " 27  thread_url                         5475 non-null   object\n",
      " 28  thread_country                     5475 non-null   object\n",
      " 29  thread_title                       5475 non-null   object\n",
      " 30  thread_performance_score           5475 non-null   int64 \n",
      " 31  thread_site                        5475 non-null   object\n",
      " 32  thread_participants_count          5475 non-null   int64 \n",
      " 33  thread_title_full                  5475 non-null   object\n",
      " 34  thread_spam_score                  5475 non-null   int64 \n",
      " 35  thread_site_type                   5475 non-null   object\n",
      " 36  thread_published                   5475 non-null   object\n",
      " 37  thread_replies_count               5475 non-null   int64 \n",
      " 38  thread_uuid                        5475 non-null   object\n",
      " 39  entities_persons                   5475 non-null   object\n",
      " 40  entities_locations                 5475 non-null   object\n",
      " 41  entities_organizations             5475 non-null   object\n",
      " 42  word_count                         5475 non-null   int64 \n",
      " 43  text_full                          5475 non-null   object\n",
      " 44  token_count                        5475 non-null   int64 \n",
      " 45  prediction                         5475 non-null   object\n",
      "dtypes: int64(15), object(31)\n",
      "memory usage: 1.9+ MB\n"
     ]
    }
   ],
   "source": [
    "labelled_news_df.info()"
   ]
  },
  {
   "cell_type": "code",
   "execution_count": 38,
   "metadata": {},
   "outputs": [
    {
     "data": {
      "text/plain": [
       "(5475, 46)"
      ]
     },
     "execution_count": 38,
     "metadata": {},
     "output_type": "execute_result"
    }
   ],
   "source": [
    "labelled_news_df.shape"
   ]
  },
  {
   "cell_type": "code",
   "execution_count": 39,
   "metadata": {},
   "outputs": [
    {
     "data": {
      "text/plain": [
       "0     2210\n",
       "-1    1950\n",
       "1     1315\n",
       "Name: prediction, dtype: int64"
      ]
     },
     "execution_count": 39,
     "metadata": {},
     "output_type": "execute_result"
    }
   ],
   "source": [
    "labelled_news_df[\"prediction\"].value_counts()"
   ]
  }
 ],
 "metadata": {
  "kernelspec": {
   "display_name": "base",
   "language": "python",
   "name": "python3"
  },
  "language_info": {
   "codemirror_mode": {
    "name": "ipython",
    "version": 3
   },
   "file_extension": ".py",
   "mimetype": "text/x-python",
   "name": "python",
   "nbconvert_exporter": "python",
   "pygments_lexer": "ipython3",
   "version": "3.11.3"
  }
 },
 "nbformat": 4,
 "nbformat_minor": 2
}
